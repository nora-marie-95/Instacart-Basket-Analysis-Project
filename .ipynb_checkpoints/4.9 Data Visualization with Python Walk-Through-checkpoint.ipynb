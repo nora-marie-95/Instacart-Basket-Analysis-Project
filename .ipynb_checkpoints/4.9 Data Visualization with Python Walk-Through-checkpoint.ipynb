{
 "cells": [
  {
   "cell_type": "markdown",
   "id": "6f61c10b",
   "metadata": {},
   "source": [
    "# Exercise Walk-Through"
   ]
  },
  {
   "cell_type": "markdown",
   "id": "5ea39a3e",
   "metadata": {},
   "source": [
    "## Table of Contents \n",
    "\n",
    "- 01 Installing and Importing Visualization Libraries\n",
    "- 02 Creating Bar Charts\n",
    "- 03 Exporting Charts\n",
    "- 04 Creating Histograms and Scatterplots\n",
    "- 05 Sampling Data"
   ]
  },
  {
   "cell_type": "markdown",
   "id": "89262fe3",
   "metadata": {},
   "source": [
    "## 01 Installing and Importing Visualization Libraries"
   ]
  },
  {
   "cell_type": "code",
   "execution_count": 2,
   "id": "d79cbae0",
   "metadata": {},
   "outputs": [],
   "source": [
    "# Import Libraries\n",
    "\n",
    "import pandas as pd\n",
    "import numpy as np\n",
    "import os\n",
    "import matplotlib.pyplot as plt\n",
    "import seaborn as sns\n",
    "import scipy"
   ]
  },
  {
   "cell_type": "code",
   "execution_count": 3,
   "id": "bd81713f",
   "metadata": {},
   "outputs": [],
   "source": [
    "# Create a project folder string\n",
    "\n",
    "path = r'/Users/nora/Desktop/Instacart Basket Analysis'"
   ]
  },
  {
   "cell_type": "code",
   "execution_count": 4,
   "id": "b3f99ccc",
   "metadata": {},
   "outputs": [],
   "source": [
    "# Import the data set\n",
    "\n",
    "ords_prods_merge = pd.read_pickle(os.path.join(path, '02 Data', 'Prepared Data', 'data_with_flags.pkl'))"
   ]
  },
  {
   "cell_type": "code",
   "execution_count": 5,
   "id": "4ac48284",
   "metadata": {},
   "outputs": [
    {
     "data": {
      "text/html": [
       "<div>\n",
       "<style scoped>\n",
       "    .dataframe tbody tr th:only-of-type {\n",
       "        vertical-align: middle;\n",
       "    }\n",
       "\n",
       "    .dataframe tbody tr th {\n",
       "        vertical-align: top;\n",
       "    }\n",
       "\n",
       "    .dataframe thead th {\n",
       "        text-align: right;\n",
       "    }\n",
       "</style>\n",
       "<table border=\"1\" class=\"dataframe\">\n",
       "  <thead>\n",
       "    <tr style=\"text-align: right;\">\n",
       "      <th></th>\n",
       "      <th>order_id</th>\n",
       "      <th>user_id</th>\n",
       "      <th>order_number</th>\n",
       "      <th>orders_day_of_week</th>\n",
       "      <th>order_hour_of_day</th>\n",
       "      <th>days_since_prior_order</th>\n",
       "      <th>first_order</th>\n",
       "      <th>product_id</th>\n",
       "      <th>add_to_cart_order</th>\n",
       "      <th>reordered</th>\n",
       "      <th>...</th>\n",
       "      <th>busiest day</th>\n",
       "      <th>Busiest days</th>\n",
       "      <th>time_period</th>\n",
       "      <th>busiest_period_of_day</th>\n",
       "      <th>max_order</th>\n",
       "      <th>loyalty_flag</th>\n",
       "      <th>average_price</th>\n",
       "      <th>spender_flag</th>\n",
       "      <th>median_days_since_prior_order</th>\n",
       "      <th>frequency_flag</th>\n",
       "    </tr>\n",
       "  </thead>\n",
       "  <tbody>\n",
       "    <tr>\n",
       "      <th>0</th>\n",
       "      <td>2539329</td>\n",
       "      <td>1</td>\n",
       "      <td>1</td>\n",
       "      <td>2</td>\n",
       "      <td>8</td>\n",
       "      <td>NaN</td>\n",
       "      <td>True</td>\n",
       "      <td>196</td>\n",
       "      <td>1</td>\n",
       "      <td>0</td>\n",
       "      <td>...</td>\n",
       "      <td>Regularly busy</td>\n",
       "      <td>Regularly busy</td>\n",
       "      <td>6am - 9am</td>\n",
       "      <td>Average orders</td>\n",
       "      <td>10</td>\n",
       "      <td>New customer</td>\n",
       "      <td>6.367797</td>\n",
       "      <td>Low Spender</td>\n",
       "      <td>20.5</td>\n",
       "      <td>Non-frequent customer</td>\n",
       "    </tr>\n",
       "    <tr>\n",
       "      <th>1</th>\n",
       "      <td>2398795</td>\n",
       "      <td>1</td>\n",
       "      <td>2</td>\n",
       "      <td>3</td>\n",
       "      <td>7</td>\n",
       "      <td>15.0</td>\n",
       "      <td>False</td>\n",
       "      <td>196</td>\n",
       "      <td>1</td>\n",
       "      <td>1</td>\n",
       "      <td>...</td>\n",
       "      <td>Regularly busy</td>\n",
       "      <td>Least busy</td>\n",
       "      <td>6am - 9am</td>\n",
       "      <td>Average orders</td>\n",
       "      <td>10</td>\n",
       "      <td>New customer</td>\n",
       "      <td>6.367797</td>\n",
       "      <td>Low Spender</td>\n",
       "      <td>20.5</td>\n",
       "      <td>Non-frequent customer</td>\n",
       "    </tr>\n",
       "    <tr>\n",
       "      <th>2</th>\n",
       "      <td>473747</td>\n",
       "      <td>1</td>\n",
       "      <td>3</td>\n",
       "      <td>3</td>\n",
       "      <td>12</td>\n",
       "      <td>21.0</td>\n",
       "      <td>False</td>\n",
       "      <td>196</td>\n",
       "      <td>1</td>\n",
       "      <td>1</td>\n",
       "      <td>...</td>\n",
       "      <td>Regularly busy</td>\n",
       "      <td>Least busy</td>\n",
       "      <td>10am - 13pm</td>\n",
       "      <td>Most orders</td>\n",
       "      <td>10</td>\n",
       "      <td>New customer</td>\n",
       "      <td>6.367797</td>\n",
       "      <td>Low Spender</td>\n",
       "      <td>20.5</td>\n",
       "      <td>Non-frequent customer</td>\n",
       "    </tr>\n",
       "    <tr>\n",
       "      <th>3</th>\n",
       "      <td>2254736</td>\n",
       "      <td>1</td>\n",
       "      <td>4</td>\n",
       "      <td>4</td>\n",
       "      <td>7</td>\n",
       "      <td>29.0</td>\n",
       "      <td>False</td>\n",
       "      <td>196</td>\n",
       "      <td>1</td>\n",
       "      <td>1</td>\n",
       "      <td>...</td>\n",
       "      <td>Least busy</td>\n",
       "      <td>Least busy</td>\n",
       "      <td>6am - 9am</td>\n",
       "      <td>Average orders</td>\n",
       "      <td>10</td>\n",
       "      <td>New customer</td>\n",
       "      <td>6.367797</td>\n",
       "      <td>Low Spender</td>\n",
       "      <td>20.5</td>\n",
       "      <td>Non-frequent customer</td>\n",
       "    </tr>\n",
       "    <tr>\n",
       "      <th>4</th>\n",
       "      <td>431534</td>\n",
       "      <td>1</td>\n",
       "      <td>5</td>\n",
       "      <td>4</td>\n",
       "      <td>15</td>\n",
       "      <td>28.0</td>\n",
       "      <td>False</td>\n",
       "      <td>196</td>\n",
       "      <td>1</td>\n",
       "      <td>1</td>\n",
       "      <td>...</td>\n",
       "      <td>Least busy</td>\n",
       "      <td>Least busy</td>\n",
       "      <td>14pm - 17pm</td>\n",
       "      <td>Average orders</td>\n",
       "      <td>10</td>\n",
       "      <td>New customer</td>\n",
       "      <td>6.367797</td>\n",
       "      <td>Low Spender</td>\n",
       "      <td>20.5</td>\n",
       "      <td>Non-frequent customer</td>\n",
       "    </tr>\n",
       "  </tbody>\n",
       "</table>\n",
       "<p>5 rows × 27 columns</p>\n",
       "</div>"
      ],
      "text/plain": [
       "   order_id  user_id  order_number  orders_day_of_week  order_hour_of_day  \\\n",
       "0   2539329        1             1                   2                  8   \n",
       "1   2398795        1             2                   3                  7   \n",
       "2    473747        1             3                   3                 12   \n",
       "3   2254736        1             4                   4                  7   \n",
       "4    431534        1             5                   4                 15   \n",
       "\n",
       "   days_since_prior_order  first_order  product_id  add_to_cart_order  \\\n",
       "0                     NaN         True         196                  1   \n",
       "1                    15.0        False         196                  1   \n",
       "2                    21.0        False         196                  1   \n",
       "3                    29.0        False         196                  1   \n",
       "4                    28.0        False         196                  1   \n",
       "\n",
       "   reordered  ...     busiest day    Busiest days  time_period  \\\n",
       "0          0  ...  Regularly busy  Regularly busy    6am - 9am   \n",
       "1          1  ...  Regularly busy      Least busy    6am - 9am   \n",
       "2          1  ...  Regularly busy      Least busy  10am - 13pm   \n",
       "3          1  ...      Least busy      Least busy    6am - 9am   \n",
       "4          1  ...      Least busy      Least busy  14pm - 17pm   \n",
       "\n",
       "   busiest_period_of_day  max_order  loyalty_flag average_price spender_flag  \\\n",
       "0         Average orders         10  New customer      6.367797  Low Spender   \n",
       "1         Average orders         10  New customer      6.367797  Low Spender   \n",
       "2            Most orders         10  New customer      6.367797  Low Spender   \n",
       "3         Average orders         10  New customer      6.367797  Low Spender   \n",
       "4         Average orders         10  New customer      6.367797  Low Spender   \n",
       "\n",
       "  median_days_since_prior_order         frequency_flag  \n",
       "0                          20.5  Non-frequent customer  \n",
       "1                          20.5  Non-frequent customer  \n",
       "2                          20.5  Non-frequent customer  \n",
       "3                          20.5  Non-frequent customer  \n",
       "4                          20.5  Non-frequent customer  \n",
       "\n",
       "[5 rows x 27 columns]"
      ]
     },
     "execution_count": 5,
     "metadata": {},
     "output_type": "execute_result"
    }
   ],
   "source": [
    "ords_prods_merge.head()"
   ]
  },
  {
   "cell_type": "markdown",
   "id": "6ec4b76c",
   "metadata": {},
   "source": [
    "## 02 Creating Bar Charts"
   ]
  },
  {
   "cell_type": "code",
   "execution_count": 6,
   "id": "1fa20a13",
   "metadata": {},
   "outputs": [
    {
     "data": {
      "text/plain": [
       "<AxesSubplot:>"
      ]
     },
     "execution_count": 6,
     "metadata": {},
     "output_type": "execute_result"
    },
    {
     "data": {
      "image/png": "[encoded data removed]",
      "text/plain": [
       "<Figure size 432x288 with 1 Axes>"
      ]
     },
     "metadata": {
      "needs_background": "light"
     },
     "output_type": "display_data"
    }
   ],
   "source": [
    "ords_prods_merge['orders_day_of_week'].value_counts().plot.bar()"
   ]
  },
  {
   "cell_type": "code",
   "execution_count": 7,
   "id": "7e68a984",
   "metadata": {},
   "outputs": [
    {
     "data": {
      "text/plain": [
       "<AxesSubplot:>"
      ]
     },
     "execution_count": 7,
     "metadata": {},
     "output_type": "execute_result"
    },
    {
     "data": {
      "image/png": "[encoded data removed]",
      "text/plain": [
       "<Figure size 432x288 with 1 Axes>"
      ]
     },
     "metadata": {
      "needs_background": "light"
     },
     "output_type": "display_data"
    }
   ],
   "source": [
    "# Changing the order of the x-axis \n",
    "\n",
    "ords_prods_merge['orders_day_of_week'].value_counts().sort_index().plot.bar()"
   ]
  },
  {
   "cell_type": "code",
   "execution_count": 8,
   "id": "6412873d",
   "metadata": {},
   "outputs": [
    {
     "data": {
      "image/png": "[encoded data removed]",
      "text/plain": [
       "<Figure size 432x288 with 1 Axes>"
      ]
     },
     "metadata": {
      "needs_background": "light"
     },
     "output_type": "display_data"
    }
   ],
   "source": [
    "# Adding colors\n",
    "\n",
    "bar = ords_prods_merge['orders_day_of_week'].value_counts().sort_index().plot.bar(color=['teal', 'cadetblue', 'steelblue', 'skyblue', 'lightseagreen', 'green', 'blue'])"
   ]
  },
  {
   "cell_type": "markdown",
   "id": "4290b43d",
   "metadata": {},
   "source": [
    "## 03 Exporting Charts"
   ]
  },
  {
   "cell_type": "code",
   "execution_count": 9,
   "id": "564d3744",
   "metadata": {},
   "outputs": [],
   "source": [
    "bar.figure.savefig(os.path.join(path, '04 Analysis','Visualizations', 'bar_orders_dow.png'))"
   ]
  },
  {
   "cell_type": "markdown",
   "id": "977d2b91",
   "metadata": {},
   "source": [
    "## 04 Creating Histograms and Scatterplots"
   ]
  },
  {
   "cell_type": "code",
   "execution_count": 10,
   "id": "db1d1c87",
   "metadata": {},
   "outputs": [
    {
     "data": {
      "text/plain": [
       "<AxesSubplot:ylabel='Frequency'>"
      ]
     },
     "execution_count": 10,
     "metadata": {},
     "output_type": "execute_result"
    },
    {
     "data": {
      "image/png": "[encoded data removed]",
      "text/plain": [
       "<Figure size 432x288 with 1 Axes>"
      ]
     },
     "metadata": {
      "needs_background": "light"
     },
     "output_type": "display_data"
    }
   ],
   "source": [
    "ords_prods_merge['prices'].plot.hist(bins = 25)"
   ]
  },
  {
   "cell_type": "code",
   "execution_count": 11,
   "id": "b28c4fa7",
   "metadata": {},
   "outputs": [
    {
     "data": {
      "text/plain": [
       "<AxesSubplot:xlabel='prices', ylabel='prices'>"
      ]
     },
     "execution_count": 11,
     "metadata": {},
     "output_type": "execute_result"
    },
    {
     "data": {
      "image/png": "[encoded data removed]",
      "text/plain": [
       "<Figure size 432x288 with 1 Axes>"
      ]
     },
     "metadata": {
      "needs_background": "light"
     },
     "output_type": "display_data"
    }
   ],
   "source": [
    "# Creating a scatterplot to identify outliers\n",
    "\n",
    "sns.scatterplot(x = 'prices', y = 'prices',data = ords_prods_merge)"
   ]
  },
  {
   "cell_type": "code",
   "execution_count": 12,
   "id": "e0c70bdb",
   "metadata": {},
   "outputs": [
    {
     "data": {
      "text/html": [
       "<div>\n",
       "<style scoped>\n",
       "    .dataframe tbody tr th:only-of-type {\n",
       "        vertical-align: middle;\n",
       "    }\n",
       "\n",
       "    .dataframe tbody tr th {\n",
       "        vertical-align: top;\n",
       "    }\n",
       "\n",
       "    .dataframe thead th {\n",
       "        text-align: right;\n",
       "    }\n",
       "</style>\n",
       "<table border=\"1\" class=\"dataframe\">\n",
       "  <thead>\n",
       "    <tr style=\"text-align: right;\">\n",
       "      <th></th>\n",
       "      <th>order_id</th>\n",
       "      <th>user_id</th>\n",
       "      <th>order_number</th>\n",
       "      <th>orders_day_of_week</th>\n",
       "      <th>order_hour_of_day</th>\n",
       "      <th>days_since_prior_order</th>\n",
       "      <th>first_order</th>\n",
       "      <th>product_id</th>\n",
       "      <th>add_to_cart_order</th>\n",
       "      <th>reordered</th>\n",
       "      <th>...</th>\n",
       "      <th>busiest day</th>\n",
       "      <th>Busiest days</th>\n",
       "      <th>time_period</th>\n",
       "      <th>busiest_period_of_day</th>\n",
       "      <th>max_order</th>\n",
       "      <th>loyalty_flag</th>\n",
       "      <th>average_price</th>\n",
       "      <th>spender_flag</th>\n",
       "      <th>median_days_since_prior_order</th>\n",
       "      <th>frequency_flag</th>\n",
       "    </tr>\n",
       "  </thead>\n",
       "  <tbody>\n",
       "    <tr>\n",
       "      <th>10030345</th>\n",
       "      <td>912404</td>\n",
       "      <td>17</td>\n",
       "      <td>12</td>\n",
       "      <td>2</td>\n",
       "      <td>14</td>\n",
       "      <td>5.0</td>\n",
       "      <td>False</td>\n",
       "      <td>21553</td>\n",
       "      <td>5</td>\n",
       "      <td>0</td>\n",
       "      <td>...</td>\n",
       "      <td>Regularly busy</td>\n",
       "      <td>Regularly busy</td>\n",
       "      <td>14pm - 17pm</td>\n",
       "      <td>Average orders</td>\n",
       "      <td>40</td>\n",
       "      <td>Regular customer</td>\n",
       "      <td>108.648299</td>\n",
       "      <td>High Spender</td>\n",
       "      <td>5.0</td>\n",
       "      <td>Frequent customer</td>\n",
       "    </tr>\n",
       "    <tr>\n",
       "      <th>10030346</th>\n",
       "      <td>603376</td>\n",
       "      <td>17</td>\n",
       "      <td>22</td>\n",
       "      <td>6</td>\n",
       "      <td>16</td>\n",
       "      <td>4.0</td>\n",
       "      <td>False</td>\n",
       "      <td>21553</td>\n",
       "      <td>3</td>\n",
       "      <td>1</td>\n",
       "      <td>...</td>\n",
       "      <td>Regularly busy</td>\n",
       "      <td>Regularly busy</td>\n",
       "      <td>14pm - 17pm</td>\n",
       "      <td>Average orders</td>\n",
       "      <td>40</td>\n",
       "      <td>Regular customer</td>\n",
       "      <td>108.648299</td>\n",
       "      <td>High Spender</td>\n",
       "      <td>5.0</td>\n",
       "      <td>Frequent customer</td>\n",
       "    </tr>\n",
       "    <tr>\n",
       "      <th>10030347</th>\n",
       "      <td>3264360</td>\n",
       "      <td>135</td>\n",
       "      <td>2</td>\n",
       "      <td>2</td>\n",
       "      <td>21</td>\n",
       "      <td>13.0</td>\n",
       "      <td>False</td>\n",
       "      <td>21553</td>\n",
       "      <td>6</td>\n",
       "      <td>0</td>\n",
       "      <td>...</td>\n",
       "      <td>Regularly busy</td>\n",
       "      <td>Regularly busy</td>\n",
       "      <td>18pm - 21pm</td>\n",
       "      <td>Average orders</td>\n",
       "      <td>4</td>\n",
       "      <td>New customer</td>\n",
       "      <td>1154.792308</td>\n",
       "      <td>High Spender</td>\n",
       "      <td>12.0</td>\n",
       "      <td>Regular customer</td>\n",
       "    </tr>\n",
       "    <tr>\n",
       "      <th>10030348</th>\n",
       "      <td>892534</td>\n",
       "      <td>135</td>\n",
       "      <td>3</td>\n",
       "      <td>0</td>\n",
       "      <td>8</td>\n",
       "      <td>12.0</td>\n",
       "      <td>False</td>\n",
       "      <td>21553</td>\n",
       "      <td>3</td>\n",
       "      <td>1</td>\n",
       "      <td>...</td>\n",
       "      <td>Busiest day</td>\n",
       "      <td>Busiest days</td>\n",
       "      <td>6am - 9am</td>\n",
       "      <td>Average orders</td>\n",
       "      <td>4</td>\n",
       "      <td>New customer</td>\n",
       "      <td>1154.792308</td>\n",
       "      <td>High Spender</td>\n",
       "      <td>12.0</td>\n",
       "      <td>Regular customer</td>\n",
       "    </tr>\n",
       "    <tr>\n",
       "      <th>10030349</th>\n",
       "      <td>229704</td>\n",
       "      <td>342</td>\n",
       "      <td>8</td>\n",
       "      <td>1</td>\n",
       "      <td>19</td>\n",
       "      <td>30.0</td>\n",
       "      <td>False</td>\n",
       "      <td>21553</td>\n",
       "      <td>9</td>\n",
       "      <td>0</td>\n",
       "      <td>...</td>\n",
       "      <td>Regularly busy</td>\n",
       "      <td>Busiest days</td>\n",
       "      <td>18pm - 21pm</td>\n",
       "      <td>Average orders</td>\n",
       "      <td>16</td>\n",
       "      <td>Regular customer</td>\n",
       "      <td>114.426619</td>\n",
       "      <td>High Spender</td>\n",
       "      <td>23.0</td>\n",
       "      <td>Non-frequent customer</td>\n",
       "    </tr>\n",
       "    <tr>\n",
       "      <th>...</th>\n",
       "      <td>...</td>\n",
       "      <td>...</td>\n",
       "      <td>...</td>\n",
       "      <td>...</td>\n",
       "      <td>...</td>\n",
       "      <td>...</td>\n",
       "      <td>...</td>\n",
       "      <td>...</td>\n",
       "      <td>...</td>\n",
       "      <td>...</td>\n",
       "      <td>...</td>\n",
       "      <td>...</td>\n",
       "      <td>...</td>\n",
       "      <td>...</td>\n",
       "      <td>...</td>\n",
       "      <td>...</td>\n",
       "      <td>...</td>\n",
       "      <td>...</td>\n",
       "      <td>...</td>\n",
       "      <td>...</td>\n",
       "      <td>...</td>\n",
       "    </tr>\n",
       "    <tr>\n",
       "      <th>29166209</th>\n",
       "      <td>2249946</td>\n",
       "      <td>204099</td>\n",
       "      <td>29</td>\n",
       "      <td>0</td>\n",
       "      <td>8</td>\n",
       "      <td>4.0</td>\n",
       "      <td>False</td>\n",
       "      <td>33664</td>\n",
       "      <td>1</td>\n",
       "      <td>0</td>\n",
       "      <td>...</td>\n",
       "      <td>Busiest day</td>\n",
       "      <td>Busiest days</td>\n",
       "      <td>6am - 9am</td>\n",
       "      <td>Average orders</td>\n",
       "      <td>39</td>\n",
       "      <td>Regular customer</td>\n",
       "      <td>1106.743956</td>\n",
       "      <td>High Spender</td>\n",
       "      <td>4.0</td>\n",
       "      <td>Frequent customer</td>\n",
       "    </tr>\n",
       "    <tr>\n",
       "      <th>29166210</th>\n",
       "      <td>2363282</td>\n",
       "      <td>204099</td>\n",
       "      <td>31</td>\n",
       "      <td>0</td>\n",
       "      <td>9</td>\n",
       "      <td>2.0</td>\n",
       "      <td>False</td>\n",
       "      <td>33664</td>\n",
       "      <td>1</td>\n",
       "      <td>1</td>\n",
       "      <td>...</td>\n",
       "      <td>Busiest day</td>\n",
       "      <td>Busiest days</td>\n",
       "      <td>6am - 9am</td>\n",
       "      <td>Average orders</td>\n",
       "      <td>39</td>\n",
       "      <td>Regular customer</td>\n",
       "      <td>1106.743956</td>\n",
       "      <td>High Spender</td>\n",
       "      <td>4.0</td>\n",
       "      <td>Frequent customer</td>\n",
       "    </tr>\n",
       "    <tr>\n",
       "      <th>29166211</th>\n",
       "      <td>3181945</td>\n",
       "      <td>204395</td>\n",
       "      <td>13</td>\n",
       "      <td>3</td>\n",
       "      <td>15</td>\n",
       "      <td>8.0</td>\n",
       "      <td>False</td>\n",
       "      <td>33664</td>\n",
       "      <td>25</td>\n",
       "      <td>0</td>\n",
       "      <td>...</td>\n",
       "      <td>Regularly busy</td>\n",
       "      <td>Least busy</td>\n",
       "      <td>14pm - 17pm</td>\n",
       "      <td>Average orders</td>\n",
       "      <td>15</td>\n",
       "      <td>Regular customer</td>\n",
       "      <td>451.153540</td>\n",
       "      <td>High Spender</td>\n",
       "      <td>5.0</td>\n",
       "      <td>Frequent customer</td>\n",
       "    </tr>\n",
       "    <tr>\n",
       "      <th>29166212</th>\n",
       "      <td>2486215</td>\n",
       "      <td>205227</td>\n",
       "      <td>7</td>\n",
       "      <td>3</td>\n",
       "      <td>20</td>\n",
       "      <td>4.0</td>\n",
       "      <td>False</td>\n",
       "      <td>33664</td>\n",
       "      <td>8</td>\n",
       "      <td>0</td>\n",
       "      <td>...</td>\n",
       "      <td>Regularly busy</td>\n",
       "      <td>Least busy</td>\n",
       "      <td>18pm - 21pm</td>\n",
       "      <td>Average orders</td>\n",
       "      <td>12</td>\n",
       "      <td>Regular customer</td>\n",
       "      <td>1178.381871</td>\n",
       "      <td>High Spender</td>\n",
       "      <td>12.0</td>\n",
       "      <td>Regular customer</td>\n",
       "    </tr>\n",
       "    <tr>\n",
       "      <th>29166213</th>\n",
       "      <td>2232716</td>\n",
       "      <td>205227</td>\n",
       "      <td>10</td>\n",
       "      <td>0</td>\n",
       "      <td>11</td>\n",
       "      <td>4.0</td>\n",
       "      <td>False</td>\n",
       "      <td>33664</td>\n",
       "      <td>23</td>\n",
       "      <td>1</td>\n",
       "      <td>...</td>\n",
       "      <td>Busiest day</td>\n",
       "      <td>Busiest days</td>\n",
       "      <td>10am - 13pm</td>\n",
       "      <td>Most orders</td>\n",
       "      <td>12</td>\n",
       "      <td>Regular customer</td>\n",
       "      <td>1178.381871</td>\n",
       "      <td>High Spender</td>\n",
       "      <td>12.0</td>\n",
       "      <td>Regular customer</td>\n",
       "    </tr>\n",
       "  </tbody>\n",
       "</table>\n",
       "<p>5127 rows × 27 columns</p>\n",
       "</div>"
      ],
      "text/plain": [
       "          order_id  user_id  order_number  orders_day_of_week  \\\n",
       "10030345    912404       17            12                   2   \n",
       "10030346    603376       17            22                   6   \n",
       "10030347   3264360      135             2                   2   \n",
       "10030348    892534      135             3                   0   \n",
       "10030349    229704      342             8                   1   \n",
       "...            ...      ...           ...                 ...   \n",
       "29166209   2249946   204099            29                   0   \n",
       "29166210   2363282   204099            31                   0   \n",
       "29166211   3181945   204395            13                   3   \n",
       "29166212   2486215   205227             7                   3   \n",
       "29166213   2232716   205227            10                   0   \n",
       "\n",
       "          order_hour_of_day  days_since_prior_order  first_order  product_id  \\\n",
       "10030345                 14                     5.0        False       21553   \n",
       "10030346                 16                     4.0        False       21553   \n",
       "10030347                 21                    13.0        False       21553   \n",
       "10030348                  8                    12.0        False       21553   \n",
       "10030349                 19                    30.0        False       21553   \n",
       "...                     ...                     ...          ...         ...   \n",
       "29166209                  8                     4.0        False       33664   \n",
       "29166210                  9                     2.0        False       33664   \n",
       "29166211                 15                     8.0        False       33664   \n",
       "29166212                 20                     4.0        False       33664   \n",
       "29166213                 11                     4.0        False       33664   \n",
       "\n",
       "          add_to_cart_order  reordered  ...     busiest day    Busiest days  \\\n",
       "10030345                  5          0  ...  Regularly busy  Regularly busy   \n",
       "10030346                  3          1  ...  Regularly busy  Regularly busy   \n",
       "10030347                  6          0  ...  Regularly busy  Regularly busy   \n",
       "10030348                  3          1  ...     Busiest day    Busiest days   \n",
       "10030349                  9          0  ...  Regularly busy    Busiest days   \n",
       "...                     ...        ...  ...             ...             ...   \n",
       "29166209                  1          0  ...     Busiest day    Busiest days   \n",
       "29166210                  1          1  ...     Busiest day    Busiest days   \n",
       "29166211                 25          0  ...  Regularly busy      Least busy   \n",
       "29166212                  8          0  ...  Regularly busy      Least busy   \n",
       "29166213                 23          1  ...     Busiest day    Busiest days   \n",
       "\n",
       "          time_period  busiest_period_of_day  max_order      loyalty_flag  \\\n",
       "10030345  14pm - 17pm         Average orders         40  Regular customer   \n",
       "10030346  14pm - 17pm         Average orders         40  Regular customer   \n",
       "10030347  18pm - 21pm         Average orders          4      New customer   \n",
       "10030348    6am - 9am         Average orders          4      New customer   \n",
       "10030349  18pm - 21pm         Average orders         16  Regular customer   \n",
       "...               ...                    ...        ...               ...   \n",
       "29166209    6am - 9am         Average orders         39  Regular customer   \n",
       "29166210    6am - 9am         Average orders         39  Regular customer   \n",
       "29166211  14pm - 17pm         Average orders         15  Regular customer   \n",
       "29166212  18pm - 21pm         Average orders         12  Regular customer   \n",
       "29166213  10am - 13pm            Most orders         12  Regular customer   \n",
       "\n",
       "         average_price  spender_flag median_days_since_prior_order  \\\n",
       "10030345    108.648299  High Spender                           5.0   \n",
       "10030346    108.648299  High Spender                           5.0   \n",
       "10030347   1154.792308  High Spender                          12.0   \n",
       "10030348   1154.792308  High Spender                          12.0   \n",
       "10030349    114.426619  High Spender                          23.0   \n",
       "...                ...           ...                           ...   \n",
       "29166209   1106.743956  High Spender                           4.0   \n",
       "29166210   1106.743956  High Spender                           4.0   \n",
       "29166211    451.153540  High Spender                           5.0   \n",
       "29166212   1178.381871  High Spender                          12.0   \n",
       "29166213   1178.381871  High Spender                          12.0   \n",
       "\n",
       "                 frequency_flag  \n",
       "10030345      Frequent customer  \n",
       "10030346      Frequent customer  \n",
       "10030347       Regular customer  \n",
       "10030348       Regular customer  \n",
       "10030349  Non-frequent customer  \n",
       "...                         ...  \n",
       "29166209      Frequent customer  \n",
       "29166210      Frequent customer  \n",
       "29166211      Frequent customer  \n",
       "29166212       Regular customer  \n",
       "29166213       Regular customer  \n",
       "\n",
       "[5127 rows x 27 columns]"
      ]
     },
     "execution_count": 12,
     "metadata": {},
     "output_type": "execute_result"
    }
   ],
   "source": [
    "# Identify outliers\n",
    "\n",
    "ords_prods_merge.loc[ords_prods_merge['prices'] > 100]"
   ]
  },
  {
   "cell_type": "code",
   "execution_count": 13,
   "id": "27c5fa1c",
   "metadata": {},
   "outputs": [],
   "source": [
    "# Marking outliers as missing vlaues\n",
    "\n",
    "ords_prods_merge.loc[ords_prods_merge['prices'] >100, 'prices'] = np.nan"
   ]
  },
  {
   "cell_type": "code",
   "execution_count": 14,
   "id": "69a0bfd2",
   "metadata": {},
   "outputs": [
    {
     "data": {
      "text/plain": [
       "25.0"
      ]
     },
     "execution_count": 14,
     "metadata": {},
     "output_type": "execute_result"
    }
   ],
   "source": [
    "# Check whether replacement was successful\n",
    "\n",
    "ords_prods_merge['prices'].max()"
   ]
  },
  {
   "cell_type": "code",
   "execution_count": 15,
   "id": "6a364b9b",
   "metadata": {},
   "outputs": [
    {
     "data": {
      "image/png": "[encoded data removed]",
      "text/plain": [
       "<Figure size 432x288 with 1 Axes>"
      ]
     },
     "metadata": {
      "needs_background": "light"
     },
     "output_type": "display_data"
    }
   ],
   "source": [
    "# Retry histogram \n",
    "\n",
    "hist = ords_prods_merge['prices'].plot.hist(bins = 25)"
   ]
  },
  {
   "cell_type": "code",
   "execution_count": 16,
   "id": "ba7fb4e6",
   "metadata": {},
   "outputs": [],
   "source": [
    "# Exporting histogram\n",
    "\n",
    "hist.figure.savefig(os.path.join(path, '04 Analysis','Visualizations', 'hist_prices.png'))"
   ]
  },
  {
   "cell_type": "markdown",
   "id": "c05a7154",
   "metadata": {},
   "source": [
    "## 05 Sampling Data"
   ]
  },
  {
   "cell_type": "code",
   "execution_count": 18,
   "id": "ffe81d14",
   "metadata": {},
   "outputs": [],
   "source": [
    "# Create a list holding True/False values to test np.random.rant()\n",
    "\n",
    "np.random.seed(4)\n",
    "dev = np.random.rand(len(ords_prods_merge)) <= 0.7"
   ]
  },
  {
   "cell_type": "code",
   "execution_count": 19,
   "id": "59bf44af",
   "metadata": {},
   "outputs": [],
   "source": [
    "# Store 70% of the sample in the dataframe big \n",
    "\n",
    "big = ords_prods_merge[dev]"
   ]
  },
  {
   "cell_type": "code",
   "execution_count": 23,
   "id": "b653b345",
   "metadata": {},
   "outputs": [],
   "source": [
    "# Store 30% of the sample in the dataframe small\n",
    "\n",
    "small = ords_prods_merge[~dev]"
   ]
  },
  {
   "cell_type": "code",
   "execution_count": 24,
   "id": "9e4eb7fb",
   "metadata": {},
   "outputs": [
    {
     "data": {
      "text/plain": [
       "32404859"
      ]
     },
     "execution_count": 24,
     "metadata": {},
     "output_type": "execute_result"
    }
   ],
   "source": [
    "len(ords_prods_merge)"
   ]
  },
  {
   "cell_type": "code",
   "execution_count": 25,
   "id": "a31f5c31",
   "metadata": {},
   "outputs": [
    {
     "data": {
      "text/plain": [
       "19442196"
      ]
     },
     "execution_count": 25,
     "metadata": {},
     "output_type": "execute_result"
    }
   ],
   "source": [
    "len(big) + len(small)"
   ]
  },
  {
   "cell_type": "code",
   "execution_count": 28,
   "id": "62078109",
   "metadata": {},
   "outputs": [],
   "source": [
    "# Chosing necessary columns \n",
    "\n",
    "df_2 = small[['orders_day_of_week','prices']]"
   ]
  },
  {
   "cell_type": "code",
   "execution_count": 30,
   "id": "9123ec25",
   "metadata": {},
   "outputs": [
    {
     "data": {
      "image/png": "[encoded data removed]",
      "text/plain": [
       "<Figure size 432x288 with 1 Axes>"
      ]
     },
     "metadata": {
      "needs_background": "light"
     },
     "output_type": "display_data"
    }
   ],
   "source": [
    "# Creating a chart \n",
    "\n",
    "line = sns.lineplot(data = df_2, x = 'orders_day_of_week',y = 'prices')"
   ]
  },
  {
   "cell_type": "code",
   "execution_count": 31,
   "id": "5cda551a",
   "metadata": {},
   "outputs": [],
   "source": [
    "df4 = ords_prods_merge[['orders_day_of_week', 'prices']]"
   ]
  }
 ],
 "metadata": {
  "kernelspec": {
   "display_name": "Python 3",
   "language": "python",
   "name": "python3"
  },
  "language_info": {
   "codemirror_mode": {
    "name": "ipython",
    "version": 3
   },
   "file_extension": ".py",
   "mimetype": "text/x-python",
   "name": "python",
   "nbconvert_exporter": "python",
   "pygments_lexer": "ipython3",
   "version": "3.8.8"
  }
 },
 "nbformat": 4,
 "nbformat_minor": 5
}
