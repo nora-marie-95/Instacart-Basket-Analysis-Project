{
 "cells": [
  {
   "cell_type": "markdown",
   "id": "7ae21104",
   "metadata": {},
   "source": [
    "# Table of Contents \n",
    "\n",
    "### 01. Importing Libraries \n",
    "### 02. Working with Data Types"
   ]
  },
  {
   "cell_type": "markdown",
   "id": "dc72df16",
   "metadata": {},
   "source": [
    "# 01. Importing Libraries"
   ]
  },
  {
   "cell_type": "code",
   "execution_count": 33,
   "id": "7399334a",
   "metadata": {},
   "outputs": [],
   "source": [
    "# import libraries"
   ]
  },
  {
   "cell_type": "code",
   "execution_count": 34,
   "id": "5d85e9bd",
   "metadata": {},
   "outputs": [],
   "source": [
    "import pandas as pd"
   ]
  },
  {
   "cell_type": "code",
   "execution_count": 35,
   "id": "fa7f8339",
   "metadata": {},
   "outputs": [],
   "source": [
    "import numpy as np"
   ]
  },
  {
   "cell_type": "code",
   "execution_count": 36,
   "id": "f5bd3a77",
   "metadata": {},
   "outputs": [],
   "source": [
    "import os"
   ]
  },
  {
   "cell_type": "markdown",
   "id": "9b41bc0b",
   "metadata": {},
   "source": [
    "# 02. Working with Data Types"
   ]
  },
  {
   "cell_type": "code",
   "execution_count": 37,
   "id": "4efb71c8",
   "metadata": {},
   "outputs": [],
   "source": [
    "# Code 3 different ways of reaching a result of 100 by adding or substracting numeric variables"
   ]
  },
  {
   "cell_type": "code",
   "execution_count": 38,
   "id": "15ab56e2",
   "metadata": {},
   "outputs": [],
   "source": [
    "a = 101 - 1"
   ]
  },
  {
   "cell_type": "code",
   "execution_count": 39,
   "id": "8a7dc237",
   "metadata": {},
   "outputs": [],
   "source": [
    "b = 98 + 2"
   ]
  },
  {
   "cell_type": "code",
   "execution_count": 40,
   "id": "71e9b76d",
   "metadata": {},
   "outputs": [],
   "source": [
    "c = 63 + 37"
   ]
  },
  {
   "cell_type": "code",
   "execution_count": 41,
   "id": "e429c722",
   "metadata": {},
   "outputs": [
    {
     "name": "stdout",
     "output_type": "stream",
     "text": [
      "100 100 100\n"
     ]
    }
   ],
   "source": [
    "print(a,b,c)"
   ]
  },
  {
   "cell_type": "code",
   "execution_count": 42,
   "id": "c94f7835",
   "metadata": {},
   "outputs": [],
   "source": [
    "# Code 2 floating-point variables and divide them by each other"
   ]
  },
  {
   "cell_type": "code",
   "execution_count": 43,
   "id": "687ba19b",
   "metadata": {},
   "outputs": [],
   "source": [
    "d = 1.456"
   ]
  },
  {
   "cell_type": "code",
   "execution_count": 44,
   "id": "02154cd9",
   "metadata": {},
   "outputs": [],
   "source": [
    "e = 2.432"
   ]
  },
  {
   "cell_type": "code",
   "execution_count": 45,
   "id": "6e54a7f3",
   "metadata": {},
   "outputs": [],
   "source": [
    "f = e - d"
   ]
  },
  {
   "cell_type": "code",
   "execution_count": 46,
   "id": "1ab38307",
   "metadata": {},
   "outputs": [
    {
     "name": "stdout",
     "output_type": "stream",
     "text": [
      "0.976\n"
     ]
    }
   ],
   "source": [
    "print(f)"
   ]
  },
  {
   "cell_type": "code",
   "execution_count": 47,
   "id": "387c018c",
   "metadata": {},
   "outputs": [],
   "source": [
    "# Construct a short word made of separate strings"
   ]
  },
  {
   "cell_type": "code",
   "execution_count": 48,
   "id": "108b655a",
   "metadata": {},
   "outputs": [],
   "source": [
    "g = 'data '"
   ]
  },
  {
   "cell_type": "code",
   "execution_count": 49,
   "id": "8706b1ac",
   "metadata": {},
   "outputs": [],
   "source": [
    "h = 'analysis'"
   ]
  },
  {
   "cell_type": "code",
   "execution_count": 50,
   "id": "f9c94861",
   "metadata": {},
   "outputs": [
    {
     "name": "stdout",
     "output_type": "stream",
     "text": [
      "data analysis\n"
     ]
    }
   ],
   "source": [
    "print(g+h)"
   ]
  },
  {
   "cell_type": "code",
   "execution_count": 51,
   "id": "ac4ecb5d",
   "metadata": {},
   "outputs": [],
   "source": [
    "# Construct 2 short sentences made of separate strings"
   ]
  },
  {
   "cell_type": "code",
   "execution_count": 52,
   "id": "218b55d3",
   "metadata": {},
   "outputs": [],
   "source": [
    "i = 'I '"
   ]
  },
  {
   "cell_type": "code",
   "execution_count": 53,
   "id": "d1f5a52a",
   "metadata": {},
   "outputs": [],
   "source": [
    "j = 'like '"
   ]
  },
  {
   "cell_type": "code",
   "execution_count": 54,
   "id": "102b10f0",
   "metadata": {},
   "outputs": [],
   "source": [
    "k = 'Pasta.'"
   ]
  },
  {
   "cell_type": "code",
   "execution_count": 55,
   "id": "81a1c4d4",
   "metadata": {},
   "outputs": [
    {
     "name": "stdout",
     "output_type": "stream",
     "text": [
      "I  like  Pasta.\n"
     ]
    }
   ],
   "source": [
    "print(i,j,k)"
   ]
  },
  {
   "cell_type": "code",
   "execution_count": 56,
   "id": "4fcd8121",
   "metadata": {},
   "outputs": [],
   "source": [
    "l = 'Today '"
   ]
  },
  {
   "cell_type": "code",
   "execution_count": 57,
   "id": "efef2014",
   "metadata": {},
   "outputs": [],
   "source": [
    "m = 'is '"
   ]
  },
  {
   "cell_type": "code",
   "execution_count": 58,
   "id": "d5a0a448",
   "metadata": {},
   "outputs": [],
   "source": [
    "n = 'Monday!'"
   ]
  },
  {
   "cell_type": "code",
   "execution_count": 59,
   "id": "a702b803",
   "metadata": {},
   "outputs": [
    {
     "name": "stdout",
     "output_type": "stream",
     "text": [
      "Today  is  Monday!\n"
     ]
    }
   ],
   "source": [
    "print(l,m,n)"
   ]
  },
  {
   "cell_type": "code",
   "execution_count": null,
   "id": "a7776f7e",
   "metadata": {},
   "outputs": [],
   "source": []
  }
 ],
 "metadata": {
  "kernelspec": {
   "display_name": "Python 3",
   "language": "python",
   "name": "python3"
  },
  "language_info": {
   "codemirror_mode": {
    "name": "ipython",
    "version": 3
   },
   "file_extension": ".py",
   "mimetype": "text/x-python",
   "name": "python",
   "nbconvert_exporter": "python",
   "pygments_lexer": "ipython3",
   "version": "3.8.8"
  }
 },
 "nbformat": 4,
 "nbformat_minor": 5
}
