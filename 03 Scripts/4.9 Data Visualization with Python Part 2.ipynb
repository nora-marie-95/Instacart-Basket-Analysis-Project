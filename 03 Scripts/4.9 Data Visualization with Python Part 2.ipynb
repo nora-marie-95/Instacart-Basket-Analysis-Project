{
 "cells": [
  {
   "cell_type": "markdown",
   "id": "8d5890ac",
   "metadata": {},
   "source": [
    "# Creating Visualizations "
   ]
  },
  {
   "cell_type": "markdown",
   "id": "5f243aa9",
   "metadata": {},
   "source": [
    "## Table of Contents\n",
    "- Ex 1. Import libraries and data\n",
    "- Ex 2. Create a bar chart, histogram and line chart\n",
    "- Ex 3. Histogram for order_hour_of_day column\n",
    "- Ex 4. Bar chart for loyalty_flag column\n",
    "- Ex 5. Line chart for prices per hour of the day\n",
    "- Ex 6. Line chart age and number of dependents\n",
    "- Ex 7. Scatterplot for age and income variables"
   ]
  },
  {
   "cell_type": "markdown",
   "id": "041cda34",
   "metadata": {},
   "source": [
    "### Ex 1. Import libraries and data "
   ]
  },
  {
   "cell_type": "markdown",
   "id": "63c6bde4",
   "metadata": {},
   "source": [
    "1. Create a new notebook, import the necessary analysis and visualization libraries, then import your most up-to-date project data (i.e., the data set with your new customer data from the first part of this task)."
   ]
  },
  {
   "cell_type": "code",
   "execution_count": 1,
   "id": "15ef7627",
   "metadata": {},
   "outputs": [],
   "source": [
    "# Import Libraries\n",
    "\n",
    "import pandas as pd\n",
    "import numpy as np\n",
    "import os\n",
    "import matplotlib.pyplot as plt\n",
    "import seaborn as sns\n",
    "import scipy"
   ]
  },
  {
   "cell_type": "code",
   "execution_count": 2,
   "id": "af228285",
   "metadata": {},
   "outputs": [],
   "source": [
    "# Create a project folder string\n",
    "\n",
    "path = r'/Users/nora/Desktop/Instacart Basket Analysis'"
   ]
  },
  {
   "cell_type": "code",
   "execution_count": 3,
   "id": "1355be4a",
   "metadata": {},
   "outputs": [],
   "source": [
    "# Import newest data set\n",
    "\n",
    "df_large = pd.read_pickle(os.path.join(path, '02 Data', 'Prepared Data', 'df_ords_prods_customers.pkl'))"
   ]
  },
  {
   "cell_type": "code",
   "execution_count": 4,
   "id": "13e24c98",
   "metadata": {},
   "outputs": [
    {
     "data": {
      "text/html": [
       "<div>\n",
       "<style scoped>\n",
       "    .dataframe tbody tr th:only-of-type {\n",
       "        vertical-align: middle;\n",
       "    }\n",
       "\n",
       "    .dataframe tbody tr th {\n",
       "        vertical-align: top;\n",
       "    }\n",
       "\n",
       "    .dataframe thead th {\n",
       "        text-align: right;\n",
       "    }\n",
       "</style>\n",
       "<table border=\"1\" class=\"dataframe\">\n",
       "  <thead>\n",
       "    <tr style=\"text-align: right;\">\n",
       "      <th></th>\n",
       "      <th>order_id</th>\n",
       "      <th>user_id</th>\n",
       "      <th>order_number</th>\n",
       "      <th>orders_day_of_week</th>\n",
       "      <th>order_hour_of_day</th>\n",
       "      <th>days_since_prior_order</th>\n",
       "      <th>first_order</th>\n",
       "      <th>product_id</th>\n",
       "      <th>add_to_cart_order</th>\n",
       "      <th>reordered</th>\n",
       "      <th>...</th>\n",
       "      <th>First Name</th>\n",
       "      <th>Surname</th>\n",
       "      <th>Gender</th>\n",
       "      <th>STATE</th>\n",
       "      <th>Age</th>\n",
       "      <th>date_joined</th>\n",
       "      <th>n_dependants</th>\n",
       "      <th>fam_status</th>\n",
       "      <th>income</th>\n",
       "      <th>merge</th>\n",
       "    </tr>\n",
       "  </thead>\n",
       "  <tbody>\n",
       "    <tr>\n",
       "      <th>0</th>\n",
       "      <td>2539329</td>\n",
       "      <td>1</td>\n",
       "      <td>1</td>\n",
       "      <td>2</td>\n",
       "      <td>8</td>\n",
       "      <td>NaN</td>\n",
       "      <td>True</td>\n",
       "      <td>196</td>\n",
       "      <td>1</td>\n",
       "      <td>0</td>\n",
       "      <td>...</td>\n",
       "      <td>Linda</td>\n",
       "      <td>Nguyen</td>\n",
       "      <td>Female</td>\n",
       "      <td>Alabama</td>\n",
       "      <td>31</td>\n",
       "      <td>2/17/2019</td>\n",
       "      <td>3</td>\n",
       "      <td>married</td>\n",
       "      <td>40423</td>\n",
       "      <td>both</td>\n",
       "    </tr>\n",
       "    <tr>\n",
       "      <th>1</th>\n",
       "      <td>2398795</td>\n",
       "      <td>1</td>\n",
       "      <td>2</td>\n",
       "      <td>3</td>\n",
       "      <td>7</td>\n",
       "      <td>15.0</td>\n",
       "      <td>False</td>\n",
       "      <td>196</td>\n",
       "      <td>1</td>\n",
       "      <td>1</td>\n",
       "      <td>...</td>\n",
       "      <td>Linda</td>\n",
       "      <td>Nguyen</td>\n",
       "      <td>Female</td>\n",
       "      <td>Alabama</td>\n",
       "      <td>31</td>\n",
       "      <td>2/17/2019</td>\n",
       "      <td>3</td>\n",
       "      <td>married</td>\n",
       "      <td>40423</td>\n",
       "      <td>both</td>\n",
       "    </tr>\n",
       "    <tr>\n",
       "      <th>2</th>\n",
       "      <td>473747</td>\n",
       "      <td>1</td>\n",
       "      <td>3</td>\n",
       "      <td>3</td>\n",
       "      <td>12</td>\n",
       "      <td>21.0</td>\n",
       "      <td>False</td>\n",
       "      <td>196</td>\n",
       "      <td>1</td>\n",
       "      <td>1</td>\n",
       "      <td>...</td>\n",
       "      <td>Linda</td>\n",
       "      <td>Nguyen</td>\n",
       "      <td>Female</td>\n",
       "      <td>Alabama</td>\n",
       "      <td>31</td>\n",
       "      <td>2/17/2019</td>\n",
       "      <td>3</td>\n",
       "      <td>married</td>\n",
       "      <td>40423</td>\n",
       "      <td>both</td>\n",
       "    </tr>\n",
       "    <tr>\n",
       "      <th>3</th>\n",
       "      <td>2254736</td>\n",
       "      <td>1</td>\n",
       "      <td>4</td>\n",
       "      <td>4</td>\n",
       "      <td>7</td>\n",
       "      <td>29.0</td>\n",
       "      <td>False</td>\n",
       "      <td>196</td>\n",
       "      <td>1</td>\n",
       "      <td>1</td>\n",
       "      <td>...</td>\n",
       "      <td>Linda</td>\n",
       "      <td>Nguyen</td>\n",
       "      <td>Female</td>\n",
       "      <td>Alabama</td>\n",
       "      <td>31</td>\n",
       "      <td>2/17/2019</td>\n",
       "      <td>3</td>\n",
       "      <td>married</td>\n",
       "      <td>40423</td>\n",
       "      <td>both</td>\n",
       "    </tr>\n",
       "    <tr>\n",
       "      <th>4</th>\n",
       "      <td>431534</td>\n",
       "      <td>1</td>\n",
       "      <td>5</td>\n",
       "      <td>4</td>\n",
       "      <td>15</td>\n",
       "      <td>28.0</td>\n",
       "      <td>False</td>\n",
       "      <td>196</td>\n",
       "      <td>1</td>\n",
       "      <td>1</td>\n",
       "      <td>...</td>\n",
       "      <td>Linda</td>\n",
       "      <td>Nguyen</td>\n",
       "      <td>Female</td>\n",
       "      <td>Alabama</td>\n",
       "      <td>31</td>\n",
       "      <td>2/17/2019</td>\n",
       "      <td>3</td>\n",
       "      <td>married</td>\n",
       "      <td>40423</td>\n",
       "      <td>both</td>\n",
       "    </tr>\n",
       "  </tbody>\n",
       "</table>\n",
       "<p>5 rows × 37 columns</p>\n",
       "</div>"
      ],
      "text/plain": [
       "   order_id  user_id  order_number  orders_day_of_week  order_hour_of_day  \\\n",
       "0   2539329        1             1                   2                  8   \n",
       "1   2398795        1             2                   3                  7   \n",
       "2    473747        1             3                   3                 12   \n",
       "3   2254736        1             4                   4                  7   \n",
       "4    431534        1             5                   4                 15   \n",
       "\n",
       "   days_since_prior_order  first_order  product_id  add_to_cart_order  \\\n",
       "0                     NaN         True         196                  1   \n",
       "1                    15.0        False         196                  1   \n",
       "2                    21.0        False         196                  1   \n",
       "3                    29.0        False         196                  1   \n",
       "4                    28.0        False         196                  1   \n",
       "\n",
       "   reordered  ... First Name  Surname  Gender    STATE  Age  date_joined  \\\n",
       "0          0  ...      Linda   Nguyen  Female  Alabama   31    2/17/2019   \n",
       "1          1  ...      Linda   Nguyen  Female  Alabama   31    2/17/2019   \n",
       "2          1  ...      Linda   Nguyen  Female  Alabama   31    2/17/2019   \n",
       "3          1  ...      Linda   Nguyen  Female  Alabama   31    2/17/2019   \n",
       "4          1  ...      Linda   Nguyen  Female  Alabama   31    2/17/2019   \n",
       "\n",
       "  n_dependants fam_status income merge  \n",
       "0            3    married  40423  both  \n",
       "1            3    married  40423  both  \n",
       "2            3    married  40423  both  \n",
       "3            3    married  40423  both  \n",
       "4            3    married  40423  both  \n",
       "\n",
       "[5 rows x 37 columns]"
      ]
     },
     "execution_count": 4,
     "metadata": {},
     "output_type": "execute_result"
    }
   ],
   "source": [
    "df_large.head()"
   ]
  },
  {
   "cell_type": "code",
   "execution_count": 5,
   "id": "7d1d8255",
   "metadata": {},
   "outputs": [
    {
     "data": {
      "text/plain": [
       "Index(['order_id', 'user_id', 'order_number', 'orders_day_of_week',\n",
       "       'order_hour_of_day', 'days_since_prior_order', 'first_order',\n",
       "       'product_id', 'add_to_cart_order', 'reordered', '_merge',\n",
       "       'Unnamed: 0_y', 'product_name', 'aisle_id', 'department_id', 'prices',\n",
       "       'price_range_loc', 'busiest day', 'Busiest days', 'time_period',\n",
       "       'busiest_period_of_day', 'max_order', 'loyalty_flag', 'average_price',\n",
       "       'spender_flag', 'median_days_since_prior_order', 'frequency_flag',\n",
       "       'First Name', 'Surname', 'Gender', 'STATE', 'Age', 'date_joined',\n",
       "       'n_dependants', 'fam_status', 'income', 'merge'],\n",
       "      dtype='object')"
      ]
     },
     "execution_count": 5,
     "metadata": {},
     "output_type": "execute_result"
    }
   ],
   "source": [
    "df_large.columns"
   ]
  },
  {
   "cell_type": "code",
   "execution_count": 6,
   "id": "94ca4c7e",
   "metadata": {},
   "outputs": [],
   "source": [
    "# Drop unnecessary columns \n",
    "\n",
    "df_large = df_large.drop(['Unnamed: 0_y'], axis = 1)"
   ]
  },
  {
   "cell_type": "code",
   "execution_count": 7,
   "id": "e211f936",
   "metadata": {},
   "outputs": [],
   "source": [
    "df_large = df_large.drop(['merge'], axis = 1)"
   ]
  },
  {
   "cell_type": "markdown",
   "id": "9c093f4f",
   "metadata": {},
   "source": [
    "### Ex 2. Create a bar chart, histogram and line chart"
   ]
  },
  {
   "cell_type": "markdown",
   "id": "ad0d8717",
   "metadata": {},
   "source": [
    "2. If you haven’t done so already, follow the instructions in the Exercise to create a bar chart, a histogram, a scatterplot, and a line chart, using a sample subset for the line chart."
   ]
  },
  {
   "cell_type": "code",
   "execution_count": 8,
   "id": "380566f2",
   "metadata": {},
   "outputs": [
    {
     "data": {
      "text/plain": [
       "<AxesSubplot:>"
      ]
     },
     "execution_count": 8,
     "metadata": {},
     "output_type": "execute_result"
    },
    {
     "data": {
      "image/png": "[encoded data removed]",
      "text/plain": [
       "<Figure size 432x288 with 1 Axes>"
      ]
     },
     "metadata": {
      "needs_background": "light"
     },
     "output_type": "display_data"
    }
   ],
   "source": [
    "# Create a bar chart\n",
    "\n",
    "df_large['orders_day_of_week'].value_counts().plot.bar()"
   ]
  },
  {
   "cell_type": "code",
   "execution_count": 9,
   "id": "0d7c6acf",
   "metadata": {},
   "outputs": [
    {
     "data": {
      "text/plain": [
       "Text(0.5, 1.0, 'Busiest days of the week')"
      ]
     },
     "execution_count": 9,
     "metadata": {},
     "output_type": "execute_result"
    },
    {
     "data": {
      "image/png": "[encoded data removed]",
      "text/plain": [
       "<Figure size 432x288 with 1 Axes>"
      ]
     },
     "metadata": {
      "needs_background": "light"
     },
     "output_type": "display_data"
    }
   ],
   "source": [
    "# Adding colors\n",
    "\n",
    "bar_orders_weekday = df_large['orders_day_of_week'].value_counts().sort_index().plot.bar(color=['teal', 'cadetblue', 'steelblue', 'skyblue', 'lightseagreen', 'green', 'blue'])\n",
    "plt.title('Busiest days of the week')"
   ]
  },
  {
   "cell_type": "code",
   "execution_count": 10,
   "id": "2e900961",
   "metadata": {},
   "outputs": [],
   "source": [
    "# Exporting the bar chart \n",
    "\n",
    "bar_orders_weekday.figure.savefig(os.path.join(path, '04 Analysis','Visualizations', 'bar_orders_dow.png'))"
   ]
  },
  {
   "cell_type": "code",
   "execution_count": 11,
   "id": "f14f63f8",
   "metadata": {},
   "outputs": [
    {
     "data": {
      "text/plain": [
       "<AxesSubplot:ylabel='Frequency'>"
      ]
     },
     "execution_count": 11,
     "metadata": {},
     "output_type": "execute_result"
    },
    {
     "data": {
      "image/png": "[encoded data removed]",
      "text/plain": [
       "<Figure size 432x288 with 1 Axes>"
      ]
     },
     "metadata": {
      "needs_background": "light"
     },
     "output_type": "display_data"
    }
   ],
   "source": [
    "# Create a histogram\n",
    "\n",
    "df_large['prices'].plot.hist(bins = 25)"
   ]
  },
  {
   "cell_type": "code",
   "execution_count": 12,
   "id": "43bf1b7b",
   "metadata": {},
   "outputs": [
    {
     "data": {
      "text/plain": [
       "<AxesSubplot:xlabel='prices', ylabel='prices'>"
      ]
     },
     "execution_count": 12,
     "metadata": {},
     "output_type": "execute_result"
    },
    {
     "data": {
      "image/png": "[encoded data removed]",
      "text/plain": [
       "<Figure size 432x288 with 1 Axes>"
      ]
     },
     "metadata": {
      "needs_background": "light"
     },
     "output_type": "display_data"
    }
   ],
   "source": [
    "# Creating a scatterplot to identify outliers\n",
    "\n",
    "sns.scatterplot(x = 'prices', y = 'prices',data = df_large)"
   ]
  },
  {
   "cell_type": "code",
   "execution_count": 13,
   "id": "86d1d565",
   "metadata": {},
   "outputs": [
    {
     "data": {
      "text/html": [
       "<div>\n",
       "<style scoped>\n",
       "    .dataframe tbody tr th:only-of-type {\n",
       "        vertical-align: middle;\n",
       "    }\n",
       "\n",
       "    .dataframe tbody tr th {\n",
       "        vertical-align: top;\n",
       "    }\n",
       "\n",
       "    .dataframe thead th {\n",
       "        text-align: right;\n",
       "    }\n",
       "</style>\n",
       "<table border=\"1\" class=\"dataframe\">\n",
       "  <thead>\n",
       "    <tr style=\"text-align: right;\">\n",
       "      <th></th>\n",
       "      <th>order_id</th>\n",
       "      <th>user_id</th>\n",
       "      <th>order_number</th>\n",
       "      <th>orders_day_of_week</th>\n",
       "      <th>order_hour_of_day</th>\n",
       "      <th>days_since_prior_order</th>\n",
       "      <th>first_order</th>\n",
       "      <th>product_id</th>\n",
       "      <th>add_to_cart_order</th>\n",
       "      <th>reordered</th>\n",
       "      <th>...</th>\n",
       "      <th>frequency_flag</th>\n",
       "      <th>First Name</th>\n",
       "      <th>Surname</th>\n",
       "      <th>Gender</th>\n",
       "      <th>STATE</th>\n",
       "      <th>Age</th>\n",
       "      <th>date_joined</th>\n",
       "      <th>n_dependants</th>\n",
       "      <th>fam_status</th>\n",
       "      <th>income</th>\n",
       "    </tr>\n",
       "  </thead>\n",
       "  <tbody>\n",
       "    <tr>\n",
       "      <th>7805</th>\n",
       "      <td>1435153</td>\n",
       "      <td>1519</td>\n",
       "      <td>26</td>\n",
       "      <td>2</td>\n",
       "      <td>11</td>\n",
       "      <td>6.0</td>\n",
       "      <td>False</td>\n",
       "      <td>21553</td>\n",
       "      <td>15</td>\n",
       "      <td>0</td>\n",
       "      <td>...</td>\n",
       "      <td>Frequent customer</td>\n",
       "      <td>Craig</td>\n",
       "      <td>Clark</td>\n",
       "      <td>Male</td>\n",
       "      <td>Rhode Island</td>\n",
       "      <td>68</td>\n",
       "      <td>3/4/2020</td>\n",
       "      <td>0</td>\n",
       "      <td>divorced/widowed</td>\n",
       "      <td>177864</td>\n",
       "    </tr>\n",
       "    <tr>\n",
       "      <th>7806</th>\n",
       "      <td>1066435</td>\n",
       "      <td>1519</td>\n",
       "      <td>32</td>\n",
       "      <td>3</td>\n",
       "      <td>10</td>\n",
       "      <td>5.0</td>\n",
       "      <td>False</td>\n",
       "      <td>21553</td>\n",
       "      <td>28</td>\n",
       "      <td>1</td>\n",
       "      <td>...</td>\n",
       "      <td>Frequent customer</td>\n",
       "      <td>Craig</td>\n",
       "      <td>Clark</td>\n",
       "      <td>Male</td>\n",
       "      <td>Rhode Island</td>\n",
       "      <td>68</td>\n",
       "      <td>3/4/2020</td>\n",
       "      <td>0</td>\n",
       "      <td>divorced/widowed</td>\n",
       "      <td>177864</td>\n",
       "    </tr>\n",
       "    <tr>\n",
       "      <th>15143</th>\n",
       "      <td>1697208</td>\n",
       "      <td>2409</td>\n",
       "      <td>33</td>\n",
       "      <td>1</td>\n",
       "      <td>19</td>\n",
       "      <td>5.0</td>\n",
       "      <td>False</td>\n",
       "      <td>21553</td>\n",
       "      <td>1</td>\n",
       "      <td>0</td>\n",
       "      <td>...</td>\n",
       "      <td>Frequent customer</td>\n",
       "      <td>Nicole</td>\n",
       "      <td>Odonnell</td>\n",
       "      <td>Female</td>\n",
       "      <td>Hawaii</td>\n",
       "      <td>55</td>\n",
       "      <td>11/11/2018</td>\n",
       "      <td>2</td>\n",
       "      <td>married</td>\n",
       "      <td>230074</td>\n",
       "    </tr>\n",
       "    <tr>\n",
       "      <th>20264</th>\n",
       "      <td>965345</td>\n",
       "      <td>3531</td>\n",
       "      <td>27</td>\n",
       "      <td>2</td>\n",
       "      <td>19</td>\n",
       "      <td>8.0</td>\n",
       "      <td>False</td>\n",
       "      <td>33664</td>\n",
       "      <td>2</td>\n",
       "      <td>0</td>\n",
       "      <td>...</td>\n",
       "      <td>Frequent customer</td>\n",
       "      <td>Alice</td>\n",
       "      <td>Compton</td>\n",
       "      <td>Female</td>\n",
       "      <td>Hawaii</td>\n",
       "      <td>80</td>\n",
       "      <td>10/6/2019</td>\n",
       "      <td>2</td>\n",
       "      <td>married</td>\n",
       "      <td>233776</td>\n",
       "    </tr>\n",
       "    <tr>\n",
       "      <th>20497</th>\n",
       "      <td>2943740</td>\n",
       "      <td>3793</td>\n",
       "      <td>1</td>\n",
       "      <td>2</td>\n",
       "      <td>9</td>\n",
       "      <td>NaN</td>\n",
       "      <td>True</td>\n",
       "      <td>21553</td>\n",
       "      <td>3</td>\n",
       "      <td>0</td>\n",
       "      <td>...</td>\n",
       "      <td>Regular customer</td>\n",
       "      <td>Jerry</td>\n",
       "      <td>Allen</td>\n",
       "      <td>Male</td>\n",
       "      <td>Louisiana</td>\n",
       "      <td>59</td>\n",
       "      <td>8/23/2019</td>\n",
       "      <td>3</td>\n",
       "      <td>married</td>\n",
       "      <td>182933</td>\n",
       "    </tr>\n",
       "    <tr>\n",
       "      <th>...</th>\n",
       "      <td>...</td>\n",
       "      <td>...</td>\n",
       "      <td>...</td>\n",
       "      <td>...</td>\n",
       "      <td>...</td>\n",
       "      <td>...</td>\n",
       "      <td>...</td>\n",
       "      <td>...</td>\n",
       "      <td>...</td>\n",
       "      <td>...</td>\n",
       "      <td>...</td>\n",
       "      <td>...</td>\n",
       "      <td>...</td>\n",
       "      <td>...</td>\n",
       "      <td>...</td>\n",
       "      <td>...</td>\n",
       "      <td>...</td>\n",
       "      <td>...</td>\n",
       "      <td>...</td>\n",
       "      <td>...</td>\n",
       "      <td>...</td>\n",
       "    </tr>\n",
       "    <tr>\n",
       "      <th>32303799</th>\n",
       "      <td>3265389</td>\n",
       "      <td>51346</td>\n",
       "      <td>4</td>\n",
       "      <td>1</td>\n",
       "      <td>17</td>\n",
       "      <td>13.0</td>\n",
       "      <td>False</td>\n",
       "      <td>33664</td>\n",
       "      <td>2</td>\n",
       "      <td>1</td>\n",
       "      <td>...</td>\n",
       "      <td>Regular customer</td>\n",
       "      <td>nan</td>\n",
       "      <td>Gould</td>\n",
       "      <td>Male</td>\n",
       "      <td>Rhode Island</td>\n",
       "      <td>58</td>\n",
       "      <td>1/25/2019</td>\n",
       "      <td>1</td>\n",
       "      <td>married</td>\n",
       "      <td>207497</td>\n",
       "    </tr>\n",
       "    <tr>\n",
       "      <th>32307882</th>\n",
       "      <td>1179092</td>\n",
       "      <td>131671</td>\n",
       "      <td>12</td>\n",
       "      <td>4</td>\n",
       "      <td>9</td>\n",
       "      <td>15.0</td>\n",
       "      <td>False</td>\n",
       "      <td>33664</td>\n",
       "      <td>1</td>\n",
       "      <td>0</td>\n",
       "      <td>...</td>\n",
       "      <td>Regular customer</td>\n",
       "      <td>Diana</td>\n",
       "      <td>Hansen</td>\n",
       "      <td>Female</td>\n",
       "      <td>Rhode Island</td>\n",
       "      <td>35</td>\n",
       "      <td>8/4/2018</td>\n",
       "      <td>0</td>\n",
       "      <td>single</td>\n",
       "      <td>86490</td>\n",
       "    </tr>\n",
       "    <tr>\n",
       "      <th>32310810</th>\n",
       "      <td>1226705</td>\n",
       "      <td>39667</td>\n",
       "      <td>7</td>\n",
       "      <td>2</td>\n",
       "      <td>15</td>\n",
       "      <td>20.0</td>\n",
       "      <td>False</td>\n",
       "      <td>33664</td>\n",
       "      <td>14</td>\n",
       "      <td>0</td>\n",
       "      <td>...</td>\n",
       "      <td>Non-frequent customer</td>\n",
       "      <td>Johnny</td>\n",
       "      <td>Colon</td>\n",
       "      <td>Male</td>\n",
       "      <td>Rhode Island</td>\n",
       "      <td>78</td>\n",
       "      <td>5/8/2019</td>\n",
       "      <td>2</td>\n",
       "      <td>married</td>\n",
       "      <td>195077</td>\n",
       "    </tr>\n",
       "    <tr>\n",
       "      <th>32330048</th>\n",
       "      <td>3000037</td>\n",
       "      <td>95105</td>\n",
       "      <td>2</td>\n",
       "      <td>4</td>\n",
       "      <td>19</td>\n",
       "      <td>22.0</td>\n",
       "      <td>False</td>\n",
       "      <td>33664</td>\n",
       "      <td>4</td>\n",
       "      <td>0</td>\n",
       "      <td>...</td>\n",
       "      <td>Frequent customer</td>\n",
       "      <td>Catherine</td>\n",
       "      <td>Browning</td>\n",
       "      <td>Female</td>\n",
       "      <td>South Carolina</td>\n",
       "      <td>48</td>\n",
       "      <td>1/18/2017</td>\n",
       "      <td>2</td>\n",
       "      <td>married</td>\n",
       "      <td>398880</td>\n",
       "    </tr>\n",
       "    <tr>\n",
       "      <th>32330049</th>\n",
       "      <td>2741225</td>\n",
       "      <td>95105</td>\n",
       "      <td>4</td>\n",
       "      <td>5</td>\n",
       "      <td>12</td>\n",
       "      <td>2.0</td>\n",
       "      <td>False</td>\n",
       "      <td>33664</td>\n",
       "      <td>3</td>\n",
       "      <td>1</td>\n",
       "      <td>...</td>\n",
       "      <td>Frequent customer</td>\n",
       "      <td>Catherine</td>\n",
       "      <td>Browning</td>\n",
       "      <td>Female</td>\n",
       "      <td>South Carolina</td>\n",
       "      <td>48</td>\n",
       "      <td>1/18/2017</td>\n",
       "      <td>2</td>\n",
       "      <td>married</td>\n",
       "      <td>398880</td>\n",
       "    </tr>\n",
       "  </tbody>\n",
       "</table>\n",
       "<p>5127 rows × 35 columns</p>\n",
       "</div>"
      ],
      "text/plain": [
       "          order_id  user_id  order_number  orders_day_of_week  \\\n",
       "7805       1435153     1519            26                   2   \n",
       "7806       1066435     1519            32                   3   \n",
       "15143      1697208     2409            33                   1   \n",
       "20264       965345     3531            27                   2   \n",
       "20497      2943740     3793             1                   2   \n",
       "...            ...      ...           ...                 ...   \n",
       "32303799   3265389    51346             4                   1   \n",
       "32307882   1179092   131671            12                   4   \n",
       "32310810   1226705    39667             7                   2   \n",
       "32330048   3000037    95105             2                   4   \n",
       "32330049   2741225    95105             4                   5   \n",
       "\n",
       "          order_hour_of_day  days_since_prior_order  first_order  product_id  \\\n",
       "7805                     11                     6.0        False       21553   \n",
       "7806                     10                     5.0        False       21553   \n",
       "15143                    19                     5.0        False       21553   \n",
       "20264                    19                     8.0        False       33664   \n",
       "20497                     9                     NaN         True       21553   \n",
       "...                     ...                     ...          ...         ...   \n",
       "32303799                 17                    13.0        False       33664   \n",
       "32307882                  9                    15.0        False       33664   \n",
       "32310810                 15                    20.0        False       33664   \n",
       "32330048                 19                    22.0        False       33664   \n",
       "32330049                 12                     2.0        False       33664   \n",
       "\n",
       "          add_to_cart_order  reordered  ...         frequency_flag First Name  \\\n",
       "7805                     15          0  ...      Frequent customer      Craig   \n",
       "7806                     28          1  ...      Frequent customer      Craig   \n",
       "15143                     1          0  ...      Frequent customer     Nicole   \n",
       "20264                     2          0  ...      Frequent customer      Alice   \n",
       "20497                     3          0  ...       Regular customer      Jerry   \n",
       "...                     ...        ...  ...                    ...        ...   \n",
       "32303799                  2          1  ...       Regular customer        nan   \n",
       "32307882                  1          0  ...       Regular customer      Diana   \n",
       "32310810                 14          0  ...  Non-frequent customer     Johnny   \n",
       "32330048                  4          0  ...      Frequent customer  Catherine   \n",
       "32330049                  3          1  ...      Frequent customer  Catherine   \n",
       "\n",
       "           Surname  Gender           STATE Age date_joined n_dependants  \\\n",
       "7805         Clark    Male    Rhode Island  68    3/4/2020            0   \n",
       "7806         Clark    Male    Rhode Island  68    3/4/2020            0   \n",
       "15143     Odonnell  Female          Hawaii  55  11/11/2018            2   \n",
       "20264      Compton  Female          Hawaii  80   10/6/2019            2   \n",
       "20497        Allen    Male       Louisiana  59   8/23/2019            3   \n",
       "...            ...     ...             ...  ..         ...          ...   \n",
       "32303799     Gould    Male    Rhode Island  58   1/25/2019            1   \n",
       "32307882    Hansen  Female    Rhode Island  35    8/4/2018            0   \n",
       "32310810     Colon    Male    Rhode Island  78    5/8/2019            2   \n",
       "32330048  Browning  Female  South Carolina  48   1/18/2017            2   \n",
       "32330049  Browning  Female  South Carolina  48   1/18/2017            2   \n",
       "\n",
       "                fam_status  income  \n",
       "7805      divorced/widowed  177864  \n",
       "7806      divorced/widowed  177864  \n",
       "15143              married  230074  \n",
       "20264              married  233776  \n",
       "20497              married  182933  \n",
       "...                    ...     ...  \n",
       "32303799           married  207497  \n",
       "32307882            single   86490  \n",
       "32310810           married  195077  \n",
       "32330048           married  398880  \n",
       "32330049           married  398880  \n",
       "\n",
       "[5127 rows x 35 columns]"
      ]
     },
     "execution_count": 13,
     "metadata": {},
     "output_type": "execute_result"
    }
   ],
   "source": [
    "# Identify outliers\n",
    "\n",
    "df_large.loc[df_large['prices'] > 100]"
   ]
  },
  {
   "cell_type": "code",
   "execution_count": 14,
   "id": "b11f4573",
   "metadata": {},
   "outputs": [],
   "source": [
    "# Marking outliers as missing vlaues\n",
    "\n",
    "df_large.loc[df_large['prices'] >100, 'prices'] = np.nan"
   ]
  },
  {
   "cell_type": "code",
   "execution_count": 15,
   "id": "46a6f6a8",
   "metadata": {},
   "outputs": [
    {
     "data": {
      "text/plain": [
       "25.0"
      ]
     },
     "execution_count": 15,
     "metadata": {},
     "output_type": "execute_result"
    }
   ],
   "source": [
    "# Check whether replacement was successful\n",
    "\n",
    "df_large['prices'].max()"
   ]
  },
  {
   "cell_type": "code",
   "execution_count": 16,
   "id": "05ff561c",
   "metadata": {},
   "outputs": [
    {
     "data": {
      "image/png": "[encoded data removed]",
      "text/plain": [
       "<Figure size 432x288 with 1 Axes>"
      ]
     },
     "metadata": {
      "needs_background": "light"
     },
     "output_type": "display_data"
    }
   ],
   "source": [
    "# Retry histogram \n",
    "\n",
    "hist_prices = df_large['prices'].plot.hist(bins = 25)"
   ]
  },
  {
   "cell_type": "code",
   "execution_count": 17,
   "id": "4f0ea9fe",
   "metadata": {},
   "outputs": [],
   "source": [
    "# Exporting the histogram \n",
    "\n",
    "hist_prices.figure.savefig(os.path.join(path, '04 Analysis','Visualizations', 'hist_prices.png'))"
   ]
  },
  {
   "cell_type": "code",
   "execution_count": 18,
   "id": "768da53f",
   "metadata": {},
   "outputs": [],
   "source": [
    "# Creating a line chart \n",
    "\n",
    "# Create a list holding True/False values to test np.random.rant()\n",
    "\n",
    "np.random.seed(4)\n",
    "dev = np.random.rand(len(df_large)) <= 0.7"
   ]
  },
  {
   "cell_type": "code",
   "execution_count": 19,
   "id": "553cede0",
   "metadata": {},
   "outputs": [],
   "source": [
    "# Store 70% of the sample in the dataframe big \n",
    "\n",
    "big = df_large[dev]"
   ]
  },
  {
   "cell_type": "code",
   "execution_count": 20,
   "id": "7f8a4f43",
   "metadata": {},
   "outputs": [],
   "source": [
    "# Store 30% of the sample in the dataframe small\n",
    "\n",
    "small = df_large[~dev]"
   ]
  },
  {
   "cell_type": "code",
   "execution_count": 21,
   "id": "6680b4a8",
   "metadata": {},
   "outputs": [
    {
     "data": {
      "text/plain": [
       "32404859"
      ]
     },
     "execution_count": 21,
     "metadata": {},
     "output_type": "execute_result"
    }
   ],
   "source": [
    "len(df_large)"
   ]
  },
  {
   "cell_type": "code",
   "execution_count": 22,
   "id": "65d7a14a",
   "metadata": {},
   "outputs": [
    {
     "data": {
      "text/plain": [
       "32404859"
      ]
     },
     "execution_count": 22,
     "metadata": {},
     "output_type": "execute_result"
    }
   ],
   "source": [
    "len(big) + len(small)"
   ]
  },
  {
   "cell_type": "code",
   "execution_count": 23,
   "id": "952627ab",
   "metadata": {},
   "outputs": [],
   "source": [
    "# Chosing necessary columns \n",
    "\n",
    "df_2 = small[['orders_day_of_week','prices']]"
   ]
  },
  {
   "cell_type": "code",
   "execution_count": 24,
   "id": "25671674",
   "metadata": {},
   "outputs": [
    {
     "data": {
      "image/png": "[encoded data removed]",
      "text/plain": [
       "<Figure size 432x288 with 1 Axes>"
      ]
     },
     "metadata": {
      "needs_background": "light"
     },
     "output_type": "display_data"
    }
   ],
   "source": [
    "# Creating a line chart \n",
    "\n",
    "line_prices_weekday = sns.lineplot(data = df_2, x = 'orders_day_of_week',y = 'prices')"
   ]
  },
  {
   "cell_type": "code",
   "execution_count": 25,
   "id": "78231034",
   "metadata": {},
   "outputs": [],
   "source": [
    "# Export line chart\n",
    "\n",
    "line_prices_weekday.figure.savefig(os.path.join(path, '04 Analysis','Visualizations', 'line_prices_weekday.png'))"
   ]
  },
  {
   "cell_type": "markdown",
   "id": "0c10f996",
   "metadata": {},
   "source": [
    "### Ex 3. Histogram for order_hour_of_day column"
   ]
  },
  {
   "cell_type": "markdown",
   "id": "a39b4b93",
   "metadata": {},
   "source": [
    "3. You need to provide the Instacart senior stakeholders with descriptive findings about sales. Create a histogram of the “order_hour_of_day” column.\n",
    "In a markdown cell beneath your histogram, describe what the histogram demonstrates."
   ]
  },
  {
   "cell_type": "code",
   "execution_count": 26,
   "id": "64a1a226",
   "metadata": {},
   "outputs": [
    {
     "data": {
      "image/png": "[encoded data removed]",
      "text/plain": [
       "<Figure size 432x288 with 1 Axes>"
      ]
     },
     "metadata": {
      "needs_background": "light"
     },
     "output_type": "display_data"
    }
   ],
   "source": [
    "hist_hour_of_day = df_large['order_hour_of_day'].plot.hist(bins = 24)"
   ]
  },
  {
   "cell_type": "markdown",
   "id": "9041cea4",
   "metadata": {},
   "source": [
    "The histogram demonstrates that most orders occured between 9am and 3pm. Between midnight and 5 am the fewest orders occur."
   ]
  },
  {
   "cell_type": "code",
   "execution_count": 27,
   "id": "9d7fb029",
   "metadata": {},
   "outputs": [],
   "source": [
    "# Export histogram \n",
    "\n",
    "hist_hour_of_day.figure.savefig(os.path.join(path, '04 Analysis','Visualizations', 'hist_hour_of_day.png'))"
   ]
  },
  {
   "cell_type": "markdown",
   "id": "e7118e6b",
   "metadata": {},
   "source": [
    "### Ex 4. Bar chart for loyalty_flag column"
   ]
  },
  {
   "cell_type": "markdown",
   "id": "7ab2a378",
   "metadata": {},
   "source": [
    "4. The marketing team is curious about the distribution of orders among customers in terms of loyalty. Create a bar chart from the “loyalty_flag” column."
   ]
  },
  {
   "cell_type": "code",
   "execution_count": 28,
   "id": "92afa0ab",
   "metadata": {},
   "outputs": [
    {
     "data": {
      "image/png": "[encoded data removed]",
      "text/plain": [
       "<Figure size 432x288 with 1 Axes>"
      ]
     },
     "metadata": {
      "needs_background": "light"
     },
     "output_type": "display_data"
    }
   ],
   "source": [
    "bar_loyalty_flag = df_large['loyalty_flag'].value_counts().plot.bar()"
   ]
  },
  {
   "cell_type": "code",
   "execution_count": 29,
   "id": "6946b5c4",
   "metadata": {},
   "outputs": [],
   "source": [
    "# Export bar chart\n",
    "\n",
    "bar_loyalty_flag.figure.savefig(os.path.join(path, '04 Analysis','Visualizations', 'bar_loyalty_flag.png'))"
   ]
  },
  {
   "cell_type": "markdown",
   "id": "8645e41f",
   "metadata": {},
   "source": [
    "### Ex 5. Line chart for prices per hour of the day"
   ]
  },
  {
   "cell_type": "markdown",
   "id": "b1d73641",
   "metadata": {},
   "source": [
    "5. Check whether there’s a difference in expenditure (the “prices” column) depending on the hour of the day. (Hint: To check this, you need to use an accurate sample for your line chart!)"
   ]
  },
  {
   "cell_type": "code",
   "execution_count": 30,
   "id": "fc6b38f1",
   "metadata": {},
   "outputs": [],
   "source": [
    "# Create a list holding True/False values to test np.random.rant()\n",
    "\n",
    "np.random.seed(4)\n",
    "dev = np.random.rand(len(df_large)) <= 0.7"
   ]
  },
  {
   "cell_type": "code",
   "execution_count": 31,
   "id": "fa6f9f48",
   "metadata": {},
   "outputs": [],
   "source": [
    "# Store 70% of the sample in the dataframe big \n",
    "\n",
    "big = df_large[dev]"
   ]
  },
  {
   "cell_type": "code",
   "execution_count": 32,
   "id": "768f8e33",
   "metadata": {},
   "outputs": [],
   "source": [
    "# Store 30% of the sample in the dataframe small \n",
    "\n",
    "small = df_large[~dev]"
   ]
  },
  {
   "cell_type": "code",
   "execution_count": 33,
   "id": "5273be55",
   "metadata": {},
   "outputs": [
    {
     "data": {
      "text/plain": [
       "32404859"
      ]
     },
     "execution_count": 33,
     "metadata": {},
     "output_type": "execute_result"
    }
   ],
   "source": [
    "len(df_large)"
   ]
  },
  {
   "cell_type": "code",
   "execution_count": 34,
   "id": "7c24d889",
   "metadata": {},
   "outputs": [
    {
     "data": {
      "text/plain": [
       "32404859"
      ]
     },
     "execution_count": 34,
     "metadata": {},
     "output_type": "execute_result"
    }
   ],
   "source": [
    "len(small) + len(big)"
   ]
  },
  {
   "cell_type": "code",
   "execution_count": 35,
   "id": "b7810d9c",
   "metadata": {},
   "outputs": [],
   "source": [
    "# Choosing the columns\n",
    "\n",
    "df_2 = small[['prices', 'order_hour_of_day']]"
   ]
  },
  {
   "cell_type": "code",
   "execution_count": 36,
   "id": "26d201a5",
   "metadata": {},
   "outputs": [
    {
     "data": {
      "image/png": "[encoded data removed]",
      "text/plain": [
       "<Figure size 432x288 with 1 Axes>"
      ]
     },
     "metadata": {
      "needs_background": "light"
     },
     "output_type": "display_data"
    }
   ],
   "source": [
    "# Creating a line chart \n",
    "\n",
    "line_prices_hour = sns.lineplot(data = df_2, x = 'order_hour_of_day', y = 'prices')"
   ]
  },
  {
   "cell_type": "code",
   "execution_count": 37,
   "id": "8dadecab",
   "metadata": {},
   "outputs": [],
   "source": [
    "# Export line chart \n",
    "\n",
    "line_prices_hour.figure.savefig(os.path.join(path, '04 Analysis','Visualizations', 'line_prices_hour.png'))"
   ]
  },
  {
   "cell_type": "markdown",
   "id": "5fe149a5",
   "metadata": {},
   "source": [
    "### Ex 6. Line chart age and number of dependents"
   ]
  },
  {
   "cell_type": "markdown",
   "id": "1267476b",
   "metadata": {},
   "source": [
    "6. Now that you have information about customers, you need to conduct some exploratory analysis of customer demographics to inform the targeted marketing campaigns. First, determine whether there’s a connection between age and family status by creating a line chart exploring the connections between age and number of dependents:\n",
    "In a markdown cell beneath your line chart, describe what the line chart shows."
   ]
  },
  {
   "cell_type": "code",
   "execution_count": 38,
   "id": "964f5c72",
   "metadata": {},
   "outputs": [
    {
     "data": {
      "text/plain": [
       "Index(['order_id', 'user_id', 'order_number', 'orders_day_of_week',\n",
       "       'order_hour_of_day', 'days_since_prior_order', 'first_order',\n",
       "       'product_id', 'add_to_cart_order', 'reordered', '_merge',\n",
       "       'product_name', 'aisle_id', 'department_id', 'prices',\n",
       "       'price_range_loc', 'busiest day', 'Busiest days', 'time_period',\n",
       "       'busiest_period_of_day', 'max_order', 'loyalty_flag', 'average_price',\n",
       "       'spender_flag', 'median_days_since_prior_order', 'frequency_flag',\n",
       "       'First Name', 'Surname', 'Gender', 'STATE', 'Age', 'date_joined',\n",
       "       'n_dependants', 'fam_status', 'income'],\n",
       "      dtype='object')"
      ]
     },
     "execution_count": 38,
     "metadata": {},
     "output_type": "execute_result"
    }
   ],
   "source": [
    "df_large.columns"
   ]
  },
  {
   "cell_type": "code",
   "execution_count": 39,
   "id": "0e9e5ea6",
   "metadata": {},
   "outputs": [],
   "source": [
    "df_3 = small[['Age', 'n_dependants']]"
   ]
  },
  {
   "cell_type": "code",
   "execution_count": 40,
   "id": "c3cf0033",
   "metadata": {},
   "outputs": [
    {
     "data": {
      "image/png": "[encoded data removed]",
      "text/plain": [
       "<Figure size 432x288 with 1 Axes>"
      ]
     },
     "metadata": {
      "needs_background": "light"
     },
     "output_type": "display_data"
    }
   ],
   "source": [
    "line_age_ndependants = sns.lineplot(data = df_3, x = 'n_dependants', y = 'Age')"
   ]
  },
  {
   "cell_type": "code",
   "execution_count": 41,
   "id": "8aea18df",
   "metadata": {},
   "outputs": [],
   "source": [
    "# Export line chart\n",
    "\n",
    "line_age_ndependants.figure.savefig(os.path.join(path, '04 Analysis','Visualizations', 'line_age_ndependants.png'))"
   ]
  },
  {
   "cell_type": "markdown",
   "id": "e6973472",
   "metadata": {},
   "source": [
    "Instacart users have 0-3 children. The chart shows that people with one child are the youngest on average and people with 2 children are the oldest on average. There is no correlation between number of children and age. "
   ]
  },
  {
   "cell_type": "markdown",
   "id": "05fb675b",
   "metadata": {},
   "source": [
    "### Ex 7. Scatterplot for age and income variables "
   ]
  },
  {
   "cell_type": "markdown",
   "id": "89d3bea7",
   "metadata": {},
   "source": [
    "7. You’ll also need to explore whether there’s a connection between age and spending power. To visualize this relationship, create a scatterplot using the sns.scatterplot() function.\n",
    "In a markdown cell beneath your scatterplot, describe what the scatterplot shows."
   ]
  },
  {
   "cell_type": "code",
   "execution_count": 42,
   "id": "ee8c0533",
   "metadata": {},
   "outputs": [
    {
     "data": {
      "image/png": "[encoded data removed]",
      "text/plain": [
       "<Figure size 432x288 with 1 Axes>"
      ]
     },
     "metadata": {
      "needs_background": "light"
     },
     "output_type": "display_data"
    }
   ],
   "source": [
    "scatter_age_income = sns.scatterplot(x = 'Age', y = 'income',data = df_large)"
   ]
  },
  {
   "cell_type": "code",
   "execution_count": 43,
   "id": "9ce1fcf8",
   "metadata": {},
   "outputs": [],
   "source": [
    "# Export scatterplot \n",
    "\n",
    "scatter_age_income.figure.savefig(os.path.join(path, '04 Analysis','Visualizations', 'scatter_age_income.png'))"
   ]
  },
  {
   "cell_type": "markdown",
   "id": "75bd77cb",
   "metadata": {},
   "source": [
    "There is a jump in income/spending power from age 30 to 40 i.e. users below the age of 40 have a lower spenidng power than users above the age of 40!"
   ]
  },
  {
   "cell_type": "markdown",
   "id": "0b48a50c",
   "metadata": {},
   "source": [
    "8. Export your visualizations as “.png” files in your relevant project folder."
   ]
  },
  {
   "cell_type": "code",
   "execution_count": 44,
   "id": "aaed9330",
   "metadata": {},
   "outputs": [],
   "source": [
    "# Already exported the visualizations above"
   ]
  }
 ],
 "metadata": {
  "kernelspec": {
   "display_name": "Python 3",
   "language": "python",
   "name": "python3"
  },
  "language_info": {
   "codemirror_mode": {
    "name": "ipython",
    "version": 3
   },
   "file_extension": ".py",
   "mimetype": "text/x-python",
   "name": "python",
   "nbconvert_exporter": "python",
   "pygments_lexer": "ipython3",
   "version": "3.8.8"
  }
 },
 "nbformat": 4,
 "nbformat_minor": 5
}
