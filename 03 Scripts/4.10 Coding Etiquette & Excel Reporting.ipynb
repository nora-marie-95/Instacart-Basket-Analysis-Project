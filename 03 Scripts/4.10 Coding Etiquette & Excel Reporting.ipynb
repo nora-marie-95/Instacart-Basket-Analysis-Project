{
 "cells": [
  {
   "cell_type": "markdown",
   "id": "68c97d76",
   "metadata": {},
   "source": [
    "# 4.10 Coding Etiquette & Excel Reporting \n",
    "\n",
    "# Instacart Basket Analysis \n",
    "\n",
    "## By Nora Lienenbecker \n",
    "\n",
    "#### Table of Contents \n",
    "\n",
    "1. Dataset import\n",
    "2. Addressing PII data\n",
    "3. Regional segmentation \n",
    "4. Identifying and excluding low-activity customers\n",
    "5. Customer profiling and deriving new columns \n",
    "- 5.1 Age brackets\n",
    "- 5.2 Family status \n",
    "- 5.3 Parental status\n",
    "- 5.4 Income categories \n",
    "- 5.5 Department column\n",
    "- 5.6 Weekday column \n",
    "6. Visualizations \n",
    "- 6.1 Age distribution \n",
    "- 6.2 Family status \n",
    "- 6.3 Parental status\n",
    "- 6.4 Income categories\n",
    "- 6.5 Busiest hours \n",
    "- 6.6 Orders per time period by price range\n",
    "- 6.7 Product price-range distribution\n",
    "- 6.8 Customer loyalty distribution\n",
    "7. Aggregating variables on a customer-profile level \n",
    "- 7.1 Income\n",
    "- 7.2 Age\n",
    "- 7.3 Family status \n",
    "- 7.4 Parental status \n",
    "8. Comparing customer profiles with regions and departments \n",
    "- 8.1 Loyalty status and department \n",
    "- 8.2 Region and department\n",
    "- 8.3 Parental status \n",
    "- 8.4 Income\n",
    "- 8.5 Age \n",
    "- 8.6 Family status \n",
    "9. Remaining questions from the project brief "
   ]
  },
  {
   "cell_type": "markdown",
   "id": "d57e76c3",
   "metadata": {},
   "source": [
    "### 1. Import the data set you exported in Exercise 4.9 into a new Jupyter notebook. This should be the merged version of your data that contains the new customers column."
   ]
  },
  {
   "cell_type": "code",
   "execution_count": 1,
   "id": "6d0d6c17",
   "metadata": {},
   "outputs": [],
   "source": [
    "# Import libraries\n",
    "\n",
    "import pandas as pd\n",
    "import numpy as np\n",
    "import os\n",
    "import matplotlib.pyplot as plt\n",
    "import seaborn as sns\n",
    "import scipy"
   ]
  },
  {
   "cell_type": "code",
   "execution_count": 2,
   "id": "1f00350d",
   "metadata": {},
   "outputs": [],
   "source": [
    "# Create a project folder string\n",
    "\n",
    "path = r'/Users/nora/Desktop/Instacart Basket Analysis'"
   ]
  },
  {
   "cell_type": "code",
   "execution_count": 3,
   "id": "62b45ec8",
   "metadata": {},
   "outputs": [],
   "source": [
    "# Import the data set\n",
    "\n",
    "df_merge = pd.read_pickle(os.path.join(path, '02 Data', 'Prepared Data', 'df_ords_prods_customers.pkl'))"
   ]
  },
  {
   "cell_type": "code",
   "execution_count": 4,
   "id": "c24df705",
   "metadata": {},
   "outputs": [
    {
     "data": {
      "text/plain": [
       "(32404859, 37)"
      ]
     },
     "execution_count": 4,
     "metadata": {},
     "output_type": "execute_result"
    }
   ],
   "source": [
    "df_merge.shape"
   ]
  },
  {
   "cell_type": "markdown",
   "id": "4bcc0bf1",
   "metadata": {},
   "source": [
    "### 2. Consider any security implications that might exist for this new data. You’ll need to address any PII data in the data before continuing your analysis."
   ]
  },
  {
   "cell_type": "code",
   "execution_count": 5,
   "id": "11804700",
   "metadata": {},
   "outputs": [
    {
     "data": {
      "text/html": [
       "<div>\n",
       "<style scoped>\n",
       "    .dataframe tbody tr th:only-of-type {\n",
       "        vertical-align: middle;\n",
       "    }\n",
       "\n",
       "    .dataframe tbody tr th {\n",
       "        vertical-align: top;\n",
       "    }\n",
       "\n",
       "    .dataframe thead th {\n",
       "        text-align: right;\n",
       "    }\n",
       "</style>\n",
       "<table border=\"1\" class=\"dataframe\">\n",
       "  <thead>\n",
       "    <tr style=\"text-align: right;\">\n",
       "      <th></th>\n",
       "      <th>order_id</th>\n",
       "      <th>user_id</th>\n",
       "      <th>order_number</th>\n",
       "      <th>orders_day_of_week</th>\n",
       "      <th>order_hour_of_day</th>\n",
       "      <th>days_since_prior_order</th>\n",
       "      <th>first_order</th>\n",
       "      <th>product_id</th>\n",
       "      <th>add_to_cart_order</th>\n",
       "      <th>reordered</th>\n",
       "      <th>_merge</th>\n",
       "      <th>Unnamed: 0_y</th>\n",
       "      <th>product_name</th>\n",
       "      <th>aisle_id</th>\n",
       "      <th>department_id</th>\n",
       "      <th>prices</th>\n",
       "      <th>price_range_loc</th>\n",
       "      <th>busiest day</th>\n",
       "      <th>Busiest days</th>\n",
       "      <th>time_period</th>\n",
       "      <th>busiest_period_of_day</th>\n",
       "      <th>max_order</th>\n",
       "      <th>loyalty_flag</th>\n",
       "      <th>average_price</th>\n",
       "      <th>spender_flag</th>\n",
       "      <th>median_days_since_prior_order</th>\n",
       "      <th>frequency_flag</th>\n",
       "      <th>First Name</th>\n",
       "      <th>Surname</th>\n",
       "      <th>Gender</th>\n",
       "      <th>STATE</th>\n",
       "      <th>Age</th>\n",
       "      <th>date_joined</th>\n",
       "      <th>n_dependants</th>\n",
       "      <th>fam_status</th>\n",
       "      <th>income</th>\n",
       "      <th>merge</th>\n",
       "    </tr>\n",
       "  </thead>\n",
       "  <tbody>\n",
       "    <tr>\n",
       "      <th>0</th>\n",
       "      <td>2539329</td>\n",
       "      <td>1</td>\n",
       "      <td>1</td>\n",
       "      <td>2</td>\n",
       "      <td>8</td>\n",
       "      <td>NaN</td>\n",
       "      <td>True</td>\n",
       "      <td>196</td>\n",
       "      <td>1</td>\n",
       "      <td>0</td>\n",
       "      <td>both</td>\n",
       "      <td>195</td>\n",
       "      <td>Soda</td>\n",
       "      <td>77</td>\n",
       "      <td>7</td>\n",
       "      <td>9.0</td>\n",
       "      <td>Mid-range product</td>\n",
       "      <td>Regularly busy</td>\n",
       "      <td>Regularly busy</td>\n",
       "      <td>6am - 9am</td>\n",
       "      <td>Average orders</td>\n",
       "      <td>10</td>\n",
       "      <td>New customer</td>\n",
       "      <td>6.367797</td>\n",
       "      <td>Low Spender</td>\n",
       "      <td>20.5</td>\n",
       "      <td>Non-frequent customer</td>\n",
       "      <td>Linda</td>\n",
       "      <td>Nguyen</td>\n",
       "      <td>Female</td>\n",
       "      <td>Alabama</td>\n",
       "      <td>31</td>\n",
       "      <td>2/17/2019</td>\n",
       "      <td>3</td>\n",
       "      <td>married</td>\n",
       "      <td>40423</td>\n",
       "      <td>both</td>\n",
       "    </tr>\n",
       "    <tr>\n",
       "      <th>1</th>\n",
       "      <td>2398795</td>\n",
       "      <td>1</td>\n",
       "      <td>2</td>\n",
       "      <td>3</td>\n",
       "      <td>7</td>\n",
       "      <td>15.0</td>\n",
       "      <td>False</td>\n",
       "      <td>196</td>\n",
       "      <td>1</td>\n",
       "      <td>1</td>\n",
       "      <td>both</td>\n",
       "      <td>195</td>\n",
       "      <td>Soda</td>\n",
       "      <td>77</td>\n",
       "      <td>7</td>\n",
       "      <td>9.0</td>\n",
       "      <td>Mid-range product</td>\n",
       "      <td>Regularly busy</td>\n",
       "      <td>Least busy</td>\n",
       "      <td>6am - 9am</td>\n",
       "      <td>Average orders</td>\n",
       "      <td>10</td>\n",
       "      <td>New customer</td>\n",
       "      <td>6.367797</td>\n",
       "      <td>Low Spender</td>\n",
       "      <td>20.5</td>\n",
       "      <td>Non-frequent customer</td>\n",
       "      <td>Linda</td>\n",
       "      <td>Nguyen</td>\n",
       "      <td>Female</td>\n",
       "      <td>Alabama</td>\n",
       "      <td>31</td>\n",
       "      <td>2/17/2019</td>\n",
       "      <td>3</td>\n",
       "      <td>married</td>\n",
       "      <td>40423</td>\n",
       "      <td>both</td>\n",
       "    </tr>\n",
       "    <tr>\n",
       "      <th>2</th>\n",
       "      <td>473747</td>\n",
       "      <td>1</td>\n",
       "      <td>3</td>\n",
       "      <td>3</td>\n",
       "      <td>12</td>\n",
       "      <td>21.0</td>\n",
       "      <td>False</td>\n",
       "      <td>196</td>\n",
       "      <td>1</td>\n",
       "      <td>1</td>\n",
       "      <td>both</td>\n",
       "      <td>195</td>\n",
       "      <td>Soda</td>\n",
       "      <td>77</td>\n",
       "      <td>7</td>\n",
       "      <td>9.0</td>\n",
       "      <td>Mid-range product</td>\n",
       "      <td>Regularly busy</td>\n",
       "      <td>Least busy</td>\n",
       "      <td>10am - 13pm</td>\n",
       "      <td>Most orders</td>\n",
       "      <td>10</td>\n",
       "      <td>New customer</td>\n",
       "      <td>6.367797</td>\n",
       "      <td>Low Spender</td>\n",
       "      <td>20.5</td>\n",
       "      <td>Non-frequent customer</td>\n",
       "      <td>Linda</td>\n",
       "      <td>Nguyen</td>\n",
       "      <td>Female</td>\n",
       "      <td>Alabama</td>\n",
       "      <td>31</td>\n",
       "      <td>2/17/2019</td>\n",
       "      <td>3</td>\n",
       "      <td>married</td>\n",
       "      <td>40423</td>\n",
       "      <td>both</td>\n",
       "    </tr>\n",
       "    <tr>\n",
       "      <th>3</th>\n",
       "      <td>2254736</td>\n",
       "      <td>1</td>\n",
       "      <td>4</td>\n",
       "      <td>4</td>\n",
       "      <td>7</td>\n",
       "      <td>29.0</td>\n",
       "      <td>False</td>\n",
       "      <td>196</td>\n",
       "      <td>1</td>\n",
       "      <td>1</td>\n",
       "      <td>both</td>\n",
       "      <td>195</td>\n",
       "      <td>Soda</td>\n",
       "      <td>77</td>\n",
       "      <td>7</td>\n",
       "      <td>9.0</td>\n",
       "      <td>Mid-range product</td>\n",
       "      <td>Least busy</td>\n",
       "      <td>Least busy</td>\n",
       "      <td>6am - 9am</td>\n",
       "      <td>Average orders</td>\n",
       "      <td>10</td>\n",
       "      <td>New customer</td>\n",
       "      <td>6.367797</td>\n",
       "      <td>Low Spender</td>\n",
       "      <td>20.5</td>\n",
       "      <td>Non-frequent customer</td>\n",
       "      <td>Linda</td>\n",
       "      <td>Nguyen</td>\n",
       "      <td>Female</td>\n",
       "      <td>Alabama</td>\n",
       "      <td>31</td>\n",
       "      <td>2/17/2019</td>\n",
       "      <td>3</td>\n",
       "      <td>married</td>\n",
       "      <td>40423</td>\n",
       "      <td>both</td>\n",
       "    </tr>\n",
       "    <tr>\n",
       "      <th>4</th>\n",
       "      <td>431534</td>\n",
       "      <td>1</td>\n",
       "      <td>5</td>\n",
       "      <td>4</td>\n",
       "      <td>15</td>\n",
       "      <td>28.0</td>\n",
       "      <td>False</td>\n",
       "      <td>196</td>\n",
       "      <td>1</td>\n",
       "      <td>1</td>\n",
       "      <td>both</td>\n",
       "      <td>195</td>\n",
       "      <td>Soda</td>\n",
       "      <td>77</td>\n",
       "      <td>7</td>\n",
       "      <td>9.0</td>\n",
       "      <td>Mid-range product</td>\n",
       "      <td>Least busy</td>\n",
       "      <td>Least busy</td>\n",
       "      <td>14pm - 17pm</td>\n",
       "      <td>Average orders</td>\n",
       "      <td>10</td>\n",
       "      <td>New customer</td>\n",
       "      <td>6.367797</td>\n",
       "      <td>Low Spender</td>\n",
       "      <td>20.5</td>\n",
       "      <td>Non-frequent customer</td>\n",
       "      <td>Linda</td>\n",
       "      <td>Nguyen</td>\n",
       "      <td>Female</td>\n",
       "      <td>Alabama</td>\n",
       "      <td>31</td>\n",
       "      <td>2/17/2019</td>\n",
       "      <td>3</td>\n",
       "      <td>married</td>\n",
       "      <td>40423</td>\n",
       "      <td>both</td>\n",
       "    </tr>\n",
       "  </tbody>\n",
       "</table>\n",
       "</div>"
      ],
      "text/plain": [
       "   order_id  user_id  order_number  orders_day_of_week  order_hour_of_day  \\\n",
       "0   2539329        1             1                   2                  8   \n",
       "1   2398795        1             2                   3                  7   \n",
       "2    473747        1             3                   3                 12   \n",
       "3   2254736        1             4                   4                  7   \n",
       "4    431534        1             5                   4                 15   \n",
       "\n",
       "   days_since_prior_order  first_order  product_id  add_to_cart_order  \\\n",
       "0                     NaN         True         196                  1   \n",
       "1                    15.0        False         196                  1   \n",
       "2                    21.0        False         196                  1   \n",
       "3                    29.0        False         196                  1   \n",
       "4                    28.0        False         196                  1   \n",
       "\n",
       "   reordered _merge  Unnamed: 0_y product_name  aisle_id  department_id  \\\n",
       "0          0   both           195         Soda        77              7   \n",
       "1          1   both           195         Soda        77              7   \n",
       "2          1   both           195         Soda        77              7   \n",
       "3          1   both           195         Soda        77              7   \n",
       "4          1   both           195         Soda        77              7   \n",
       "\n",
       "   prices    price_range_loc     busiest day    Busiest days  time_period  \\\n",
       "0     9.0  Mid-range product  Regularly busy  Regularly busy    6am - 9am   \n",
       "1     9.0  Mid-range product  Regularly busy      Least busy    6am - 9am   \n",
       "2     9.0  Mid-range product  Regularly busy      Least busy  10am - 13pm   \n",
       "3     9.0  Mid-range product      Least busy      Least busy    6am - 9am   \n",
       "4     9.0  Mid-range product      Least busy      Least busy  14pm - 17pm   \n",
       "\n",
       "  busiest_period_of_day  max_order  loyalty_flag  average_price spender_flag  \\\n",
       "0        Average orders         10  New customer       6.367797  Low Spender   \n",
       "1        Average orders         10  New customer       6.367797  Low Spender   \n",
       "2           Most orders         10  New customer       6.367797  Low Spender   \n",
       "3        Average orders         10  New customer       6.367797  Low Spender   \n",
       "4        Average orders         10  New customer       6.367797  Low Spender   \n",
       "\n",
       "   median_days_since_prior_order         frequency_flag First Name Surname  \\\n",
       "0                           20.5  Non-frequent customer      Linda  Nguyen   \n",
       "1                           20.5  Non-frequent customer      Linda  Nguyen   \n",
       "2                           20.5  Non-frequent customer      Linda  Nguyen   \n",
       "3                           20.5  Non-frequent customer      Linda  Nguyen   \n",
       "4                           20.5  Non-frequent customer      Linda  Nguyen   \n",
       "\n",
       "   Gender    STATE  Age date_joined  n_dependants fam_status  income merge  \n",
       "0  Female  Alabama   31   2/17/2019             3    married   40423  both  \n",
       "1  Female  Alabama   31   2/17/2019             3    married   40423  both  \n",
       "2  Female  Alabama   31   2/17/2019             3    married   40423  both  \n",
       "3  Female  Alabama   31   2/17/2019             3    married   40423  both  \n",
       "4  Female  Alabama   31   2/17/2019             3    married   40423  both  "
      ]
     },
     "execution_count": 5,
     "metadata": {},
     "output_type": "execute_result"
    }
   ],
   "source": [
    "# Check data set\n",
    "\n",
    "pd.options.display.max_columns = None\n",
    "\n",
    "df_merge.head()"
   ]
  },
  {
   "cell_type": "code",
   "execution_count": 6,
   "id": "854c56bb",
   "metadata": {},
   "outputs": [
    {
     "data": {
      "text/plain": [
       "Index(['order_id', 'user_id', 'order_number', 'orders_day_of_week',\n",
       "       'order_hour_of_day', 'days_since_prior_order', 'first_order',\n",
       "       'product_id', 'add_to_cart_order', 'reordered', '_merge',\n",
       "       'Unnamed: 0_y', 'product_name', 'aisle_id', 'department_id', 'prices',\n",
       "       'price_range_loc', 'busiest day', 'Busiest days', 'time_period',\n",
       "       'busiest_period_of_day', 'max_order', 'loyalty_flag', 'average_price',\n",
       "       'spender_flag', 'median_days_since_prior_order', 'frequency_flag',\n",
       "       'First Name', 'Surname', 'Gender', 'STATE', 'Age', 'date_joined',\n",
       "       'n_dependants', 'fam_status', 'income', 'merge'],\n",
       "      dtype='object')"
      ]
     },
     "execution_count": 6,
     "metadata": {},
     "output_type": "execute_result"
    }
   ],
   "source": [
    "# Create list of columns\n",
    "\n",
    "df_merge.columns"
   ]
  },
  {
   "cell_type": "code",
   "execution_count": 7,
   "id": "ad4f55c7",
   "metadata": {},
   "outputs": [],
   "source": [
    "# Drop unnecessary columns\n",
    "\n",
    "df_merge = df_merge.drop(['Unnamed: 0_y', '_merge', 'merge'], axis = 1)"
   ]
  },
  {
   "cell_type": "code",
   "execution_count": 8,
   "id": "8ec9f73e",
   "metadata": {},
   "outputs": [
    {
     "data": {
      "text/html": [
       "<div>\n",
       "<style scoped>\n",
       "    .dataframe tbody tr th:only-of-type {\n",
       "        vertical-align: middle;\n",
       "    }\n",
       "\n",
       "    .dataframe tbody tr th {\n",
       "        vertical-align: top;\n",
       "    }\n",
       "\n",
       "    .dataframe thead th {\n",
       "        text-align: right;\n",
       "    }\n",
       "</style>\n",
       "<table border=\"1\" class=\"dataframe\">\n",
       "  <thead>\n",
       "    <tr style=\"text-align: right;\">\n",
       "      <th></th>\n",
       "      <th>order_id</th>\n",
       "      <th>user_id</th>\n",
       "      <th>order_number</th>\n",
       "      <th>orders_day_of_week</th>\n",
       "      <th>order_hour_of_day</th>\n",
       "      <th>days_since_prior_order</th>\n",
       "      <th>first_order</th>\n",
       "      <th>product_id</th>\n",
       "      <th>add_to_cart_order</th>\n",
       "      <th>reordered</th>\n",
       "      <th>product_name</th>\n",
       "      <th>aisle_id</th>\n",
       "      <th>department_id</th>\n",
       "      <th>prices</th>\n",
       "      <th>price_range_loc</th>\n",
       "      <th>busiest day</th>\n",
       "      <th>Busiest days</th>\n",
       "      <th>time_period</th>\n",
       "      <th>busiest_period_of_day</th>\n",
       "      <th>max_order</th>\n",
       "      <th>loyalty_flag</th>\n",
       "      <th>average_price</th>\n",
       "      <th>spender_flag</th>\n",
       "      <th>median_days_since_prior_order</th>\n",
       "      <th>frequency_flag</th>\n",
       "      <th>First Name</th>\n",
       "      <th>Surname</th>\n",
       "      <th>Gender</th>\n",
       "      <th>STATE</th>\n",
       "      <th>Age</th>\n",
       "      <th>date_joined</th>\n",
       "      <th>n_dependants</th>\n",
       "      <th>fam_status</th>\n",
       "      <th>income</th>\n",
       "    </tr>\n",
       "  </thead>\n",
       "  <tbody>\n",
       "    <tr>\n",
       "      <th>0</th>\n",
       "      <td>2539329</td>\n",
       "      <td>1</td>\n",
       "      <td>1</td>\n",
       "      <td>2</td>\n",
       "      <td>8</td>\n",
       "      <td>NaN</td>\n",
       "      <td>True</td>\n",
       "      <td>196</td>\n",
       "      <td>1</td>\n",
       "      <td>0</td>\n",
       "      <td>Soda</td>\n",
       "      <td>77</td>\n",
       "      <td>7</td>\n",
       "      <td>9.0</td>\n",
       "      <td>Mid-range product</td>\n",
       "      <td>Regularly busy</td>\n",
       "      <td>Regularly busy</td>\n",
       "      <td>6am - 9am</td>\n",
       "      <td>Average orders</td>\n",
       "      <td>10</td>\n",
       "      <td>New customer</td>\n",
       "      <td>6.367797</td>\n",
       "      <td>Low Spender</td>\n",
       "      <td>20.5</td>\n",
       "      <td>Non-frequent customer</td>\n",
       "      <td>Linda</td>\n",
       "      <td>Nguyen</td>\n",
       "      <td>Female</td>\n",
       "      <td>Alabama</td>\n",
       "      <td>31</td>\n",
       "      <td>2/17/2019</td>\n",
       "      <td>3</td>\n",
       "      <td>married</td>\n",
       "      <td>40423</td>\n",
       "    </tr>\n",
       "    <tr>\n",
       "      <th>1</th>\n",
       "      <td>2398795</td>\n",
       "      <td>1</td>\n",
       "      <td>2</td>\n",
       "      <td>3</td>\n",
       "      <td>7</td>\n",
       "      <td>15.0</td>\n",
       "      <td>False</td>\n",
       "      <td>196</td>\n",
       "      <td>1</td>\n",
       "      <td>1</td>\n",
       "      <td>Soda</td>\n",
       "      <td>77</td>\n",
       "      <td>7</td>\n",
       "      <td>9.0</td>\n",
       "      <td>Mid-range product</td>\n",
       "      <td>Regularly busy</td>\n",
       "      <td>Least busy</td>\n",
       "      <td>6am - 9am</td>\n",
       "      <td>Average orders</td>\n",
       "      <td>10</td>\n",
       "      <td>New customer</td>\n",
       "      <td>6.367797</td>\n",
       "      <td>Low Spender</td>\n",
       "      <td>20.5</td>\n",
       "      <td>Non-frequent customer</td>\n",
       "      <td>Linda</td>\n",
       "      <td>Nguyen</td>\n",
       "      <td>Female</td>\n",
       "      <td>Alabama</td>\n",
       "      <td>31</td>\n",
       "      <td>2/17/2019</td>\n",
       "      <td>3</td>\n",
       "      <td>married</td>\n",
       "      <td>40423</td>\n",
       "    </tr>\n",
       "    <tr>\n",
       "      <th>2</th>\n",
       "      <td>473747</td>\n",
       "      <td>1</td>\n",
       "      <td>3</td>\n",
       "      <td>3</td>\n",
       "      <td>12</td>\n",
       "      <td>21.0</td>\n",
       "      <td>False</td>\n",
       "      <td>196</td>\n",
       "      <td>1</td>\n",
       "      <td>1</td>\n",
       "      <td>Soda</td>\n",
       "      <td>77</td>\n",
       "      <td>7</td>\n",
       "      <td>9.0</td>\n",
       "      <td>Mid-range product</td>\n",
       "      <td>Regularly busy</td>\n",
       "      <td>Least busy</td>\n",
       "      <td>10am - 13pm</td>\n",
       "      <td>Most orders</td>\n",
       "      <td>10</td>\n",
       "      <td>New customer</td>\n",
       "      <td>6.367797</td>\n",
       "      <td>Low Spender</td>\n",
       "      <td>20.5</td>\n",
       "      <td>Non-frequent customer</td>\n",
       "      <td>Linda</td>\n",
       "      <td>Nguyen</td>\n",
       "      <td>Female</td>\n",
       "      <td>Alabama</td>\n",
       "      <td>31</td>\n",
       "      <td>2/17/2019</td>\n",
       "      <td>3</td>\n",
       "      <td>married</td>\n",
       "      <td>40423</td>\n",
       "    </tr>\n",
       "    <tr>\n",
       "      <th>3</th>\n",
       "      <td>2254736</td>\n",
       "      <td>1</td>\n",
       "      <td>4</td>\n",
       "      <td>4</td>\n",
       "      <td>7</td>\n",
       "      <td>29.0</td>\n",
       "      <td>False</td>\n",
       "      <td>196</td>\n",
       "      <td>1</td>\n",
       "      <td>1</td>\n",
       "      <td>Soda</td>\n",
       "      <td>77</td>\n",
       "      <td>7</td>\n",
       "      <td>9.0</td>\n",
       "      <td>Mid-range product</td>\n",
       "      <td>Least busy</td>\n",
       "      <td>Least busy</td>\n",
       "      <td>6am - 9am</td>\n",
       "      <td>Average orders</td>\n",
       "      <td>10</td>\n",
       "      <td>New customer</td>\n",
       "      <td>6.367797</td>\n",
       "      <td>Low Spender</td>\n",
       "      <td>20.5</td>\n",
       "      <td>Non-frequent customer</td>\n",
       "      <td>Linda</td>\n",
       "      <td>Nguyen</td>\n",
       "      <td>Female</td>\n",
       "      <td>Alabama</td>\n",
       "      <td>31</td>\n",
       "      <td>2/17/2019</td>\n",
       "      <td>3</td>\n",
       "      <td>married</td>\n",
       "      <td>40423</td>\n",
       "    </tr>\n",
       "    <tr>\n",
       "      <th>4</th>\n",
       "      <td>431534</td>\n",
       "      <td>1</td>\n",
       "      <td>5</td>\n",
       "      <td>4</td>\n",
       "      <td>15</td>\n",
       "      <td>28.0</td>\n",
       "      <td>False</td>\n",
       "      <td>196</td>\n",
       "      <td>1</td>\n",
       "      <td>1</td>\n",
       "      <td>Soda</td>\n",
       "      <td>77</td>\n",
       "      <td>7</td>\n",
       "      <td>9.0</td>\n",
       "      <td>Mid-range product</td>\n",
       "      <td>Least busy</td>\n",
       "      <td>Least busy</td>\n",
       "      <td>14pm - 17pm</td>\n",
       "      <td>Average orders</td>\n",
       "      <td>10</td>\n",
       "      <td>New customer</td>\n",
       "      <td>6.367797</td>\n",
       "      <td>Low Spender</td>\n",
       "      <td>20.5</td>\n",
       "      <td>Non-frequent customer</td>\n",
       "      <td>Linda</td>\n",
       "      <td>Nguyen</td>\n",
       "      <td>Female</td>\n",
       "      <td>Alabama</td>\n",
       "      <td>31</td>\n",
       "      <td>2/17/2019</td>\n",
       "      <td>3</td>\n",
       "      <td>married</td>\n",
       "      <td>40423</td>\n",
       "    </tr>\n",
       "  </tbody>\n",
       "</table>\n",
       "</div>"
      ],
      "text/plain": [
       "   order_id  user_id  order_number  orders_day_of_week  order_hour_of_day  \\\n",
       "0   2539329        1             1                   2                  8   \n",
       "1   2398795        1             2                   3                  7   \n",
       "2    473747        1             3                   3                 12   \n",
       "3   2254736        1             4                   4                  7   \n",
       "4    431534        1             5                   4                 15   \n",
       "\n",
       "   days_since_prior_order  first_order  product_id  add_to_cart_order  \\\n",
       "0                     NaN         True         196                  1   \n",
       "1                    15.0        False         196                  1   \n",
       "2                    21.0        False         196                  1   \n",
       "3                    29.0        False         196                  1   \n",
       "4                    28.0        False         196                  1   \n",
       "\n",
       "   reordered product_name  aisle_id  department_id  prices    price_range_loc  \\\n",
       "0          0         Soda        77              7     9.0  Mid-range product   \n",
       "1          1         Soda        77              7     9.0  Mid-range product   \n",
       "2          1         Soda        77              7     9.0  Mid-range product   \n",
       "3          1         Soda        77              7     9.0  Mid-range product   \n",
       "4          1         Soda        77              7     9.0  Mid-range product   \n",
       "\n",
       "      busiest day    Busiest days  time_period busiest_period_of_day  \\\n",
       "0  Regularly busy  Regularly busy    6am - 9am        Average orders   \n",
       "1  Regularly busy      Least busy    6am - 9am        Average orders   \n",
       "2  Regularly busy      Least busy  10am - 13pm           Most orders   \n",
       "3      Least busy      Least busy    6am - 9am        Average orders   \n",
       "4      Least busy      Least busy  14pm - 17pm        Average orders   \n",
       "\n",
       "   max_order  loyalty_flag  average_price spender_flag  \\\n",
       "0         10  New customer       6.367797  Low Spender   \n",
       "1         10  New customer       6.367797  Low Spender   \n",
       "2         10  New customer       6.367797  Low Spender   \n",
       "3         10  New customer       6.367797  Low Spender   \n",
       "4         10  New customer       6.367797  Low Spender   \n",
       "\n",
       "   median_days_since_prior_order         frequency_flag First Name Surname  \\\n",
       "0                           20.5  Non-frequent customer      Linda  Nguyen   \n",
       "1                           20.5  Non-frequent customer      Linda  Nguyen   \n",
       "2                           20.5  Non-frequent customer      Linda  Nguyen   \n",
       "3                           20.5  Non-frequent customer      Linda  Nguyen   \n",
       "4                           20.5  Non-frequent customer      Linda  Nguyen   \n",
       "\n",
       "   Gender    STATE  Age date_joined  n_dependants fam_status  income  \n",
       "0  Female  Alabama   31   2/17/2019             3    married   40423  \n",
       "1  Female  Alabama   31   2/17/2019             3    married   40423  \n",
       "2  Female  Alabama   31   2/17/2019             3    married   40423  \n",
       "3  Female  Alabama   31   2/17/2019             3    married   40423  \n",
       "4  Female  Alabama   31   2/17/2019             3    married   40423  "
      ]
     },
     "execution_count": 8,
     "metadata": {},
     "output_type": "execute_result"
    }
   ],
   "source": [
    "df_merge.head()"
   ]
  },
  {
   "cell_type": "code",
   "execution_count": 9,
   "id": "4325f07c",
   "metadata": {},
   "outputs": [],
   "source": [
    "# Create a new data frame without PII data \n",
    "\n",
    "df_final = df_merge.drop(['First Name', 'Surname'], axis = 1)"
   ]
  },
  {
   "cell_type": "code",
   "execution_count": 10,
   "id": "11f1e88d",
   "metadata": {},
   "outputs": [
    {
     "data": {
      "text/html": [
       "<div>\n",
       "<style scoped>\n",
       "    .dataframe tbody tr th:only-of-type {\n",
       "        vertical-align: middle;\n",
       "    }\n",
       "\n",
       "    .dataframe tbody tr th {\n",
       "        vertical-align: top;\n",
       "    }\n",
       "\n",
       "    .dataframe thead th {\n",
       "        text-align: right;\n",
       "    }\n",
       "</style>\n",
       "<table border=\"1\" class=\"dataframe\">\n",
       "  <thead>\n",
       "    <tr style=\"text-align: right;\">\n",
       "      <th></th>\n",
       "      <th>order_id</th>\n",
       "      <th>user_id</th>\n",
       "      <th>order_number</th>\n",
       "      <th>orders_day_of_week</th>\n",
       "      <th>order_hour_of_day</th>\n",
       "      <th>days_since_prior_order</th>\n",
       "      <th>first_order</th>\n",
       "      <th>product_id</th>\n",
       "      <th>add_to_cart_order</th>\n",
       "      <th>reordered</th>\n",
       "      <th>product_name</th>\n",
       "      <th>aisle_id</th>\n",
       "      <th>department_id</th>\n",
       "      <th>prices</th>\n",
       "      <th>price_range_loc</th>\n",
       "      <th>busiest day</th>\n",
       "      <th>Busiest days</th>\n",
       "      <th>time_period</th>\n",
       "      <th>busiest_period_of_day</th>\n",
       "      <th>max_order</th>\n",
       "      <th>loyalty_flag</th>\n",
       "      <th>average_price</th>\n",
       "      <th>spender_flag</th>\n",
       "      <th>median_days_since_prior_order</th>\n",
       "      <th>frequency_flag</th>\n",
       "      <th>Gender</th>\n",
       "      <th>STATE</th>\n",
       "      <th>Age</th>\n",
       "      <th>date_joined</th>\n",
       "      <th>n_dependants</th>\n",
       "      <th>fam_status</th>\n",
       "      <th>income</th>\n",
       "    </tr>\n",
       "  </thead>\n",
       "  <tbody>\n",
       "    <tr>\n",
       "      <th>0</th>\n",
       "      <td>2539329</td>\n",
       "      <td>1</td>\n",
       "      <td>1</td>\n",
       "      <td>2</td>\n",
       "      <td>8</td>\n",
       "      <td>NaN</td>\n",
       "      <td>True</td>\n",
       "      <td>196</td>\n",
       "      <td>1</td>\n",
       "      <td>0</td>\n",
       "      <td>Soda</td>\n",
       "      <td>77</td>\n",
       "      <td>7</td>\n",
       "      <td>9.0</td>\n",
       "      <td>Mid-range product</td>\n",
       "      <td>Regularly busy</td>\n",
       "      <td>Regularly busy</td>\n",
       "      <td>6am - 9am</td>\n",
       "      <td>Average orders</td>\n",
       "      <td>10</td>\n",
       "      <td>New customer</td>\n",
       "      <td>6.367797</td>\n",
       "      <td>Low Spender</td>\n",
       "      <td>20.5</td>\n",
       "      <td>Non-frequent customer</td>\n",
       "      <td>Female</td>\n",
       "      <td>Alabama</td>\n",
       "      <td>31</td>\n",
       "      <td>2/17/2019</td>\n",
       "      <td>3</td>\n",
       "      <td>married</td>\n",
       "      <td>40423</td>\n",
       "    </tr>\n",
       "    <tr>\n",
       "      <th>1</th>\n",
       "      <td>2398795</td>\n",
       "      <td>1</td>\n",
       "      <td>2</td>\n",
       "      <td>3</td>\n",
       "      <td>7</td>\n",
       "      <td>15.0</td>\n",
       "      <td>False</td>\n",
       "      <td>196</td>\n",
       "      <td>1</td>\n",
       "      <td>1</td>\n",
       "      <td>Soda</td>\n",
       "      <td>77</td>\n",
       "      <td>7</td>\n",
       "      <td>9.0</td>\n",
       "      <td>Mid-range product</td>\n",
       "      <td>Regularly busy</td>\n",
       "      <td>Least busy</td>\n",
       "      <td>6am - 9am</td>\n",
       "      <td>Average orders</td>\n",
       "      <td>10</td>\n",
       "      <td>New customer</td>\n",
       "      <td>6.367797</td>\n",
       "      <td>Low Spender</td>\n",
       "      <td>20.5</td>\n",
       "      <td>Non-frequent customer</td>\n",
       "      <td>Female</td>\n",
       "      <td>Alabama</td>\n",
       "      <td>31</td>\n",
       "      <td>2/17/2019</td>\n",
       "      <td>3</td>\n",
       "      <td>married</td>\n",
       "      <td>40423</td>\n",
       "    </tr>\n",
       "    <tr>\n",
       "      <th>2</th>\n",
       "      <td>473747</td>\n",
       "      <td>1</td>\n",
       "      <td>3</td>\n",
       "      <td>3</td>\n",
       "      <td>12</td>\n",
       "      <td>21.0</td>\n",
       "      <td>False</td>\n",
       "      <td>196</td>\n",
       "      <td>1</td>\n",
       "      <td>1</td>\n",
       "      <td>Soda</td>\n",
       "      <td>77</td>\n",
       "      <td>7</td>\n",
       "      <td>9.0</td>\n",
       "      <td>Mid-range product</td>\n",
       "      <td>Regularly busy</td>\n",
       "      <td>Least busy</td>\n",
       "      <td>10am - 13pm</td>\n",
       "      <td>Most orders</td>\n",
       "      <td>10</td>\n",
       "      <td>New customer</td>\n",
       "      <td>6.367797</td>\n",
       "      <td>Low Spender</td>\n",
       "      <td>20.5</td>\n",
       "      <td>Non-frequent customer</td>\n",
       "      <td>Female</td>\n",
       "      <td>Alabama</td>\n",
       "      <td>31</td>\n",
       "      <td>2/17/2019</td>\n",
       "      <td>3</td>\n",
       "      <td>married</td>\n",
       "      <td>40423</td>\n",
       "    </tr>\n",
       "    <tr>\n",
       "      <th>3</th>\n",
       "      <td>2254736</td>\n",
       "      <td>1</td>\n",
       "      <td>4</td>\n",
       "      <td>4</td>\n",
       "      <td>7</td>\n",
       "      <td>29.0</td>\n",
       "      <td>False</td>\n",
       "      <td>196</td>\n",
       "      <td>1</td>\n",
       "      <td>1</td>\n",
       "      <td>Soda</td>\n",
       "      <td>77</td>\n",
       "      <td>7</td>\n",
       "      <td>9.0</td>\n",
       "      <td>Mid-range product</td>\n",
       "      <td>Least busy</td>\n",
       "      <td>Least busy</td>\n",
       "      <td>6am - 9am</td>\n",
       "      <td>Average orders</td>\n",
       "      <td>10</td>\n",
       "      <td>New customer</td>\n",
       "      <td>6.367797</td>\n",
       "      <td>Low Spender</td>\n",
       "      <td>20.5</td>\n",
       "      <td>Non-frequent customer</td>\n",
       "      <td>Female</td>\n",
       "      <td>Alabama</td>\n",
       "      <td>31</td>\n",
       "      <td>2/17/2019</td>\n",
       "      <td>3</td>\n",
       "      <td>married</td>\n",
       "      <td>40423</td>\n",
       "    </tr>\n",
       "    <tr>\n",
       "      <th>4</th>\n",
       "      <td>431534</td>\n",
       "      <td>1</td>\n",
       "      <td>5</td>\n",
       "      <td>4</td>\n",
       "      <td>15</td>\n",
       "      <td>28.0</td>\n",
       "      <td>False</td>\n",
       "      <td>196</td>\n",
       "      <td>1</td>\n",
       "      <td>1</td>\n",
       "      <td>Soda</td>\n",
       "      <td>77</td>\n",
       "      <td>7</td>\n",
       "      <td>9.0</td>\n",
       "      <td>Mid-range product</td>\n",
       "      <td>Least busy</td>\n",
       "      <td>Least busy</td>\n",
       "      <td>14pm - 17pm</td>\n",
       "      <td>Average orders</td>\n",
       "      <td>10</td>\n",
       "      <td>New customer</td>\n",
       "      <td>6.367797</td>\n",
       "      <td>Low Spender</td>\n",
       "      <td>20.5</td>\n",
       "      <td>Non-frequent customer</td>\n",
       "      <td>Female</td>\n",
       "      <td>Alabama</td>\n",
       "      <td>31</td>\n",
       "      <td>2/17/2019</td>\n",
       "      <td>3</td>\n",
       "      <td>married</td>\n",
       "      <td>40423</td>\n",
       "    </tr>\n",
       "  </tbody>\n",
       "</table>\n",
       "</div>"
      ],
      "text/plain": [
       "   order_id  user_id  order_number  orders_day_of_week  order_hour_of_day  \\\n",
       "0   2539329        1             1                   2                  8   \n",
       "1   2398795        1             2                   3                  7   \n",
       "2    473747        1             3                   3                 12   \n",
       "3   2254736        1             4                   4                  7   \n",
       "4    431534        1             5                   4                 15   \n",
       "\n",
       "   days_since_prior_order  first_order  product_id  add_to_cart_order  \\\n",
       "0                     NaN         True         196                  1   \n",
       "1                    15.0        False         196                  1   \n",
       "2                    21.0        False         196                  1   \n",
       "3                    29.0        False         196                  1   \n",
       "4                    28.0        False         196                  1   \n",
       "\n",
       "   reordered product_name  aisle_id  department_id  prices    price_range_loc  \\\n",
       "0          0         Soda        77              7     9.0  Mid-range product   \n",
       "1          1         Soda        77              7     9.0  Mid-range product   \n",
       "2          1         Soda        77              7     9.0  Mid-range product   \n",
       "3          1         Soda        77              7     9.0  Mid-range product   \n",
       "4          1         Soda        77              7     9.0  Mid-range product   \n",
       "\n",
       "      busiest day    Busiest days  time_period busiest_period_of_day  \\\n",
       "0  Regularly busy  Regularly busy    6am - 9am        Average orders   \n",
       "1  Regularly busy      Least busy    6am - 9am        Average orders   \n",
       "2  Regularly busy      Least busy  10am - 13pm           Most orders   \n",
       "3      Least busy      Least busy    6am - 9am        Average orders   \n",
       "4      Least busy      Least busy  14pm - 17pm        Average orders   \n",
       "\n",
       "   max_order  loyalty_flag  average_price spender_flag  \\\n",
       "0         10  New customer       6.367797  Low Spender   \n",
       "1         10  New customer       6.367797  Low Spender   \n",
       "2         10  New customer       6.367797  Low Spender   \n",
       "3         10  New customer       6.367797  Low Spender   \n",
       "4         10  New customer       6.367797  Low Spender   \n",
       "\n",
       "   median_days_since_prior_order         frequency_flag  Gender    STATE  Age  \\\n",
       "0                           20.5  Non-frequent customer  Female  Alabama   31   \n",
       "1                           20.5  Non-frequent customer  Female  Alabama   31   \n",
       "2                           20.5  Non-frequent customer  Female  Alabama   31   \n",
       "3                           20.5  Non-frequent customer  Female  Alabama   31   \n",
       "4                           20.5  Non-frequent customer  Female  Alabama   31   \n",
       "\n",
       "  date_joined  n_dependants fam_status  income  \n",
       "0   2/17/2019             3    married   40423  \n",
       "1   2/17/2019             3    married   40423  \n",
       "2   2/17/2019             3    married   40423  \n",
       "3   2/17/2019             3    married   40423  \n",
       "4   2/17/2019             3    married   40423  "
      ]
     },
     "execution_count": 10,
     "metadata": {},
     "output_type": "execute_result"
    }
   ],
   "source": [
    "# Check new data frame\n",
    "\n",
    "df_final.head()"
   ]
  },
  {
   "cell_type": "markdown",
   "id": "6c9154e8",
   "metadata": {},
   "source": [
    "### 3. The Instacart officers are interested in comparing customer behavior in different geographic areas. Create a regional segmentation of the data. You’ll need to create a “Region” column based on the “State” column from your customers data set. Determine whether there’s a difference in spending habits between the different U.S. regions. (Hint: You can do this by crossing the variable you just created with the spending flag.)"
   ]
  },
  {
   "cell_type": "code",
   "execution_count": 11,
   "id": "bc67cc09",
   "metadata": {},
   "outputs": [],
   "source": [
    "# Create lists \n",
    "\n",
    "region_1 = ['Maine', 'New Hampshire', 'Vermont', 'Massachusetts', 'Rhode Island', 'Connecticut', 'New York', 'Pennsylvania', 'New Jersey']\n",
    "\n",
    "region_2 = ['Wisconsin', 'Michigan', 'Illinois', 'Indiana', 'Ohio', 'North Dakota', 'South Dakota', 'Nebraska', 'Kansas', 'Minnesota', 'Iowa', 'Missouri']\n",
    "\n",
    "region_3 = ['Delaware','Maryland', 'District of Columbia', 'Virginia', 'West Virginia', 'North Carolina', 'South Carolina', 'Georgia', 'Florida', 'Kentucky', 'Tennessee', 'Mississippi', 'Alabama', 'Oklahoma', 'Texas', 'Arkansas', 'Louisiana']\n",
    "\n",
    "region_4 = ['Idaho', 'Montana', 'Wyoming', 'Nevada', 'Utah', 'Colorado', 'Arizona', 'New Mexico', 'Alaska', 'Washington', 'Oregon', 'California', 'Hawaii']"
   ]
  },
  {
   "cell_type": "code",
   "execution_count": 12,
   "id": "89b21916",
   "metadata": {},
   "outputs": [],
   "source": [
    "# Write for loop \n",
    "\n",
    "result = []\n",
    "\n",
    "for value in df_final['STATE']:\n",
    "    if value in region_1:\n",
    "        result.append('Northeast')\n",
    "    elif value in region_2:\n",
    "        result.append('Midwest')\n",
    "    elif value in region_3:\n",
    "        result.append('South')\n",
    "    elif value in region_4:\n",
    "        result.append('West')\n",
    "    else:\n",
    "        result.append('Not in category')"
   ]
  },
  {
   "cell_type": "code",
   "execution_count": 13,
   "id": "ca76b27d",
   "metadata": {},
   "outputs": [],
   "source": [
    "# Create new column \n",
    "\n",
    "df_final['Region'] = result"
   ]
  },
  {
   "cell_type": "code",
   "execution_count": 14,
   "id": "82bfeab0",
   "metadata": {},
   "outputs": [
    {
     "data": {
      "text/plain": [
       "South        10791885\n",
       "West          8292913\n",
       "Midwest       7597325\n",
       "Northeast     5722736\n",
       "Name: Region, dtype: int64"
      ]
     },
     "execution_count": 14,
     "metadata": {},
     "output_type": "execute_result"
    }
   ],
   "source": [
    "# Check new column \n",
    "\n",
    "df_final['Region'].value_counts()"
   ]
  },
  {
   "cell_type": "code",
   "execution_count": 15,
   "id": "4542d443",
   "metadata": {},
   "outputs": [],
   "source": [
    "# Determine whether there’s a difference in spending habits between the different U.S. regions. (Hint: You can do this by crossing the variable you just created with the spending flag.)"
   ]
  },
  {
   "cell_type": "code",
   "execution_count": 16,
   "id": "7a06e6cb",
   "metadata": {},
   "outputs": [],
   "source": [
    "crosstab = pd.crosstab(df_final['Region'], df_final['spender_flag'], dropna = False)"
   ]
  },
  {
   "cell_type": "code",
   "execution_count": 17,
   "id": "436036d2",
   "metadata": {},
   "outputs": [],
   "source": [
    "crosstab.to_clipboard()"
   ]
  },
  {
   "cell_type": "code",
   "execution_count": 18,
   "id": "9989af61",
   "metadata": {},
   "outputs": [],
   "source": [
    "# I calculated the % of high spenders and low spenders in excel and created a dataframe to show the results\n",
    "\n",
    "spenders = {'Region': ['Midwest', 'Northeast', 'South', 'West'], '% High Spenders': [2.05, 1.89, 1.94, 1.93], '% Low Spenders': [97.95, 98.11, 98.06, 98.07]}\n",
    "df_spenders = pd.DataFrame(data=spenders)"
   ]
  },
  {
   "cell_type": "code",
   "execution_count": 19,
   "id": "c1047870",
   "metadata": {},
   "outputs": [
    {
     "data": {
      "text/html": [
       "<div>\n",
       "<style scoped>\n",
       "    .dataframe tbody tr th:only-of-type {\n",
       "        vertical-align: middle;\n",
       "    }\n",
       "\n",
       "    .dataframe tbody tr th {\n",
       "        vertical-align: top;\n",
       "    }\n",
       "\n",
       "    .dataframe thead th {\n",
       "        text-align: right;\n",
       "    }\n",
       "</style>\n",
       "<table border=\"1\" class=\"dataframe\">\n",
       "  <thead>\n",
       "    <tr style=\"text-align: right;\">\n",
       "      <th></th>\n",
       "      <th>Region</th>\n",
       "      <th>% High Spenders</th>\n",
       "      <th>% Low Spenders</th>\n",
       "    </tr>\n",
       "  </thead>\n",
       "  <tbody>\n",
       "    <tr>\n",
       "      <th>0</th>\n",
       "      <td>Midwest</td>\n",
       "      <td>2.05</td>\n",
       "      <td>97.95</td>\n",
       "    </tr>\n",
       "    <tr>\n",
       "      <th>1</th>\n",
       "      <td>Northeast</td>\n",
       "      <td>1.89</td>\n",
       "      <td>98.11</td>\n",
       "    </tr>\n",
       "    <tr>\n",
       "      <th>2</th>\n",
       "      <td>South</td>\n",
       "      <td>1.94</td>\n",
       "      <td>98.06</td>\n",
       "    </tr>\n",
       "    <tr>\n",
       "      <th>3</th>\n",
       "      <td>West</td>\n",
       "      <td>1.93</td>\n",
       "      <td>98.07</td>\n",
       "    </tr>\n",
       "  </tbody>\n",
       "</table>\n",
       "</div>"
      ],
      "text/plain": [
       "      Region  % High Spenders  % Low Spenders\n",
       "0    Midwest             2.05           97.95\n",
       "1  Northeast             1.89           98.11\n",
       "2      South             1.94           98.06\n",
       "3       West             1.93           98.07"
      ]
     },
     "execution_count": 19,
     "metadata": {},
     "output_type": "execute_result"
    }
   ],
   "source": [
    "df_spenders"
   ]
  },
  {
   "cell_type": "markdown",
   "id": "bfef4e7d",
   "metadata": {},
   "source": [
    "There is no significant difference between regions in terms of spending habits. "
   ]
  },
  {
   "cell_type": "markdown",
   "id": "0c6071bf",
   "metadata": {},
   "source": [
    "### 4. The Instacart CFO isn’t interested in customers who don’t generate much revenue for the app. Create an exclusion flag for low-activity customers (customers with less than 5 orders) and exclude them from the data. Make sure you export this sample."
   ]
  },
  {
   "cell_type": "code",
   "execution_count": 20,
   "id": "90932aab",
   "metadata": {},
   "outputs": [],
   "source": [
    "# Create low-activity flag \n",
    "\n",
    "# Create conditions with loc function\n",
    "\n",
    "df_final.loc[df_final['max_order'] < 5, 'exclusion_flag'] = 'low activity customer'\n",
    "df_final.loc[df_final['max_order'] >= 5, 'exclusion_flag'] = 'regular customer'"
   ]
  },
  {
   "cell_type": "code",
   "execution_count": 21,
   "id": "73817278",
   "metadata": {},
   "outputs": [
    {
     "data": {
      "text/plain": [
       "regular customer         30964564\n",
       "low activity customer     1440295\n",
       "Name: exclusion_flag, dtype: int64"
      ]
     },
     "execution_count": 21,
     "metadata": {},
     "output_type": "execute_result"
    }
   ],
   "source": [
    "# Check exclusion flag \n",
    "\n",
    "df_final['exclusion_flag'].value_counts(dropna = False)"
   ]
  },
  {
   "cell_type": "code",
   "execution_count": 22,
   "id": "0d05955b",
   "metadata": {},
   "outputs": [],
   "source": [
    "# Create a subset with customers to exclude\n",
    "\n",
    "df_low_activity_customers = df_final[df_final['exclusion_flag'] == 'low activity customer']"
   ]
  },
  {
   "cell_type": "code",
   "execution_count": 23,
   "id": "b108b7e9",
   "metadata": {},
   "outputs": [
    {
     "data": {
      "text/plain": [
       "4    753543\n",
       "3    686741\n",
       "2         6\n",
       "1         5\n",
       "Name: max_order, dtype: int64"
      ]
     },
     "execution_count": 23,
     "metadata": {},
     "output_type": "execute_result"
    }
   ],
   "source": [
    "# Check whether all values in max_order column are < 5 in this subset \n",
    "\n",
    "df_low_activity_customers['max_order'].value_counts()"
   ]
  },
  {
   "cell_type": "code",
   "execution_count": 24,
   "id": "a4a7176e",
   "metadata": {},
   "outputs": [],
   "source": [
    "# Export sample \n",
    "\n",
    "df_low_activity_customers.to_pickle(os.path.join(path, '02 Data', 'Prepared Data', 'low_activity_customers.pkl'))"
   ]
  },
  {
   "cell_type": "code",
   "execution_count": 25,
   "id": "cc7025e8",
   "metadata": {},
   "outputs": [],
   "source": [
    "# Create a new data frame without low activity customers \n",
    "\n",
    "df_final_new = df_final[df_final['exclusion_flag'] == 'regular customer']"
   ]
  },
  {
   "cell_type": "code",
   "execution_count": 26,
   "id": "935fa97e",
   "metadata": {},
   "outputs": [
    {
     "data": {
      "text/plain": [
       "regular customer    30964564\n",
       "Name: exclusion_flag, dtype: int64"
      ]
     },
     "execution_count": 26,
     "metadata": {},
     "output_type": "execute_result"
    }
   ],
   "source": [
    "# Check whether excluding low activity customers was successful\n",
    "\n",
    "df_final_new['exclusion_flag'].value_counts() "
   ]
  },
  {
   "cell_type": "code",
   "execution_count": 27,
   "id": "caa90a8d",
   "metadata": {},
   "outputs": [
    {
     "data": {
      "text/plain": [
       "(30964564, 34)"
      ]
     },
     "execution_count": 27,
     "metadata": {},
     "output_type": "execute_result"
    }
   ],
   "source": [
    "df_final_new.shape"
   ]
  },
  {
   "cell_type": "markdown",
   "id": "1016c1ad",
   "metadata": {},
   "source": [
    "### 5. The marketing and business strategy units at Instacart want to create more-relevant marketing strategies for different products and are, thus, curious about customer profiling in their database. Create a profiling variable based on age, income, certain goods in the “department_id” column, and number of dependents. You might also use the “orders_day_of_the_week” and “order_hour_of_day” columns if you can think of a way they would impact customer profiles. (Hint: As an example, try thinking of what characteristics would lead you to the profile “Single adult” or “Young parent.”)"
   ]
  },
  {
   "cell_type": "markdown",
   "id": "8e48a701",
   "metadata": {},
   "source": [
    "##### 5.1 Age brackets"
   ]
  },
  {
   "cell_type": "code",
   "execution_count": 28,
   "id": "5f5d5360",
   "metadata": {},
   "outputs": [
    {
     "data": {
      "text/plain": [
       "18    478457\n",
       "19    496077\n",
       "20    480194\n",
       "21    489116\n",
       "22    490811\n",
       "       ...  \n",
       "77    477999\n",
       "78    471119\n",
       "79    508337\n",
       "80    492750\n",
       "81    485847\n",
       "Name: Age, Length: 64, dtype: int64"
      ]
     },
     "execution_count": 28,
     "metadata": {},
     "output_type": "execute_result"
    }
   ],
   "source": [
    "# Checking the age range of customers \n",
    "\n",
    "df_final_new['Age'].value_counts().sort_index()"
   ]
  },
  {
   "cell_type": "markdown",
   "id": "42551da9",
   "metadata": {},
   "source": [
    "Defining the age groups \n",
    "\n",
    "- 18-20\n",
    "- 21-30\n",
    "- 31-40\n",
    "- 41-50\n",
    "- 51-60\n",
    "- 61-70\n",
    "- 71-80\n",
    "- 80+"
   ]
  },
  {
   "cell_type": "code",
   "execution_count": 29,
   "id": "c9291ec1",
   "metadata": {},
   "outputs": [],
   "source": [
    "# Write for loop \n",
    "\n",
    "age_brackets = []\n",
    "\n",
    "for value in df_final_new['Age']:\n",
    "    if value <= 20:\n",
    "        age_brackets.append('18-20')\n",
    "    elif (value > 20) and (value <= 30):\n",
    "        age_brackets.append('21-30')\n",
    "    elif (value > 30) and (value <= 40):\n",
    "        age_brackets.append('31-40')\n",
    "    elif (value > 40) and (value <= 50):\n",
    "        age_brackets.append('41-50')\n",
    "    elif (value > 50) and (value <= 60):\n",
    "        age_brackets.append('51-60')\n",
    "    elif (value > 60) and (value <= 70):\n",
    "        age_brackets.append('61-70')\n",
    "    elif (value > 70) and (value <= 80):\n",
    "        age_brackets.append('71-80')\n",
    "    elif (value > 80) and (value <= 90):\n",
    "        age_brackets.append('80+')    \n",
    "    else:\n",
    "        result.append('Not in age category')"
   ]
  },
  {
   "cell_type": "code",
   "execution_count": 30,
   "id": "8472a2f6",
   "metadata": {},
   "outputs": [
    {
     "name": "stderr",
     "output_type": "stream",
     "text": [
      "<ipython-input-30-5113fb947077>:1: SettingWithCopyWarning: \n",
      "A value is trying to be set on a copy of a slice from a DataFrame.\n",
      "Try using .loc[row_indexer,col_indexer] = value instead\n",
      "\n",
      "See the caveats in the documentation: https://pandas.pydata.org/pandas-docs/stable/user_guide/indexing.html#returning-a-view-versus-a-copy\n",
      "  df_final_new['age_brackets'] = age_brackets\n"
     ]
    }
   ],
   "source": [
    "df_final_new['age_brackets'] = age_brackets"
   ]
  },
  {
   "cell_type": "code",
   "execution_count": 31,
   "id": "6833b615",
   "metadata": {},
   "outputs": [
    {
     "data": {
      "text/plain": [
       "18-20    1454728\n",
       "21-30    4849512\n",
       "31-40    4844193\n",
       "41-50    4868632\n",
       "51-60    4834892\n",
       "61-70    4779958\n",
       "71-80    4846802\n",
       "80+       485847\n",
       "Name: age_brackets, dtype: int64"
      ]
     },
     "execution_count": 31,
     "metadata": {},
     "output_type": "execute_result"
    }
   ],
   "source": [
    "# Check age brackets flag \n",
    "\n",
    "df_final_new['age_brackets'].value_counts().sort_index()"
   ]
  },
  {
   "cell_type": "markdown",
   "id": "287a46f6",
   "metadata": {},
   "source": [
    "#### 5.2 Family status "
   ]
  },
  {
   "cell_type": "code",
   "execution_count": 32,
   "id": "b7674560",
   "metadata": {},
   "outputs": [
    {
     "data": {
      "text/plain": [
       "married                             21743711\n",
       "single                               5094410\n",
       "divorced/widowed                     2645271\n",
       "living with parents and siblings     1481172\n",
       "Name: fam_status, dtype: int64"
      ]
     },
     "execution_count": 32,
     "metadata": {},
     "output_type": "execute_result"
    }
   ],
   "source": [
    "df_final_new['fam_status'].value_counts()"
   ]
  },
  {
   "cell_type": "markdown",
   "id": "089e00cf",
   "metadata": {},
   "source": [
    "##### 5.3 Parental status "
   ]
  },
  {
   "cell_type": "code",
   "execution_count": 33,
   "id": "0528371f",
   "metadata": {},
   "outputs": [
    {
     "data": {
      "text/plain": [
       "0    7739681\n",
       "1    7719106\n",
       "2    7733261\n",
       "3    7772516\n",
       "Name: n_dependants, dtype: int64"
      ]
     },
     "execution_count": 33,
     "metadata": {},
     "output_type": "execute_result"
    }
   ],
   "source": [
    "# Get the frequency of n_dependants column\n",
    "\n",
    "df_final_new['n_dependants'].value_counts().sort_index()"
   ]
  },
  {
   "cell_type": "code",
   "execution_count": 34,
   "id": "b489e4f3",
   "metadata": {
    "scrolled": true
   },
   "outputs": [
    {
     "name": "stderr",
     "output_type": "stream",
     "text": [
      "/Users/nora/opt/anaconda3/lib/python3.8/site-packages/pandas/core/indexing.py:1599: SettingWithCopyWarning: \n",
      "A value is trying to be set on a copy of a slice from a DataFrame.\n",
      "Try using .loc[row_indexer,col_indexer] = value instead\n",
      "\n",
      "See the caveats in the documentation: https://pandas.pydata.org/pandas-docs/stable/user_guide/indexing.html#returning-a-view-versus-a-copy\n",
      "  self.obj[key] = infer_fill_value(value)\n",
      "/Users/nora/opt/anaconda3/lib/python3.8/site-packages/pandas/core/indexing.py:1720: SettingWithCopyWarning: \n",
      "A value is trying to be set on a copy of a slice from a DataFrame.\n",
      "Try using .loc[row_indexer,col_indexer] = value instead\n",
      "\n",
      "See the caveats in the documentation: https://pandas.pydata.org/pandas-docs/stable/user_guide/indexing.html#returning-a-view-versus-a-copy\n",
      "  self._setitem_single_column(loc, value, pi)\n",
      "/Users/nora/opt/anaconda3/lib/python3.8/site-packages/pandas/core/indexing.py:1720: SettingWithCopyWarning: \n",
      "A value is trying to be set on a copy of a slice from a DataFrame.\n",
      "Try using .loc[row_indexer,col_indexer] = value instead\n",
      "\n",
      "See the caveats in the documentation: https://pandas.pydata.org/pandas-docs/stable/user_guide/indexing.html#returning-a-view-versus-a-copy\n",
      "  self._setitem_single_column(loc, value, pi)\n"
     ]
    }
   ],
   "source": [
    "# Create conditions with loc function \n",
    "\n",
    "df_final_new.loc[df_final['n_dependants'] == 0, 'parental_status'] = 'not parent'\n",
    "df_final_new.loc[df_final['n_dependants'] >= 1, 'parental_status'] = 'parent'"
   ]
  },
  {
   "cell_type": "code",
   "execution_count": 35,
   "id": "2531b280",
   "metadata": {},
   "outputs": [
    {
     "data": {
      "text/plain": [
       "parent        23224883\n",
       "not parent     7739681\n",
       "Name: parental_status, dtype: int64"
      ]
     },
     "execution_count": 35,
     "metadata": {},
     "output_type": "execute_result"
    }
   ],
   "source": [
    "# Check parental_status column \n",
    "\n",
    "df_final_new['parental_status'].value_counts(dropna = False)"
   ]
  },
  {
   "cell_type": "markdown",
   "id": "9e2df7ec",
   "metadata": {},
   "source": [
    "#### 5.4 Income categories"
   ]
  },
  {
   "cell_type": "code",
   "execution_count": 36,
   "id": "e6616b17",
   "metadata": {},
   "outputs": [
    {
     "data": {
      "text/plain": [
       "25903      20\n",
       "25911      28\n",
       "25937      39\n",
       "25941      31\n",
       "25955     392\n",
       "         ... \n",
       "584097    826\n",
       "590790     54\n",
       "591089    176\n",
       "592409    318\n",
       "593901    640\n",
       "Name: income, Length: 96069, dtype: int64"
      ]
     },
     "execution_count": 36,
     "metadata": {},
     "output_type": "execute_result"
    }
   ],
   "source": [
    "# Check income range \n",
    "\n",
    "df_final_new['income'].value_counts().sort_index()"
   ]
  },
  {
   "cell_type": "code",
   "execution_count": 37,
   "id": "d19612a3",
   "metadata": {},
   "outputs": [
    {
     "data": {
      "text/plain": [
       "<AxesSubplot:ylabel='Frequency'>"
      ]
     },
     "execution_count": 37,
     "metadata": {},
     "output_type": "execute_result"
    },
    {
     "data": {
      "image/png": "[encoded data removed]",
      "text/plain": [
       "<Figure size 432x288 with 1 Axes>"
      ]
     },
     "metadata": {
      "needs_background": "light"
     },
     "output_type": "display_data"
    }
   ],
   "source": [
    "# Create a histogram to find income categories\n",
    "\n",
    "df_final_new['income'].plot.hist(bins = 25)"
   ]
  },
  {
   "cell_type": "markdown",
   "id": "b5e67ca7",
   "metadata": {},
   "source": [
    "Defining the income brackets: \n",
    "\n",
    "range: 20.000 - 600.000\n",
    "\n",
    "- 25.000-50.000\n",
    "- 50.000-75.000\n",
    "- 75.000-100.000\n",
    "- 100.000-125.000\n",
    "- 125.000-150.000\n",
    "- 150.000+"
   ]
  },
  {
   "cell_type": "code",
   "execution_count": 38,
   "id": "aafa5b99",
   "metadata": {},
   "outputs": [],
   "source": [
    "income = []\n",
    "\n",
    "for value in df_final_new['income']:\n",
    "    if value <= 50000: \n",
    "        income.append('025000-050000')\n",
    "    elif (value > 50000) and (value <= 75000):\n",
    "        income.append('050000-075000')\n",
    "    elif (value > 75000) and (value <= 100000):\n",
    "        income.append('075000-100000')\n",
    "    elif (value > 100000) and (value <= 125000):\n",
    "        income.append('100000-125000')\n",
    "    elif (value > 125000) and (value <= 150000):\n",
    "        income.append('125000-150000')\n",
    "    elif (value > 150000):\n",
    "        income.append('150000+')\n",
    "    else: \n",
    "        income.append('something went wrong')"
   ]
  },
  {
   "cell_type": "code",
   "execution_count": 39,
   "id": "58513798",
   "metadata": {},
   "outputs": [
    {
     "name": "stderr",
     "output_type": "stream",
     "text": [
      "<ipython-input-39-f1dc2cd237c6>:1: SettingWithCopyWarning: \n",
      "A value is trying to be set on a copy of a slice from a DataFrame.\n",
      "Try using .loc[row_indexer,col_indexer] = value instead\n",
      "\n",
      "See the caveats in the documentation: https://pandas.pydata.org/pandas-docs/stable/user_guide/indexing.html#returning-a-view-versus-a-copy\n",
      "  df_final_new['income_categories'] = income\n"
     ]
    }
   ],
   "source": [
    "df_final_new['income_categories'] = income"
   ]
  },
  {
   "cell_type": "code",
   "execution_count": 40,
   "id": "548d78d9",
   "metadata": {},
   "outputs": [
    {
     "data": {
      "text/plain": [
       "025000-050000    3362554\n",
       "050000-075000    6544180\n",
       "075000-100000    6850802\n",
       "100000-125000    5928984\n",
       "125000-150000    4383510\n",
       "150000+          3894534\n",
       "Name: income_categories, dtype: int64"
      ]
     },
     "execution_count": 40,
     "metadata": {},
     "output_type": "execute_result"
    }
   ],
   "source": [
    "# Check income_categories variable\n",
    "\n",
    "df_final_new['income_categories'].value_counts().sort_index()"
   ]
  },
  {
   "cell_type": "markdown",
   "id": "a7b44e00",
   "metadata": {},
   "source": [
    "#### 5.5 Department column "
   ]
  },
  {
   "cell_type": "code",
   "execution_count": 41,
   "id": "a19239c3",
   "metadata": {},
   "outputs": [],
   "source": [
    "# Import department data \n",
    "\n",
    "df_dep = pd.read_csv(os.path.join(path, '02 Data', 'Original Data', 'departments.csv'), index_col = False)"
   ]
  },
  {
   "cell_type": "code",
   "execution_count": 42,
   "id": "cd42123d",
   "metadata": {},
   "outputs": [
    {
     "data": {
      "text/html": [
       "<div>\n",
       "<style scoped>\n",
       "    .dataframe tbody tr th:only-of-type {\n",
       "        vertical-align: middle;\n",
       "    }\n",
       "\n",
       "    .dataframe tbody tr th {\n",
       "        vertical-align: top;\n",
       "    }\n",
       "\n",
       "    .dataframe thead th {\n",
       "        text-align: right;\n",
       "    }\n",
       "</style>\n",
       "<table border=\"1\" class=\"dataframe\">\n",
       "  <thead>\n",
       "    <tr style=\"text-align: right;\">\n",
       "      <th></th>\n",
       "      <th>department_id</th>\n",
       "      <th>1</th>\n",
       "      <th>2</th>\n",
       "      <th>3</th>\n",
       "      <th>4</th>\n",
       "      <th>5</th>\n",
       "      <th>6</th>\n",
       "      <th>7</th>\n",
       "      <th>8</th>\n",
       "      <th>9</th>\n",
       "      <th>10</th>\n",
       "      <th>11</th>\n",
       "      <th>12</th>\n",
       "      <th>13</th>\n",
       "      <th>14</th>\n",
       "      <th>15</th>\n",
       "      <th>16</th>\n",
       "      <th>17</th>\n",
       "      <th>18</th>\n",
       "      <th>19</th>\n",
       "      <th>20</th>\n",
       "      <th>21</th>\n",
       "    </tr>\n",
       "  </thead>\n",
       "  <tbody>\n",
       "    <tr>\n",
       "      <th>0</th>\n",
       "      <td>department</td>\n",
       "      <td>frozen</td>\n",
       "      <td>other</td>\n",
       "      <td>bakery</td>\n",
       "      <td>produce</td>\n",
       "      <td>alcohol</td>\n",
       "      <td>international</td>\n",
       "      <td>beverages</td>\n",
       "      <td>pets</td>\n",
       "      <td>dry goods pasta</td>\n",
       "      <td>bulk</td>\n",
       "      <td>personal care</td>\n",
       "      <td>meat seafood</td>\n",
       "      <td>pantry</td>\n",
       "      <td>breakfast</td>\n",
       "      <td>canned goods</td>\n",
       "      <td>dairy eggs</td>\n",
       "      <td>household</td>\n",
       "      <td>babies</td>\n",
       "      <td>snacks</td>\n",
       "      <td>deli</td>\n",
       "      <td>missing</td>\n",
       "    </tr>\n",
       "  </tbody>\n",
       "</table>\n",
       "</div>"
      ],
      "text/plain": [
       "  department_id       1      2       3        4        5              6  \\\n",
       "0    department  frozen  other  bakery  produce  alcohol  international   \n",
       "\n",
       "           7     8                9    10             11            12  \\\n",
       "0  beverages  pets  dry goods pasta  bulk  personal care  meat seafood   \n",
       "\n",
       "       13         14            15          16         17      18      19  \\\n",
       "0  pantry  breakfast  canned goods  dairy eggs  household  babies  snacks   \n",
       "\n",
       "     20       21  \n",
       "0  deli  missing  "
      ]
     },
     "execution_count": 42,
     "metadata": {},
     "output_type": "execute_result"
    }
   ],
   "source": [
    "df_dep.head()"
   ]
  },
  {
   "cell_type": "code",
   "execution_count": 43,
   "id": "069c7e4d",
   "metadata": {},
   "outputs": [
    {
     "data": {
      "text/html": [
       "<div>\n",
       "<style scoped>\n",
       "    .dataframe tbody tr th:only-of-type {\n",
       "        vertical-align: middle;\n",
       "    }\n",
       "\n",
       "    .dataframe tbody tr th {\n",
       "        vertical-align: top;\n",
       "    }\n",
       "\n",
       "    .dataframe thead th {\n",
       "        text-align: right;\n",
       "    }\n",
       "</style>\n",
       "<table border=\"1\" class=\"dataframe\">\n",
       "  <thead>\n",
       "    <tr style=\"text-align: right;\">\n",
       "      <th></th>\n",
       "      <th>0</th>\n",
       "    </tr>\n",
       "  </thead>\n",
       "  <tbody>\n",
       "    <tr>\n",
       "      <th>department_id</th>\n",
       "      <td>department</td>\n",
       "    </tr>\n",
       "    <tr>\n",
       "      <th>1</th>\n",
       "      <td>frozen</td>\n",
       "    </tr>\n",
       "    <tr>\n",
       "      <th>2</th>\n",
       "      <td>other</td>\n",
       "    </tr>\n",
       "    <tr>\n",
       "      <th>3</th>\n",
       "      <td>bakery</td>\n",
       "    </tr>\n",
       "    <tr>\n",
       "      <th>4</th>\n",
       "      <td>produce</td>\n",
       "    </tr>\n",
       "    <tr>\n",
       "      <th>5</th>\n",
       "      <td>alcohol</td>\n",
       "    </tr>\n",
       "    <tr>\n",
       "      <th>6</th>\n",
       "      <td>international</td>\n",
       "    </tr>\n",
       "    <tr>\n",
       "      <th>7</th>\n",
       "      <td>beverages</td>\n",
       "    </tr>\n",
       "    <tr>\n",
       "      <th>8</th>\n",
       "      <td>pets</td>\n",
       "    </tr>\n",
       "    <tr>\n",
       "      <th>9</th>\n",
       "      <td>dry goods pasta</td>\n",
       "    </tr>\n",
       "    <tr>\n",
       "      <th>10</th>\n",
       "      <td>bulk</td>\n",
       "    </tr>\n",
       "    <tr>\n",
       "      <th>11</th>\n",
       "      <td>personal care</td>\n",
       "    </tr>\n",
       "    <tr>\n",
       "      <th>12</th>\n",
       "      <td>meat seafood</td>\n",
       "    </tr>\n",
       "    <tr>\n",
       "      <th>13</th>\n",
       "      <td>pantry</td>\n",
       "    </tr>\n",
       "    <tr>\n",
       "      <th>14</th>\n",
       "      <td>breakfast</td>\n",
       "    </tr>\n",
       "    <tr>\n",
       "      <th>15</th>\n",
       "      <td>canned goods</td>\n",
       "    </tr>\n",
       "    <tr>\n",
       "      <th>16</th>\n",
       "      <td>dairy eggs</td>\n",
       "    </tr>\n",
       "    <tr>\n",
       "      <th>17</th>\n",
       "      <td>household</td>\n",
       "    </tr>\n",
       "    <tr>\n",
       "      <th>18</th>\n",
       "      <td>babies</td>\n",
       "    </tr>\n",
       "    <tr>\n",
       "      <th>19</th>\n",
       "      <td>snacks</td>\n",
       "    </tr>\n",
       "    <tr>\n",
       "      <th>20</th>\n",
       "      <td>deli</td>\n",
       "    </tr>\n",
       "    <tr>\n",
       "      <th>21</th>\n",
       "      <td>missing</td>\n",
       "    </tr>\n",
       "  </tbody>\n",
       "</table>\n",
       "</div>"
      ],
      "text/plain": [
       "                             0\n",
       "department_id       department\n",
       "1                       frozen\n",
       "2                        other\n",
       "3                       bakery\n",
       "4                      produce\n",
       "5                      alcohol\n",
       "6                international\n",
       "7                    beverages\n",
       "8                         pets\n",
       "9              dry goods pasta\n",
       "10                        bulk\n",
       "11               personal care\n",
       "12                meat seafood\n",
       "13                      pantry\n",
       "14                   breakfast\n",
       "15                canned goods\n",
       "16                  dairy eggs\n",
       "17                   household\n",
       "18                      babies\n",
       "19                      snacks\n",
       "20                        deli\n",
       "21                     missing"
      ]
     },
     "execution_count": 43,
     "metadata": {},
     "output_type": "execute_result"
    }
   ],
   "source": [
    "# Transpose the table\n",
    "\n",
    "# Check departments to see which profiling variables I can create \n",
    "\n",
    "df_dep.T"
   ]
  },
  {
   "cell_type": "code",
   "execution_count": 44,
   "id": "18b93e62",
   "metadata": {},
   "outputs": [
    {
     "name": "stderr",
     "output_type": "stream",
     "text": [
      "/Users/nora/opt/anaconda3/lib/python3.8/site-packages/pandas/core/indexing.py:1599: SettingWithCopyWarning: \n",
      "A value is trying to be set on a copy of a slice from a DataFrame.\n",
      "Try using .loc[row_indexer,col_indexer] = value instead\n",
      "\n",
      "See the caveats in the documentation: https://pandas.pydata.org/pandas-docs/stable/user_guide/indexing.html#returning-a-view-versus-a-copy\n",
      "  self.obj[key] = infer_fill_value(value)\n",
      "/Users/nora/opt/anaconda3/lib/python3.8/site-packages/pandas/core/indexing.py:1720: SettingWithCopyWarning: \n",
      "A value is trying to be set on a copy of a slice from a DataFrame.\n",
      "Try using .loc[row_indexer,col_indexer] = value instead\n",
      "\n",
      "See the caveats in the documentation: https://pandas.pydata.org/pandas-docs/stable/user_guide/indexing.html#returning-a-view-versus-a-copy\n",
      "  self._setitem_single_column(loc, value, pi)\n",
      "/Users/nora/opt/anaconda3/lib/python3.8/site-packages/pandas/core/indexing.py:1720: SettingWithCopyWarning: \n",
      "A value is trying to be set on a copy of a slice from a DataFrame.\n",
      "Try using .loc[row_indexer,col_indexer] = value instead\n",
      "\n",
      "See the caveats in the documentation: https://pandas.pydata.org/pandas-docs/stable/user_guide/indexing.html#returning-a-view-versus-a-copy\n",
      "  self._setitem_single_column(loc, value, pi)\n",
      "/Users/nora/opt/anaconda3/lib/python3.8/site-packages/pandas/core/indexing.py:1720: SettingWithCopyWarning: \n",
      "A value is trying to be set on a copy of a slice from a DataFrame.\n",
      "Try using .loc[row_indexer,col_indexer] = value instead\n",
      "\n",
      "See the caveats in the documentation: https://pandas.pydata.org/pandas-docs/stable/user_guide/indexing.html#returning-a-view-versus-a-copy\n",
      "  self._setitem_single_column(loc, value, pi)\n",
      "/Users/nora/opt/anaconda3/lib/python3.8/site-packages/pandas/core/indexing.py:1720: SettingWithCopyWarning: \n",
      "A value is trying to be set on a copy of a slice from a DataFrame.\n",
      "Try using .loc[row_indexer,col_indexer] = value instead\n",
      "\n",
      "See the caveats in the documentation: https://pandas.pydata.org/pandas-docs/stable/user_guide/indexing.html#returning-a-view-versus-a-copy\n",
      "  self._setitem_single_column(loc, value, pi)\n",
      "/Users/nora/opt/anaconda3/lib/python3.8/site-packages/pandas/core/indexing.py:1720: SettingWithCopyWarning: \n",
      "A value is trying to be set on a copy of a slice from a DataFrame.\n",
      "Try using .loc[row_indexer,col_indexer] = value instead\n",
      "\n",
      "See the caveats in the documentation: https://pandas.pydata.org/pandas-docs/stable/user_guide/indexing.html#returning-a-view-versus-a-copy\n",
      "  self._setitem_single_column(loc, value, pi)\n",
      "/Users/nora/opt/anaconda3/lib/python3.8/site-packages/pandas/core/indexing.py:1720: SettingWithCopyWarning: \n",
      "A value is trying to be set on a copy of a slice from a DataFrame.\n",
      "Try using .loc[row_indexer,col_indexer] = value instead\n",
      "\n",
      "See the caveats in the documentation: https://pandas.pydata.org/pandas-docs/stable/user_guide/indexing.html#returning-a-view-versus-a-copy\n",
      "  self._setitem_single_column(loc, value, pi)\n",
      "/Users/nora/opt/anaconda3/lib/python3.8/site-packages/pandas/core/indexing.py:1720: SettingWithCopyWarning: \n",
      "A value is trying to be set on a copy of a slice from a DataFrame.\n",
      "Try using .loc[row_indexer,col_indexer] = value instead\n",
      "\n",
      "See the caveats in the documentation: https://pandas.pydata.org/pandas-docs/stable/user_guide/indexing.html#returning-a-view-versus-a-copy\n",
      "  self._setitem_single_column(loc, value, pi)\n",
      "/Users/nora/opt/anaconda3/lib/python3.8/site-packages/pandas/core/indexing.py:1720: SettingWithCopyWarning: \n",
      "A value is trying to be set on a copy of a slice from a DataFrame.\n",
      "Try using .loc[row_indexer,col_indexer] = value instead\n",
      "\n",
      "See the caveats in the documentation: https://pandas.pydata.org/pandas-docs/stable/user_guide/indexing.html#returning-a-view-versus-a-copy\n",
      "  self._setitem_single_column(loc, value, pi)\n",
      "/Users/nora/opt/anaconda3/lib/python3.8/site-packages/pandas/core/indexing.py:1720: SettingWithCopyWarning: \n",
      "A value is trying to be set on a copy of a slice from a DataFrame.\n",
      "Try using .loc[row_indexer,col_indexer] = value instead\n",
      "\n",
      "See the caveats in the documentation: https://pandas.pydata.org/pandas-docs/stable/user_guide/indexing.html#returning-a-view-versus-a-copy\n",
      "  self._setitem_single_column(loc, value, pi)\n",
      "/Users/nora/opt/anaconda3/lib/python3.8/site-packages/pandas/core/indexing.py:1720: SettingWithCopyWarning: \n",
      "A value is trying to be set on a copy of a slice from a DataFrame.\n",
      "Try using .loc[row_indexer,col_indexer] = value instead\n",
      "\n",
      "See the caveats in the documentation: https://pandas.pydata.org/pandas-docs/stable/user_guide/indexing.html#returning-a-view-versus-a-copy\n",
      "  self._setitem_single_column(loc, value, pi)\n",
      "/Users/nora/opt/anaconda3/lib/python3.8/site-packages/pandas/core/indexing.py:1720: SettingWithCopyWarning: \n",
      "A value is trying to be set on a copy of a slice from a DataFrame.\n",
      "Try using .loc[row_indexer,col_indexer] = value instead\n",
      "\n",
      "See the caveats in the documentation: https://pandas.pydata.org/pandas-docs/stable/user_guide/indexing.html#returning-a-view-versus-a-copy\n",
      "  self._setitem_single_column(loc, value, pi)\n",
      "/Users/nora/opt/anaconda3/lib/python3.8/site-packages/pandas/core/indexing.py:1720: SettingWithCopyWarning: \n",
      "A value is trying to be set on a copy of a slice from a DataFrame.\n",
      "Try using .loc[row_indexer,col_indexer] = value instead\n",
      "\n",
      "See the caveats in the documentation: https://pandas.pydata.org/pandas-docs/stable/user_guide/indexing.html#returning-a-view-versus-a-copy\n",
      "  self._setitem_single_column(loc, value, pi)\n",
      "/Users/nora/opt/anaconda3/lib/python3.8/site-packages/pandas/core/indexing.py:1720: SettingWithCopyWarning: \n",
      "A value is trying to be set on a copy of a slice from a DataFrame.\n",
      "Try using .loc[row_indexer,col_indexer] = value instead\n",
      "\n",
      "See the caveats in the documentation: https://pandas.pydata.org/pandas-docs/stable/user_guide/indexing.html#returning-a-view-versus-a-copy\n",
      "  self._setitem_single_column(loc, value, pi)\n",
      "/Users/nora/opt/anaconda3/lib/python3.8/site-packages/pandas/core/indexing.py:1720: SettingWithCopyWarning: \n",
      "A value is trying to be set on a copy of a slice from a DataFrame.\n",
      "Try using .loc[row_indexer,col_indexer] = value instead\n",
      "\n",
      "See the caveats in the documentation: https://pandas.pydata.org/pandas-docs/stable/user_guide/indexing.html#returning-a-view-versus-a-copy\n",
      "  self._setitem_single_column(loc, value, pi)\n",
      "/Users/nora/opt/anaconda3/lib/python3.8/site-packages/pandas/core/indexing.py:1720: SettingWithCopyWarning: \n",
      "A value is trying to be set on a copy of a slice from a DataFrame.\n",
      "Try using .loc[row_indexer,col_indexer] = value instead\n",
      "\n",
      "See the caveats in the documentation: https://pandas.pydata.org/pandas-docs/stable/user_guide/indexing.html#returning-a-view-versus-a-copy\n",
      "  self._setitem_single_column(loc, value, pi)\n",
      "/Users/nora/opt/anaconda3/lib/python3.8/site-packages/pandas/core/indexing.py:1720: SettingWithCopyWarning: \n",
      "A value is trying to be set on a copy of a slice from a DataFrame.\n",
      "Try using .loc[row_indexer,col_indexer] = value instead\n",
      "\n",
      "See the caveats in the documentation: https://pandas.pydata.org/pandas-docs/stable/user_guide/indexing.html#returning-a-view-versus-a-copy\n",
      "  self._setitem_single_column(loc, value, pi)\n",
      "/Users/nora/opt/anaconda3/lib/python3.8/site-packages/pandas/core/indexing.py:1720: SettingWithCopyWarning: \n",
      "A value is trying to be set on a copy of a slice from a DataFrame.\n",
      "Try using .loc[row_indexer,col_indexer] = value instead\n",
      "\n",
      "See the caveats in the documentation: https://pandas.pydata.org/pandas-docs/stable/user_guide/indexing.html#returning-a-view-versus-a-copy\n",
      "  self._setitem_single_column(loc, value, pi)\n",
      "/Users/nora/opt/anaconda3/lib/python3.8/site-packages/pandas/core/indexing.py:1720: SettingWithCopyWarning: \n",
      "A value is trying to be set on a copy of a slice from a DataFrame.\n",
      "Try using .loc[row_indexer,col_indexer] = value instead\n",
      "\n",
      "See the caveats in the documentation: https://pandas.pydata.org/pandas-docs/stable/user_guide/indexing.html#returning-a-view-versus-a-copy\n",
      "  self._setitem_single_column(loc, value, pi)\n",
      "/Users/nora/opt/anaconda3/lib/python3.8/site-packages/pandas/core/indexing.py:1720: SettingWithCopyWarning: \n",
      "A value is trying to be set on a copy of a slice from a DataFrame.\n",
      "Try using .loc[row_indexer,col_indexer] = value instead\n",
      "\n",
      "See the caveats in the documentation: https://pandas.pydata.org/pandas-docs/stable/user_guide/indexing.html#returning-a-view-versus-a-copy\n",
      "  self._setitem_single_column(loc, value, pi)\n"
     ]
    },
    {
     "name": "stderr",
     "output_type": "stream",
     "text": [
      "/Users/nora/opt/anaconda3/lib/python3.8/site-packages/pandas/core/indexing.py:1720: SettingWithCopyWarning: \n",
      "A value is trying to be set on a copy of a slice from a DataFrame.\n",
      "Try using .loc[row_indexer,col_indexer] = value instead\n",
      "\n",
      "See the caveats in the documentation: https://pandas.pydata.org/pandas-docs/stable/user_guide/indexing.html#returning-a-view-versus-a-copy\n",
      "  self._setitem_single_column(loc, value, pi)\n",
      "/Users/nora/opt/anaconda3/lib/python3.8/site-packages/pandas/core/indexing.py:1720: SettingWithCopyWarning: \n",
      "A value is trying to be set on a copy of a slice from a DataFrame.\n",
      "Try using .loc[row_indexer,col_indexer] = value instead\n",
      "\n",
      "See the caveats in the documentation: https://pandas.pydata.org/pandas-docs/stable/user_guide/indexing.html#returning-a-view-versus-a-copy\n",
      "  self._setitem_single_column(loc, value, pi)\n"
     ]
    }
   ],
   "source": [
    "# Creating new column for department names \n",
    "\n",
    "\n",
    "df_final_new.loc[df_final_new['department_id'] == 1, 'department'] = 'frozen'\n",
    "df_final_new.loc[df_final_new['department_id'] == 2, 'department'] = 'other'\n",
    "df_final_new.loc[df_final_new['department_id'] == 3, 'department'] = 'bakery'\n",
    "df_final_new.loc[df_final_new['department_id'] == 4, 'department'] = 'produce'\n",
    "df_final_new.loc[df_final_new['department_id'] == 5, 'department'] = 'alcohol'\n",
    "df_final_new.loc[df_final_new['department_id'] == 6, 'department'] = 'international'\n",
    "df_final_new.loc[df_final_new['department_id'] == 7, 'department'] = 'beverages'\n",
    "df_final_new.loc[df_final_new['department_id'] == 8, 'department'] = 'pets'\n",
    "df_final_new.loc[df_final_new['department_id'] == 9, 'department'] = 'dry goods pasta'\n",
    "df_final_new.loc[df_final_new['department_id'] == 10, 'department'] = 'bulk'\n",
    "df_final_new.loc[df_final_new['department_id'] == 11, 'department'] = 'personal care'\n",
    "df_final_new.loc[df_final_new['department_id'] == 12, 'department'] = 'meat seafood'\n",
    "df_final_new.loc[df_final_new['department_id'] == 13, 'department'] = 'pantry'\n",
    "df_final_new.loc[df_final_new['department_id'] == 14, 'department'] = 'breakfast'\n",
    "df_final_new.loc[df_final_new['department_id'] == 15, 'department'] = 'canned goods'\n",
    "df_final_new.loc[df_final_new['department_id'] == 16, 'department'] = 'dairy eggs'\n",
    "df_final_new.loc[df_final_new['department_id'] == 17, 'department'] = 'households'\n",
    "df_final_new.loc[df_final_new['department_id'] == 18, 'department'] = 'babies'\n",
    "df_final_new.loc[df_final_new['department_id'] == 19, 'department'] = 'snacks'\n",
    "df_final_new.loc[df_final_new['department_id'] == 20, 'department'] = 'deli'\n",
    "df_final_new.loc[df_final_new['department_id'] == 21, 'department'] = 'missing'"
   ]
  },
  {
   "cell_type": "code",
   "execution_count": 45,
   "id": "032e0def",
   "metadata": {},
   "outputs": [
    {
     "data": {
      "text/plain": [
       "produce            9079273\n",
       "dairy eggs         5177182\n",
       "snacks             2766406\n",
       "beverages          2571901\n",
       "frozen             2121731\n",
       "pantry             1782705\n",
       "bakery             1120828\n",
       "canned goods       1012074\n",
       "deli               1003834\n",
       "dry goods pasta     822136\n",
       "households          699857\n",
       "meat seafood        674781\n",
       "breakfast           670850\n",
       "personal care       424306\n",
       "babies              410392\n",
       "international       255991\n",
       "alcohol             144627\n",
       "pets                 93060\n",
       "missing              64768\n",
       "other                34411\n",
       "bulk                 33451\n",
       "Name: department, dtype: int64"
      ]
     },
     "execution_count": 45,
     "metadata": {},
     "output_type": "execute_result"
    }
   ],
   "source": [
    "# Checking the department column \n",
    "\n",
    "df_final_new['department'].value_counts()"
   ]
  },
  {
   "cell_type": "markdown",
   "id": "b3948ac8",
   "metadata": {},
   "source": [
    "#### 5.6 Weekday column "
   ]
  },
  {
   "cell_type": "code",
   "execution_count": 46,
   "id": "cfa824b8",
   "metadata": {},
   "outputs": [
    {
     "name": "stderr",
     "output_type": "stream",
     "text": [
      "/Users/nora/opt/anaconda3/lib/python3.8/site-packages/pandas/core/indexing.py:1599: SettingWithCopyWarning: \n",
      "A value is trying to be set on a copy of a slice from a DataFrame.\n",
      "Try using .loc[row_indexer,col_indexer] = value instead\n",
      "\n",
      "See the caveats in the documentation: https://pandas.pydata.org/pandas-docs/stable/user_guide/indexing.html#returning-a-view-versus-a-copy\n",
      "  self.obj[key] = infer_fill_value(value)\n",
      "/Users/nora/opt/anaconda3/lib/python3.8/site-packages/pandas/core/indexing.py:1720: SettingWithCopyWarning: \n",
      "A value is trying to be set on a copy of a slice from a DataFrame.\n",
      "Try using .loc[row_indexer,col_indexer] = value instead\n",
      "\n",
      "See the caveats in the documentation: https://pandas.pydata.org/pandas-docs/stable/user_guide/indexing.html#returning-a-view-versus-a-copy\n",
      "  self._setitem_single_column(loc, value, pi)\n",
      "/Users/nora/opt/anaconda3/lib/python3.8/site-packages/pandas/core/indexing.py:1720: SettingWithCopyWarning: \n",
      "A value is trying to be set on a copy of a slice from a DataFrame.\n",
      "Try using .loc[row_indexer,col_indexer] = value instead\n",
      "\n",
      "See the caveats in the documentation: https://pandas.pydata.org/pandas-docs/stable/user_guide/indexing.html#returning-a-view-versus-a-copy\n",
      "  self._setitem_single_column(loc, value, pi)\n",
      "/Users/nora/opt/anaconda3/lib/python3.8/site-packages/pandas/core/indexing.py:1720: SettingWithCopyWarning: \n",
      "A value is trying to be set on a copy of a slice from a DataFrame.\n",
      "Try using .loc[row_indexer,col_indexer] = value instead\n",
      "\n",
      "See the caveats in the documentation: https://pandas.pydata.org/pandas-docs/stable/user_guide/indexing.html#returning-a-view-versus-a-copy\n",
      "  self._setitem_single_column(loc, value, pi)\n",
      "/Users/nora/opt/anaconda3/lib/python3.8/site-packages/pandas/core/indexing.py:1720: SettingWithCopyWarning: \n",
      "A value is trying to be set on a copy of a slice from a DataFrame.\n",
      "Try using .loc[row_indexer,col_indexer] = value instead\n",
      "\n",
      "See the caveats in the documentation: https://pandas.pydata.org/pandas-docs/stable/user_guide/indexing.html#returning-a-view-versus-a-copy\n",
      "  self._setitem_single_column(loc, value, pi)\n",
      "/Users/nora/opt/anaconda3/lib/python3.8/site-packages/pandas/core/indexing.py:1720: SettingWithCopyWarning: \n",
      "A value is trying to be set on a copy of a slice from a DataFrame.\n",
      "Try using .loc[row_indexer,col_indexer] = value instead\n",
      "\n",
      "See the caveats in the documentation: https://pandas.pydata.org/pandas-docs/stable/user_guide/indexing.html#returning-a-view-versus-a-copy\n",
      "  self._setitem_single_column(loc, value, pi)\n",
      "/Users/nora/opt/anaconda3/lib/python3.8/site-packages/pandas/core/indexing.py:1720: SettingWithCopyWarning: \n",
      "A value is trying to be set on a copy of a slice from a DataFrame.\n",
      "Try using .loc[row_indexer,col_indexer] = value instead\n",
      "\n",
      "See the caveats in the documentation: https://pandas.pydata.org/pandas-docs/stable/user_guide/indexing.html#returning-a-view-versus-a-copy\n",
      "  self._setitem_single_column(loc, value, pi)\n",
      "/Users/nora/opt/anaconda3/lib/python3.8/site-packages/pandas/core/indexing.py:1720: SettingWithCopyWarning: \n",
      "A value is trying to be set on a copy of a slice from a DataFrame.\n",
      "Try using .loc[row_indexer,col_indexer] = value instead\n",
      "\n",
      "See the caveats in the documentation: https://pandas.pydata.org/pandas-docs/stable/user_guide/indexing.html#returning-a-view-versus-a-copy\n",
      "  self._setitem_single_column(loc, value, pi)\n"
     ]
    }
   ],
   "source": [
    "# Creating weekday column with loc function \n",
    "\n",
    "df_final_new.loc[df_final_new['orders_day_of_week'] == 0, 'weekday'] = 'Saturday'\n",
    "df_final_new.loc[df_final_new['orders_day_of_week'] == 1, 'weekday'] = 'Sunday'\n",
    "df_final_new.loc[df_final_new['orders_day_of_week'] == 2, 'weekday'] = 'Monday'\n",
    "df_final_new.loc[df_final_new['orders_day_of_week'] == 3, 'weekday'] = 'Tuesday'\n",
    "df_final_new.loc[df_final_new['orders_day_of_week'] == 4, 'weekday'] = 'Wednesday'\n",
    "df_final_new.loc[df_final_new['orders_day_of_week'] == 5, 'weekday'] = 'Thursday'\n",
    "df_final_new.loc[df_final_new['orders_day_of_week'] == 6, 'weekday'] = 'Friday'"
   ]
  },
  {
   "cell_type": "code",
   "execution_count": 47,
   "id": "3218ee53",
   "metadata": {},
   "outputs": [
    {
     "data": {
      "text/plain": [
       "Saturday     5908610\n",
       "Sunday       5411686\n",
       "Friday       4291304\n",
       "Thursday     4033729\n",
       "Monday       4024706\n",
       "Tuesday      3669535\n",
       "Wednesday    3624994\n",
       "Name: weekday, dtype: int64"
      ]
     },
     "execution_count": 47,
     "metadata": {},
     "output_type": "execute_result"
    }
   ],
   "source": [
    "# Checking weekday column \n",
    "\n",
    "df_final_new['weekday'].value_counts()"
   ]
  },
  {
   "cell_type": "code",
   "execution_count": 48,
   "id": "86294a27",
   "metadata": {},
   "outputs": [
    {
     "data": {
      "text/plain": [
       "0    5908610\n",
       "1    5411686\n",
       "6    4291304\n",
       "5    4033729\n",
       "2    4024706\n",
       "3    3669535\n",
       "4    3624994\n",
       "Name: orders_day_of_week, dtype: int64"
      ]
     },
     "execution_count": 48,
     "metadata": {},
     "output_type": "execute_result"
    }
   ],
   "source": [
    "# Comparing orders_day_of_week with weekday column \n",
    "\n",
    "df_final_new['orders_day_of_week'].value_counts()"
   ]
  },
  {
   "cell_type": "markdown",
   "id": "926c4cbc",
   "metadata": {},
   "source": [
    "### 6. Create an appropriate visualization to show the distribution of profiles."
   ]
  },
  {
   "cell_type": "markdown",
   "id": "c6b47633",
   "metadata": {},
   "source": [
    "#### 6.1 Age Distribution "
   ]
  },
  {
   "cell_type": "code",
   "execution_count": 49,
   "id": "c163ac9e",
   "metadata": {},
   "outputs": [
    {
     "data": {
      "image/png": "[encoded data removed]",
      "text/plain": [
       "<Figure size 432x288 with 1 Axes>"
      ]
     },
     "metadata": {
      "needs_background": "light"
     },
     "output_type": "display_data"
    }
   ],
   "source": [
    "# Create a bar chart\n",
    "\n",
    "bar_age_brackets = df_final_new['age_brackets'].value_counts().sort_index().plot.bar(color = sns.color_palette('YlGnBu_r', 8))"
   ]
  },
  {
   "cell_type": "code",
   "execution_count": 50,
   "id": "b1af5daf",
   "metadata": {},
   "outputs": [],
   "source": [
    "# Export figure \n",
    "\n",
    "bar_age_brackets.figure.savefig(os.path.join(path, '04 Analysis','Visualizations', 'bar_age_brackets.png'))"
   ]
  },
  {
   "cell_type": "markdown",
   "id": "be54f04c",
   "metadata": {},
   "source": [
    "#### 6.2 Family Status "
   ]
  },
  {
   "cell_type": "code",
   "execution_count": 51,
   "id": "112a4e37",
   "metadata": {},
   "outputs": [
    {
     "data": {
      "image/png": "[encoded data removed]",
      "text/plain": [
       "<Figure size 432x288 with 1 Axes>"
      ]
     },
     "metadata": {
      "needs_background": "light"
     },
     "output_type": "display_data"
    }
   ],
   "source": [
    "# Create bar chart of total orders by family status \n",
    "\n",
    "bar_family_status = df_final_new['fam_status'].value_counts().sort_index().plot.bar(color = sns.color_palette('Set2', 4))\n",
    "plt.xticks(rotation= 20, horizontalalignment=\"center\")\n",
    "plt.tight_layout()"
   ]
  },
  {
   "cell_type": "code",
   "execution_count": 52,
   "id": "d991c10d",
   "metadata": {},
   "outputs": [
    {
     "data": {
      "text/plain": [
       "Text(108.68, 0.5, '')"
      ]
     },
     "execution_count": 52,
     "metadata": {},
     "output_type": "execute_result"
    },
    {
     "data": {
      "image/png": "[encoded data removed]",
      "text/plain": [
       "<Figure size 432x288 with 1 Axes>"
      ]
     },
     "metadata": {},
     "output_type": "display_data"
    }
   ],
   "source": [
    "# Create pie chart to show distribution of customers in terms of family status \n",
    "\n",
    "pie_family_status = df_final_new['fam_status'].value_counts().sort_index().plot.pie(autopct='%1.1f%%', colors = sns.color_palette('Set2', 4))\n",
    "plt.tight_layout()\n",
    "plt.ylabel('')"
   ]
  },
  {
   "cell_type": "code",
   "execution_count": 53,
   "id": "3135b4cd",
   "metadata": {},
   "outputs": [],
   "source": [
    "# Export figures \n",
    "\n",
    "bar_family_status.figure.savefig(os.path.join(path, '04 Analysis','Visualizations', 'bar_family_status.png'))"
   ]
  },
  {
   "cell_type": "code",
   "execution_count": 54,
   "id": "90e296fe",
   "metadata": {},
   "outputs": [],
   "source": [
    "pie_family_status.figure.savefig(os.path.join(path, '04 Analysis','Visualizations', 'pie_family_status.png'))"
   ]
  },
  {
   "cell_type": "markdown",
   "id": "efc56d0c",
   "metadata": {},
   "source": [
    "#### 6.3 Parental Status"
   ]
  },
  {
   "cell_type": "code",
   "execution_count": 55,
   "id": "f2733ec8",
   "metadata": {},
   "outputs": [
    {
     "data": {
      "text/plain": [
       "(array([0, 1]), [Text(0, 0, 'parent'), Text(1, 0, 'not parent')])"
      ]
     },
     "execution_count": 55,
     "metadata": {},
     "output_type": "execute_result"
    },
    {
     "data": {
      "image/png": "[encoded data removed]",
      "text/plain": [
       "<Figure size 432x288 with 1 Axes>"
      ]
     },
     "metadata": {
      "needs_background": "light"
     },
     "output_type": "display_data"
    }
   ],
   "source": [
    "# Create bar chart of total orders by parental status \n",
    "\n",
    "bar_parental_status = df_final_new['parental_status'].value_counts().plot.bar(color = sns.color_palette('rocket',2))\n",
    "plt.xticks(rotation= 20, horizontalalignment=\"center\")"
   ]
  },
  {
   "cell_type": "code",
   "execution_count": 56,
   "id": "53258724",
   "metadata": {},
   "outputs": [
    {
     "data": {
      "text/plain": [
       "Text(0, 0.5, '')"
      ]
     },
     "execution_count": 56,
     "metadata": {},
     "output_type": "execute_result"
    },
    {
     "data": {
      "image/png": "[encoded data removed]",
      "text/plain": [
       "<Figure size 432x288 with 1 Axes>"
      ]
     },
     "metadata": {},
     "output_type": "display_data"
    }
   ],
   "source": [
    "# Create pie chart of distribution of customers in terms of parental status \n",
    "\n",
    "pie_parental_status = df_final_new['parental_status'].value_counts().plot.pie(autopct='%1.1f%%', colors = sns.color_palette('rocket',2))\n",
    "plt.ylabel('')"
   ]
  },
  {
   "cell_type": "code",
   "execution_count": 57,
   "id": "8d571b3d",
   "metadata": {},
   "outputs": [],
   "source": [
    "# Export figures \n",
    "\n",
    "bar_parental_status.figure.savefig(os.path.join(path, '04 Analysis','Visualizations', 'bar_parental_status.png'))"
   ]
  },
  {
   "cell_type": "code",
   "execution_count": 58,
   "id": "035d24cc",
   "metadata": {},
   "outputs": [],
   "source": [
    "pie_parental_status.figure.savefig(os.path.join(path, '04 Analysis','Visualizations', 'pie_parental_status.png'))"
   ]
  },
  {
   "cell_type": "markdown",
   "id": "77c60aa8",
   "metadata": {},
   "source": [
    "#### 6.4 Income Categories"
   ]
  },
  {
   "cell_type": "code",
   "execution_count": 59,
   "id": "0f6dd56e",
   "metadata": {},
   "outputs": [
    {
     "data": {
      "image/png": "[encoded data removed]",
      "text/plain": [
       "<Figure size 432x288 with 1 Axes>"
      ]
     },
     "metadata": {
      "needs_background": "light"
     },
     "output_type": "display_data"
    }
   ],
   "source": [
    "# Create bar chart of total orders across income categories \n",
    "\n",
    "bar_income_category = df_final_new['income_categories'].value_counts().sort_index().plot.bar(color = sns.color_palette('YlOrBr_r', 6))\n",
    "plt.xticks(rotation= 20, horizontalalignment=\"center\")\n",
    "plt.tight_layout()"
   ]
  },
  {
   "cell_type": "code",
   "execution_count": 60,
   "id": "26ff7283",
   "metadata": {},
   "outputs": [],
   "source": [
    "# Export figure \n",
    "\n",
    "bar_income_category.figure.savefig(os.path.join(path, '04 Analysis','Visualizations', 'bar_income_category.png'))"
   ]
  },
  {
   "cell_type": "markdown",
   "id": "0efa4b9f",
   "metadata": {},
   "source": [
    "#### 6.5 Busiest hours "
   ]
  },
  {
   "cell_type": "code",
   "execution_count": 61,
   "id": "aea7f1f8",
   "metadata": {
    "scrolled": true
   },
   "outputs": [
    {
     "data": {
      "text/plain": [
       "Text(0.5, 0, 'hour of the day')"
      ]
     },
     "execution_count": 61,
     "metadata": {},
     "output_type": "execute_result"
    },
    {
     "data": {
      "image/png": "[encoded data removed]",
      "text/plain": [
       "<Figure size 432x288 with 1 Axes>"
      ]
     },
     "metadata": {
      "needs_background": "light"
     },
     "output_type": "display_data"
    }
   ],
   "source": [
    "# What are the busiest hours of the day? \n",
    "\n",
    "bar_busiest_hour = df_final_new['order_hour_of_day'].value_counts().sort_index().plot.bar()\n",
    "plt.title('Orders per hour')\n",
    "plt.xlabel('hour of the day')"
   ]
  },
  {
   "cell_type": "code",
   "execution_count": 62,
   "id": "6e2a53d3",
   "metadata": {},
   "outputs": [],
   "source": [
    "# Export bar chart\n",
    "\n",
    "bar_busiest_hour.figure.savefig(os.path.join(path, '04 Analysis','Visualizations', 'bar_busiest_hour.png'))"
   ]
  },
  {
   "cell_type": "code",
   "execution_count": 63,
   "id": "3b7a8d77",
   "metadata": {},
   "outputs": [
    {
     "data": {
      "image/png": "[encoded data removed]",
      "text/plain": [
       "<Figure size 432x288 with 1 Axes>"
      ]
     },
     "metadata": {
      "needs_background": "light"
     },
     "output_type": "display_data"
    }
   ],
   "source": [
    "# What are the busiest hours of the day? \n",
    "\n",
    "bar_busiest_time = df_final_new['time_period'].value_counts().sort_index().plot.bar()\n",
    "plt.xlabel('time period')\n",
    "plt.title('Orders per time period')\n",
    "plt.xticks(rotation= 20, horizontalalignment=\"center\")\n",
    "plt.tight_layout()"
   ]
  },
  {
   "cell_type": "code",
   "execution_count": 64,
   "id": "900421bb",
   "metadata": {},
   "outputs": [],
   "source": [
    "# Export bar chart\n",
    "\n",
    "bar_busiest_time.figure.savefig(os.path.join(path, '04 Analysis','Visualizations', 'bar_busiest_time.png'))"
   ]
  },
  {
   "cell_type": "markdown",
   "id": "2c5fbda8",
   "metadata": {},
   "source": [
    "#### 6.6 Orders per time-period by price range"
   ]
  },
  {
   "cell_type": "code",
   "execution_count": 65,
   "id": "0dba660c",
   "metadata": {},
   "outputs": [],
   "source": [
    "# Are there particular times of the day when people spend the most money? \n",
    "# Create crosstab\n",
    "\n",
    "crosstab_time_product_price = pd.crosstab(df_final_new['income_categories'], df_final_new['price_range_loc'], dropna = False)"
   ]
  },
  {
   "cell_type": "code",
   "execution_count": 66,
   "id": "addd1218",
   "metadata": {},
   "outputs": [
    {
     "data": {
      "image/png": "[encoded data removed]",
      "text/plain": [
       "<Figure size 432x288 with 1 Axes>"
      ]
     },
     "metadata": {
      "needs_background": "light"
     },
     "output_type": "display_data"
    }
   ],
   "source": [
    "# Stacked bar chart: orders per time period by price range \n",
    "\n",
    "bar_time_product_price = crosstab_time_product_price.plot(kind = 'bar', stacked = True, color = sns.color_palette('Set2_r', 3))\n",
    "plt.xticks(rotation= 20, horizontalalignment=\"center\")\n",
    "plt.tight_layout()"
   ]
  },
  {
   "cell_type": "code",
   "execution_count": 67,
   "id": "6f091c60",
   "metadata": {
    "scrolled": true
   },
   "outputs": [
    {
     "data": {
      "image/png": "[encoded data removed]",
      "text/plain": [
       "<Figure size 432x288 with 1 Axes>"
      ]
     },
     "metadata": {
      "needs_background": "light"
     },
     "output_type": "display_data"
    }
   ],
   "source": [
    "# 100% stacked bar chart: orders per time period by price range in percent \n",
    "\n",
    "bar_time_product_price_100 = crosstab_time_product_price.apply(lambda r: r/r.sum()*100, axis=1).plot(kind = 'bar', stacked = True, color = sns.color_palette('Set2_r', 3))\n",
    "plt.xticks(rotation= 20, horizontalalignment=\"center\")\n",
    "plt.tight_layout()"
   ]
  },
  {
   "cell_type": "markdown",
   "id": "274e2f6e",
   "metadata": {},
   "source": [
    "#### 6.7 Product price-range distribution"
   ]
  },
  {
   "cell_type": "code",
   "execution_count": 68,
   "id": "b737342b",
   "metadata": {},
   "outputs": [
    {
     "data": {
      "text/plain": [
       "Text(0, 0.5, '')"
      ]
     },
     "execution_count": 68,
     "metadata": {},
     "output_type": "execute_result"
    },
    {
     "data": {
      "image/png": "[encoded data removed]",
      "text/plain": [
       "<Figure size 432x288 with 1 Axes>"
      ]
     },
     "metadata": {},
     "output_type": "display_data"
    }
   ],
   "source": [
    "# Marketing and sales want to use simpler price range groupings.\n",
    "\n",
    "pie_time_product_price = df_final_new['price_range_loc'].value_counts().sort_index().plot.pie(autopct='%1.1f%%', colors = sns.color_palette('Set2_r', 3))\n",
    "plt.ylabel('')"
   ]
  },
  {
   "cell_type": "code",
   "execution_count": 69,
   "id": "5f050694",
   "metadata": {},
   "outputs": [],
   "source": [
    "# Export visualizations\n",
    "\n",
    "bar_time_product_price.figure.savefig(os.path.join(path, '04 Analysis','Visualizations', 'bar_time_product_price.png'))\n",
    "bar_time_product_price_100.figure.savefig(os.path.join(path, '04 Analysis','Visualizations', 'bar_time_product_price_100.png'))\n",
    "pie_time_product_price.figure.savefig(os.path.join(path, '04 Analysis','Visualizations', 'pie_time_product_price.png'))"
   ]
  },
  {
   "cell_type": "markdown",
   "id": "1c746975",
   "metadata": {},
   "source": [
    "#### 6.8 Customer brand loyalty distribution "
   ]
  },
  {
   "cell_type": "code",
   "execution_count": 70,
   "id": "d322b19b",
   "metadata": {},
   "outputs": [
    {
     "data": {
      "image/png": "[encoded data removed]",
      "text/plain": [
       "<Figure size 432x288 with 1 Axes>"
      ]
     },
     "metadata": {},
     "output_type": "display_data"
    }
   ],
   "source": [
    "# Distribution among customers in regards to brand loyalty \n",
    "\n",
    "loyalty_pie = df_final_new['loyalty_flag'].value_counts().sort_index().plot.pie(autopct='%1.1f%%', colors = sns.color_palette('Greens_r',3))\n",
    "plt.ylabel('')\n",
    "plt.tight_layout()"
   ]
  },
  {
   "cell_type": "code",
   "execution_count": 71,
   "id": "f03867fc",
   "metadata": {},
   "outputs": [],
   "source": [
    "# Export pie chart \n",
    "\n",
    "loyalty_pie.figure.savefig(os.path.join(path, '04 Analysis','Visualizations', 'loyalty_pie.png'))"
   ]
  },
  {
   "cell_type": "markdown",
   "id": "cec64e2d",
   "metadata": {},
   "source": [
    "### 7. Aggregate the max, mean, and min variables on a customer-profile level for usage frequency and expenditure."
   ]
  },
  {
   "cell_type": "markdown",
   "id": "ec394719",
   "metadata": {},
   "source": [
    "#### 7.1 Income "
   ]
  },
  {
   "cell_type": "code",
   "execution_count": 72,
   "id": "bd505ef1",
   "metadata": {},
   "outputs": [],
   "source": [
    "# Expenditure by income income categories \n",
    "\n",
    "expenditure_income = df_final_new.groupby('income_categories').agg({'prices': ['mean', 'min', 'max']})"
   ]
  },
  {
   "cell_type": "code",
   "execution_count": 73,
   "id": "5d59756d",
   "metadata": {},
   "outputs": [
    {
     "data": {
      "text/html": [
       "<div>\n",
       "<style scoped>\n",
       "    .dataframe tbody tr th:only-of-type {\n",
       "        vertical-align: middle;\n",
       "    }\n",
       "\n",
       "    .dataframe tbody tr th {\n",
       "        vertical-align: top;\n",
       "    }\n",
       "\n",
       "    .dataframe thead tr th {\n",
       "        text-align: left;\n",
       "    }\n",
       "\n",
       "    .dataframe thead tr:last-of-type th {\n",
       "        text-align: right;\n",
       "    }\n",
       "</style>\n",
       "<table border=\"1\" class=\"dataframe\">\n",
       "  <thead>\n",
       "    <tr>\n",
       "      <th></th>\n",
       "      <th colspan=\"3\" halign=\"left\">prices</th>\n",
       "    </tr>\n",
       "    <tr>\n",
       "      <th></th>\n",
       "      <th>mean</th>\n",
       "      <th>min</th>\n",
       "      <th>max</th>\n",
       "    </tr>\n",
       "    <tr>\n",
       "      <th>income_categories</th>\n",
       "      <th></th>\n",
       "      <th></th>\n",
       "      <th></th>\n",
       "    </tr>\n",
       "  </thead>\n",
       "  <tbody>\n",
       "    <tr>\n",
       "      <th>025000-050000</th>\n",
       "      <td>6.707347</td>\n",
       "      <td>1.0</td>\n",
       "      <td>25.0</td>\n",
       "    </tr>\n",
       "    <tr>\n",
       "      <th>050000-075000</th>\n",
       "      <td>7.833402</td>\n",
       "      <td>1.0</td>\n",
       "      <td>14900.0</td>\n",
       "    </tr>\n",
       "    <tr>\n",
       "      <th>075000-100000</th>\n",
       "      <td>9.024778</td>\n",
       "      <td>1.0</td>\n",
       "      <td>99999.0</td>\n",
       "    </tr>\n",
       "    <tr>\n",
       "      <th>100000-125000</th>\n",
       "      <td>9.854741</td>\n",
       "      <td>1.0</td>\n",
       "      <td>99999.0</td>\n",
       "    </tr>\n",
       "    <tr>\n",
       "      <th>125000-150000</th>\n",
       "      <td>11.042222</td>\n",
       "      <td>1.0</td>\n",
       "      <td>99999.0</td>\n",
       "    </tr>\n",
       "    <tr>\n",
       "      <th>150000+</th>\n",
       "      <td>32.620080</td>\n",
       "      <td>1.0</td>\n",
       "      <td>99999.0</td>\n",
       "    </tr>\n",
       "  </tbody>\n",
       "</table>\n",
       "</div>"
      ],
      "text/plain": [
       "                      prices              \n",
       "                        mean  min      max\n",
       "income_categories                         \n",
       "025000-050000       6.707347  1.0     25.0\n",
       "050000-075000       7.833402  1.0  14900.0\n",
       "075000-100000       9.024778  1.0  99999.0\n",
       "100000-125000       9.854741  1.0  99999.0\n",
       "125000-150000      11.042222  1.0  99999.0\n",
       "150000+            32.620080  1.0  99999.0"
      ]
     },
     "execution_count": 73,
     "metadata": {},
     "output_type": "execute_result"
    }
   ],
   "source": [
    "expenditure_income"
   ]
  },
  {
   "cell_type": "code",
   "execution_count": 74,
   "id": "2e126143",
   "metadata": {},
   "outputs": [],
   "source": [
    "expenditure_income.to_clipboard()"
   ]
  },
  {
   "cell_type": "code",
   "execution_count": 75,
   "id": "bc16fb47",
   "metadata": {},
   "outputs": [],
   "source": [
    "# Usage frequency by income categories \n",
    "\n",
    "usage_frequency_income = df_final_new.groupby('income_categories').agg({'days_since_prior_order': ['mean', 'min', 'max']})"
   ]
  },
  {
   "cell_type": "code",
   "execution_count": 76,
   "id": "ba13c021",
   "metadata": {},
   "outputs": [
    {
     "data": {
      "text/html": [
       "<div>\n",
       "<style scoped>\n",
       "    .dataframe tbody tr th:only-of-type {\n",
       "        vertical-align: middle;\n",
       "    }\n",
       "\n",
       "    .dataframe tbody tr th {\n",
       "        vertical-align: top;\n",
       "    }\n",
       "\n",
       "    .dataframe thead tr th {\n",
       "        text-align: left;\n",
       "    }\n",
       "\n",
       "    .dataframe thead tr:last-of-type th {\n",
       "        text-align: right;\n",
       "    }\n",
       "</style>\n",
       "<table border=\"1\" class=\"dataframe\">\n",
       "  <thead>\n",
       "    <tr>\n",
       "      <th></th>\n",
       "      <th colspan=\"3\" halign=\"left\">days_since_prior_order</th>\n",
       "    </tr>\n",
       "    <tr>\n",
       "      <th></th>\n",
       "      <th>mean</th>\n",
       "      <th>min</th>\n",
       "      <th>max</th>\n",
       "    </tr>\n",
       "    <tr>\n",
       "      <th>income_categories</th>\n",
       "      <th></th>\n",
       "      <th></th>\n",
       "      <th></th>\n",
       "    </tr>\n",
       "  </thead>\n",
       "  <tbody>\n",
       "    <tr>\n",
       "      <th>025000-050000</th>\n",
       "      <td>11.175808</td>\n",
       "      <td>0.0</td>\n",
       "      <td>30.0</td>\n",
       "    </tr>\n",
       "    <tr>\n",
       "      <th>050000-075000</th>\n",
       "      <td>10.760574</td>\n",
       "      <td>0.0</td>\n",
       "      <td>30.0</td>\n",
       "    </tr>\n",
       "    <tr>\n",
       "      <th>075000-100000</th>\n",
       "      <td>10.763576</td>\n",
       "      <td>0.0</td>\n",
       "      <td>30.0</td>\n",
       "    </tr>\n",
       "    <tr>\n",
       "      <th>100000-125000</th>\n",
       "      <td>10.789978</td>\n",
       "      <td>0.0</td>\n",
       "      <td>30.0</td>\n",
       "    </tr>\n",
       "    <tr>\n",
       "      <th>125000-150000</th>\n",
       "      <td>10.818127</td>\n",
       "      <td>0.0</td>\n",
       "      <td>30.0</td>\n",
       "    </tr>\n",
       "    <tr>\n",
       "      <th>150000+</th>\n",
       "      <td>10.684293</td>\n",
       "      <td>0.0</td>\n",
       "      <td>30.0</td>\n",
       "    </tr>\n",
       "  </tbody>\n",
       "</table>\n",
       "</div>"
      ],
      "text/plain": [
       "                  days_since_prior_order           \n",
       "                                    mean  min   max\n",
       "income_categories                                  \n",
       "025000-050000                  11.175808  0.0  30.0\n",
       "050000-075000                  10.760574  0.0  30.0\n",
       "075000-100000                  10.763576  0.0  30.0\n",
       "100000-125000                  10.789978  0.0  30.0\n",
       "125000-150000                  10.818127  0.0  30.0\n",
       "150000+                        10.684293  0.0  30.0"
      ]
     },
     "execution_count": 76,
     "metadata": {},
     "output_type": "execute_result"
    }
   ],
   "source": [
    "usage_frequency_income"
   ]
  },
  {
   "cell_type": "code",
   "execution_count": 77,
   "id": "04e882eb",
   "metadata": {},
   "outputs": [],
   "source": [
    "usage_frequency_income.to_clipboard()"
   ]
  },
  {
   "cell_type": "markdown",
   "id": "cd955a33",
   "metadata": {},
   "source": [
    "#### 7.2 Age "
   ]
  },
  {
   "cell_type": "code",
   "execution_count": 78,
   "id": "37edd796",
   "metadata": {},
   "outputs": [],
   "source": [
    "# Expenditure by age categories\n",
    "\n",
    "expenditure_age = df_final_new.groupby('age_brackets').agg({'prices': ['mean', 'min', 'max']})"
   ]
  },
  {
   "cell_type": "code",
   "execution_count": 79,
   "id": "050db687",
   "metadata": {},
   "outputs": [
    {
     "data": {
      "text/html": [
       "<div>\n",
       "<style scoped>\n",
       "    .dataframe tbody tr th:only-of-type {\n",
       "        vertical-align: middle;\n",
       "    }\n",
       "\n",
       "    .dataframe tbody tr th {\n",
       "        vertical-align: top;\n",
       "    }\n",
       "\n",
       "    .dataframe thead tr th {\n",
       "        text-align: left;\n",
       "    }\n",
       "\n",
       "    .dataframe thead tr:last-of-type th {\n",
       "        text-align: right;\n",
       "    }\n",
       "</style>\n",
       "<table border=\"1\" class=\"dataframe\">\n",
       "  <thead>\n",
       "    <tr>\n",
       "      <th></th>\n",
       "      <th colspan=\"3\" halign=\"left\">prices</th>\n",
       "    </tr>\n",
       "    <tr>\n",
       "      <th></th>\n",
       "      <th>mean</th>\n",
       "      <th>min</th>\n",
       "      <th>max</th>\n",
       "    </tr>\n",
       "    <tr>\n",
       "      <th>age_brackets</th>\n",
       "      <th></th>\n",
       "      <th></th>\n",
       "      <th></th>\n",
       "    </tr>\n",
       "  </thead>\n",
       "  <tbody>\n",
       "    <tr>\n",
       "      <th>18-20</th>\n",
       "      <td>10.509134</td>\n",
       "      <td>1.0</td>\n",
       "      <td>99999.0</td>\n",
       "    </tr>\n",
       "    <tr>\n",
       "      <th>21-30</th>\n",
       "      <td>12.554780</td>\n",
       "      <td>1.0</td>\n",
       "      <td>99999.0</td>\n",
       "    </tr>\n",
       "    <tr>\n",
       "      <th>31-40</th>\n",
       "      <td>12.083512</td>\n",
       "      <td>1.0</td>\n",
       "      <td>99999.0</td>\n",
       "    </tr>\n",
       "    <tr>\n",
       "      <th>41-50</th>\n",
       "      <td>11.919679</td>\n",
       "      <td>1.0</td>\n",
       "      <td>99999.0</td>\n",
       "    </tr>\n",
       "    <tr>\n",
       "      <th>51-60</th>\n",
       "      <td>11.869024</td>\n",
       "      <td>1.0</td>\n",
       "      <td>99999.0</td>\n",
       "    </tr>\n",
       "    <tr>\n",
       "      <th>61-70</th>\n",
       "      <td>11.844252</td>\n",
       "      <td>1.0</td>\n",
       "      <td>99999.0</td>\n",
       "    </tr>\n",
       "    <tr>\n",
       "      <th>71-80</th>\n",
       "      <td>11.971842</td>\n",
       "      <td>1.0</td>\n",
       "      <td>99999.0</td>\n",
       "    </tr>\n",
       "    <tr>\n",
       "      <th>80+</th>\n",
       "      <td>9.778333</td>\n",
       "      <td>1.0</td>\n",
       "      <td>99999.0</td>\n",
       "    </tr>\n",
       "  </tbody>\n",
       "</table>\n",
       "</div>"
      ],
      "text/plain": [
       "                 prices              \n",
       "                   mean  min      max\n",
       "age_brackets                         \n",
       "18-20         10.509134  1.0  99999.0\n",
       "21-30         12.554780  1.0  99999.0\n",
       "31-40         12.083512  1.0  99999.0\n",
       "41-50         11.919679  1.0  99999.0\n",
       "51-60         11.869024  1.0  99999.0\n",
       "61-70         11.844252  1.0  99999.0\n",
       "71-80         11.971842  1.0  99999.0\n",
       "80+            9.778333  1.0  99999.0"
      ]
     },
     "execution_count": 79,
     "metadata": {},
     "output_type": "execute_result"
    }
   ],
   "source": [
    "expenditure_age"
   ]
  },
  {
   "cell_type": "code",
   "execution_count": 80,
   "id": "7f6b61c9",
   "metadata": {},
   "outputs": [],
   "source": [
    "expenditure_age.to_clipboard()"
   ]
  },
  {
   "cell_type": "code",
   "execution_count": 81,
   "id": "5d9f1973",
   "metadata": {},
   "outputs": [],
   "source": [
    "# Usage frequency by age categories \n",
    "\n",
    "usage_frequency_age = df_final_new.groupby('age_brackets').agg({'days_since_prior_order': ['mean', 'min', 'max']})"
   ]
  },
  {
   "cell_type": "code",
   "execution_count": 82,
   "id": "1e0bca97",
   "metadata": {},
   "outputs": [
    {
     "data": {
      "text/html": [
       "<div>\n",
       "<style scoped>\n",
       "    .dataframe tbody tr th:only-of-type {\n",
       "        vertical-align: middle;\n",
       "    }\n",
       "\n",
       "    .dataframe tbody tr th {\n",
       "        vertical-align: top;\n",
       "    }\n",
       "\n",
       "    .dataframe thead tr th {\n",
       "        text-align: left;\n",
       "    }\n",
       "\n",
       "    .dataframe thead tr:last-of-type th {\n",
       "        text-align: right;\n",
       "    }\n",
       "</style>\n",
       "<table border=\"1\" class=\"dataframe\">\n",
       "  <thead>\n",
       "    <tr>\n",
       "      <th></th>\n",
       "      <th colspan=\"3\" halign=\"left\">days_since_prior_order</th>\n",
       "    </tr>\n",
       "    <tr>\n",
       "      <th></th>\n",
       "      <th>mean</th>\n",
       "      <th>min</th>\n",
       "      <th>max</th>\n",
       "    </tr>\n",
       "    <tr>\n",
       "      <th>age_brackets</th>\n",
       "      <th></th>\n",
       "      <th></th>\n",
       "      <th></th>\n",
       "    </tr>\n",
       "  </thead>\n",
       "  <tbody>\n",
       "    <tr>\n",
       "      <th>18-20</th>\n",
       "      <td>10.879634</td>\n",
       "      <td>0.0</td>\n",
       "      <td>30.0</td>\n",
       "    </tr>\n",
       "    <tr>\n",
       "      <th>21-30</th>\n",
       "      <td>10.826524</td>\n",
       "      <td>0.0</td>\n",
       "      <td>30.0</td>\n",
       "    </tr>\n",
       "    <tr>\n",
       "      <th>31-40</th>\n",
       "      <td>10.779940</td>\n",
       "      <td>0.0</td>\n",
       "      <td>30.0</td>\n",
       "    </tr>\n",
       "    <tr>\n",
       "      <th>41-50</th>\n",
       "      <td>10.797317</td>\n",
       "      <td>0.0</td>\n",
       "      <td>30.0</td>\n",
       "    </tr>\n",
       "    <tr>\n",
       "      <th>51-60</th>\n",
       "      <td>10.855219</td>\n",
       "      <td>0.0</td>\n",
       "      <td>30.0</td>\n",
       "    </tr>\n",
       "    <tr>\n",
       "      <th>61-70</th>\n",
       "      <td>10.776992</td>\n",
       "      <td>0.0</td>\n",
       "      <td>30.0</td>\n",
       "    </tr>\n",
       "    <tr>\n",
       "      <th>71-80</th>\n",
       "      <td>10.801834</td>\n",
       "      <td>0.0</td>\n",
       "      <td>30.0</td>\n",
       "    </tr>\n",
       "    <tr>\n",
       "      <th>80+</th>\n",
       "      <td>10.839041</td>\n",
       "      <td>0.0</td>\n",
       "      <td>30.0</td>\n",
       "    </tr>\n",
       "  </tbody>\n",
       "</table>\n",
       "</div>"
      ],
      "text/plain": [
       "             days_since_prior_order           \n",
       "                               mean  min   max\n",
       "age_brackets                                  \n",
       "18-20                     10.879634  0.0  30.0\n",
       "21-30                     10.826524  0.0  30.0\n",
       "31-40                     10.779940  0.0  30.0\n",
       "41-50                     10.797317  0.0  30.0\n",
       "51-60                     10.855219  0.0  30.0\n",
       "61-70                     10.776992  0.0  30.0\n",
       "71-80                     10.801834  0.0  30.0\n",
       "80+                       10.839041  0.0  30.0"
      ]
     },
     "execution_count": 82,
     "metadata": {},
     "output_type": "execute_result"
    }
   ],
   "source": [
    "usage_frequency_age"
   ]
  },
  {
   "cell_type": "code",
   "execution_count": 83,
   "id": "819d12ac",
   "metadata": {},
   "outputs": [],
   "source": [
    "usage_frequency_age.to_clipboard()"
   ]
  },
  {
   "cell_type": "markdown",
   "id": "50bbc757",
   "metadata": {},
   "source": [
    "#### 7.3 Family Status"
   ]
  },
  {
   "cell_type": "code",
   "execution_count": 84,
   "id": "c9234b08",
   "metadata": {},
   "outputs": [],
   "source": [
    "# Expenditure by family status \n",
    "\n",
    "expenditure_fam_status = df_final_new.groupby('fam_status').agg({'prices': ['mean', 'min', 'max']})"
   ]
  },
  {
   "cell_type": "code",
   "execution_count": 85,
   "id": "6e44efd5",
   "metadata": {},
   "outputs": [
    {
     "data": {
      "text/html": [
       "<div>\n",
       "<style scoped>\n",
       "    .dataframe tbody tr th:only-of-type {\n",
       "        vertical-align: middle;\n",
       "    }\n",
       "\n",
       "    .dataframe tbody tr th {\n",
       "        vertical-align: top;\n",
       "    }\n",
       "\n",
       "    .dataframe thead tr th {\n",
       "        text-align: left;\n",
       "    }\n",
       "\n",
       "    .dataframe thead tr:last-of-type th {\n",
       "        text-align: right;\n",
       "    }\n",
       "</style>\n",
       "<table border=\"1\" class=\"dataframe\">\n",
       "  <thead>\n",
       "    <tr>\n",
       "      <th></th>\n",
       "      <th colspan=\"3\" halign=\"left\">prices</th>\n",
       "    </tr>\n",
       "    <tr>\n",
       "      <th></th>\n",
       "      <th>mean</th>\n",
       "      <th>min</th>\n",
       "      <th>max</th>\n",
       "    </tr>\n",
       "    <tr>\n",
       "      <th>fam_status</th>\n",
       "      <th></th>\n",
       "      <th></th>\n",
       "      <th></th>\n",
       "    </tr>\n",
       "  </thead>\n",
       "  <tbody>\n",
       "    <tr>\n",
       "      <th>divorced/widowed</th>\n",
       "      <td>11.532741</td>\n",
       "      <td>1.0</td>\n",
       "      <td>99999.0</td>\n",
       "    </tr>\n",
       "    <tr>\n",
       "      <th>living with parents and siblings</th>\n",
       "      <td>10.890167</td>\n",
       "      <td>1.0</td>\n",
       "      <td>99999.0</td>\n",
       "    </tr>\n",
       "    <tr>\n",
       "      <th>married</th>\n",
       "      <td>11.944390</td>\n",
       "      <td>1.0</td>\n",
       "      <td>99999.0</td>\n",
       "    </tr>\n",
       "    <tr>\n",
       "      <th>single</th>\n",
       "      <td>12.398586</td>\n",
       "      <td>1.0</td>\n",
       "      <td>99999.0</td>\n",
       "    </tr>\n",
       "  </tbody>\n",
       "</table>\n",
       "</div>"
      ],
      "text/plain": [
       "                                     prices              \n",
       "                                       mean  min      max\n",
       "fam_status                                               \n",
       "divorced/widowed                  11.532741  1.0  99999.0\n",
       "living with parents and siblings  10.890167  1.0  99999.0\n",
       "married                           11.944390  1.0  99999.0\n",
       "single                            12.398586  1.0  99999.0"
      ]
     },
     "execution_count": 85,
     "metadata": {},
     "output_type": "execute_result"
    }
   ],
   "source": [
    "expenditure_fam_status"
   ]
  },
  {
   "cell_type": "code",
   "execution_count": 86,
   "id": "3f0f718d",
   "metadata": {},
   "outputs": [],
   "source": [
    "expenditure_fam_status.to_clipboard()"
   ]
  },
  {
   "cell_type": "code",
   "execution_count": 87,
   "id": "14644c23",
   "metadata": {},
   "outputs": [],
   "source": [
    "# Usage frequency by family status \n",
    "\n",
    "usage_frequency_fam_status = df_final_new.groupby('fam_status').agg({'days_since_prior_order': ['mean', 'min', 'max']})"
   ]
  },
  {
   "cell_type": "code",
   "execution_count": 88,
   "id": "42e26553",
   "metadata": {},
   "outputs": [
    {
     "data": {
      "text/html": [
       "<div>\n",
       "<style scoped>\n",
       "    .dataframe tbody tr th:only-of-type {\n",
       "        vertical-align: middle;\n",
       "    }\n",
       "\n",
       "    .dataframe tbody tr th {\n",
       "        vertical-align: top;\n",
       "    }\n",
       "\n",
       "    .dataframe thead tr th {\n",
       "        text-align: left;\n",
       "    }\n",
       "\n",
       "    .dataframe thead tr:last-of-type th {\n",
       "        text-align: right;\n",
       "    }\n",
       "</style>\n",
       "<table border=\"1\" class=\"dataframe\">\n",
       "  <thead>\n",
       "    <tr>\n",
       "      <th></th>\n",
       "      <th colspan=\"3\" halign=\"left\">days_since_prior_order</th>\n",
       "    </tr>\n",
       "    <tr>\n",
       "      <th></th>\n",
       "      <th>mean</th>\n",
       "      <th>min</th>\n",
       "      <th>max</th>\n",
       "    </tr>\n",
       "    <tr>\n",
       "      <th>fam_status</th>\n",
       "      <th></th>\n",
       "      <th></th>\n",
       "      <th></th>\n",
       "    </tr>\n",
       "  </thead>\n",
       "  <tbody>\n",
       "    <tr>\n",
       "      <th>divorced/widowed</th>\n",
       "      <td>10.750328</td>\n",
       "      <td>0.0</td>\n",
       "      <td>30.0</td>\n",
       "    </tr>\n",
       "    <tr>\n",
       "      <th>living with parents and siblings</th>\n",
       "      <td>10.750995</td>\n",
       "      <td>0.0</td>\n",
       "      <td>30.0</td>\n",
       "    </tr>\n",
       "    <tr>\n",
       "      <th>married</th>\n",
       "      <td>10.820875</td>\n",
       "      <td>0.0</td>\n",
       "      <td>30.0</td>\n",
       "    </tr>\n",
       "    <tr>\n",
       "      <th>single</th>\n",
       "      <td>10.813571</td>\n",
       "      <td>0.0</td>\n",
       "      <td>30.0</td>\n",
       "    </tr>\n",
       "  </tbody>\n",
       "</table>\n",
       "</div>"
      ],
      "text/plain": [
       "                                 days_since_prior_order           \n",
       "                                                   mean  min   max\n",
       "fam_status                                                        \n",
       "divorced/widowed                              10.750328  0.0  30.0\n",
       "living with parents and siblings              10.750995  0.0  30.0\n",
       "married                                       10.820875  0.0  30.0\n",
       "single                                        10.813571  0.0  30.0"
      ]
     },
     "execution_count": 88,
     "metadata": {},
     "output_type": "execute_result"
    }
   ],
   "source": [
    "usage_frequency_fam_status"
   ]
  },
  {
   "cell_type": "code",
   "execution_count": 89,
   "id": "a63d3df7",
   "metadata": {},
   "outputs": [],
   "source": [
    "usage_frequency_fam_status.to_clipboard()"
   ]
  },
  {
   "cell_type": "markdown",
   "id": "d2e292d9",
   "metadata": {},
   "source": [
    "#### 7.4 Parental Status"
   ]
  },
  {
   "cell_type": "code",
   "execution_count": 90,
   "id": "2a0d50b0",
   "metadata": {},
   "outputs": [],
   "source": [
    "# Expenditure by parental status \n",
    "\n",
    "expenditure_parental_status = df_final_new.groupby('parental_status').agg({'prices': ['mean', 'min', 'max']})"
   ]
  },
  {
   "cell_type": "code",
   "execution_count": 91,
   "id": "b4a0cb02",
   "metadata": {},
   "outputs": [
    {
     "data": {
      "text/html": [
       "<div>\n",
       "<style scoped>\n",
       "    .dataframe tbody tr th:only-of-type {\n",
       "        vertical-align: middle;\n",
       "    }\n",
       "\n",
       "    .dataframe tbody tr th {\n",
       "        vertical-align: top;\n",
       "    }\n",
       "\n",
       "    .dataframe thead tr th {\n",
       "        text-align: left;\n",
       "    }\n",
       "\n",
       "    .dataframe thead tr:last-of-type th {\n",
       "        text-align: right;\n",
       "    }\n",
       "</style>\n",
       "<table border=\"1\" class=\"dataframe\">\n",
       "  <thead>\n",
       "    <tr>\n",
       "      <th></th>\n",
       "      <th colspan=\"3\" halign=\"left\">prices</th>\n",
       "    </tr>\n",
       "    <tr>\n",
       "      <th></th>\n",
       "      <th>mean</th>\n",
       "      <th>min</th>\n",
       "      <th>max</th>\n",
       "    </tr>\n",
       "    <tr>\n",
       "      <th>parental_status</th>\n",
       "      <th></th>\n",
       "      <th></th>\n",
       "      <th></th>\n",
       "    </tr>\n",
       "  </thead>\n",
       "  <tbody>\n",
       "    <tr>\n",
       "      <th>not parent</th>\n",
       "      <td>12.102657</td>\n",
       "      <td>1.0</td>\n",
       "      <td>99999.0</td>\n",
       "    </tr>\n",
       "    <tr>\n",
       "      <th>parent</th>\n",
       "      <td>11.877157</td>\n",
       "      <td>1.0</td>\n",
       "      <td>99999.0</td>\n",
       "    </tr>\n",
       "  </tbody>\n",
       "</table>\n",
       "</div>"
      ],
      "text/plain": [
       "                    prices              \n",
       "                      mean  min      max\n",
       "parental_status                         \n",
       "not parent       12.102657  1.0  99999.0\n",
       "parent           11.877157  1.0  99999.0"
      ]
     },
     "execution_count": 91,
     "metadata": {},
     "output_type": "execute_result"
    }
   ],
   "source": [
    "expenditure_parental_status"
   ]
  },
  {
   "cell_type": "code",
   "execution_count": 92,
   "id": "84bf15de",
   "metadata": {},
   "outputs": [],
   "source": [
    "expenditure_parental_status.to_clipboard()"
   ]
  },
  {
   "cell_type": "code",
   "execution_count": 93,
   "id": "0e3a36fe",
   "metadata": {},
   "outputs": [],
   "source": [
    "# Usage frequency by parental status\n",
    "\n",
    "usage_frequency_parental_status = df_final_new.groupby('parental_status').agg({'days_since_prior_order': ['mean', 'min', 'max']})"
   ]
  },
  {
   "cell_type": "code",
   "execution_count": 94,
   "id": "cd25a596",
   "metadata": {},
   "outputs": [
    {
     "data": {
      "text/html": [
       "<div>\n",
       "<style scoped>\n",
       "    .dataframe tbody tr th:only-of-type {\n",
       "        vertical-align: middle;\n",
       "    }\n",
       "\n",
       "    .dataframe tbody tr th {\n",
       "        vertical-align: top;\n",
       "    }\n",
       "\n",
       "    .dataframe thead tr th {\n",
       "        text-align: left;\n",
       "    }\n",
       "\n",
       "    .dataframe thead tr:last-of-type th {\n",
       "        text-align: right;\n",
       "    }\n",
       "</style>\n",
       "<table border=\"1\" class=\"dataframe\">\n",
       "  <thead>\n",
       "    <tr>\n",
       "      <th></th>\n",
       "      <th colspan=\"3\" halign=\"left\">days_since_prior_order</th>\n",
       "    </tr>\n",
       "    <tr>\n",
       "      <th></th>\n",
       "      <th>mean</th>\n",
       "      <th>min</th>\n",
       "      <th>max</th>\n",
       "    </tr>\n",
       "    <tr>\n",
       "      <th>parental_status</th>\n",
       "      <th></th>\n",
       "      <th></th>\n",
       "      <th></th>\n",
       "    </tr>\n",
       "  </thead>\n",
       "  <tbody>\n",
       "    <tr>\n",
       "      <th>not parent</th>\n",
       "      <td>10.791951</td>\n",
       "      <td>0.0</td>\n",
       "      <td>30.0</td>\n",
       "    </tr>\n",
       "    <tr>\n",
       "      <th>parent</th>\n",
       "      <td>10.816416</td>\n",
       "      <td>0.0</td>\n",
       "      <td>30.0</td>\n",
       "    </tr>\n",
       "  </tbody>\n",
       "</table>\n",
       "</div>"
      ],
      "text/plain": [
       "                days_since_prior_order           \n",
       "                                  mean  min   max\n",
       "parental_status                                  \n",
       "not parent                   10.791951  0.0  30.0\n",
       "parent                       10.816416  0.0  30.0"
      ]
     },
     "execution_count": 94,
     "metadata": {},
     "output_type": "execute_result"
    }
   ],
   "source": [
    "usage_frequency_parental_status"
   ]
  },
  {
   "cell_type": "code",
   "execution_count": 95,
   "id": "b2b096af",
   "metadata": {},
   "outputs": [],
   "source": [
    "usage_frequency_parental_status.to_clipboard()"
   ]
  },
  {
   "cell_type": "markdown",
   "id": "da5ebeb7",
   "metadata": {},
   "source": [
    "### 8. Compare your customer profiles with regions and departments. Can you identify a link between them? Customers may demonstrate different behaviors across regions, which could make this information important."
   ]
  },
  {
   "cell_type": "markdown",
   "id": "7b2d6fa1",
   "metadata": {},
   "source": [
    "#### 8.1 Loyalty Status and Department"
   ]
  },
  {
   "cell_type": "code",
   "execution_count": 96,
   "id": "29a47c63",
   "metadata": {},
   "outputs": [],
   "source": [
    "# Are there differences in ordering habits based on a customer's loyalty status?\n",
    "\n",
    "crosstab_loyalty_status_dept = pd.crosstab(df_final_new['department'], df_final_new['loyalty_flag'], dropna = False)"
   ]
  },
  {
   "cell_type": "code",
   "execution_count": 97,
   "id": "05cd0b9f",
   "metadata": {},
   "outputs": [
    {
     "data": {
      "image/png": "[encoded data removed]",
      "text/plain": [
       "<Figure size 432x288 with 1 Axes>"
      ]
     },
     "metadata": {
      "needs_background": "light"
     },
     "output_type": "display_data"
    }
   ],
   "source": [
    "# Stacked bar chart \n",
    "\n",
    "bar_loyalty_status_dept = crosstab_loyalty_status_dept.plot(kind = 'bar', stacked = True, color = sns.color_palette('Greens_r',3))\n",
    "plt.tight_layout()"
   ]
  },
  {
   "cell_type": "code",
   "execution_count": 98,
   "id": "ff248b1e",
   "metadata": {},
   "outputs": [
    {
     "data": {
      "image/png": "[encoded data removed]",
      "text/plain": [
       "<Figure size 432x288 with 1 Axes>"
      ]
     },
     "metadata": {
      "needs_background": "light"
     },
     "output_type": "display_data"
    }
   ],
   "source": [
    "# 100 % Stacked Bar Chart\n",
    "\n",
    "bar_loyalty_status_dept_100 = crosstab_loyalty_status_dept.apply(lambda r: r/r.sum()*100, axis=1).plot(kind = 'bar', stacked = True, color = sns.color_palette('Greens_r',3))\n",
    "plt.tight_layout()"
   ]
  },
  {
   "cell_type": "code",
   "execution_count": 99,
   "id": "93e2bdbd",
   "metadata": {},
   "outputs": [],
   "source": [
    "# Export bar charts \n",
    "\n",
    "bar_loyalty_status_dept.figure.savefig(os.path.join(path, '04 Analysis','Visualizations', 'bar_loyalty_status_dept.png'))"
   ]
  },
  {
   "cell_type": "code",
   "execution_count": 100,
   "id": "4ea8fcac",
   "metadata": {},
   "outputs": [],
   "source": [
    "bar_loyalty_status_dept_100.figure.savefig(os.path.join(path, '04 Analysis','Visualizations', 'bar_loyalty_status_dept_100.png'))"
   ]
  },
  {
   "cell_type": "markdown",
   "id": "338b6638",
   "metadata": {},
   "source": [
    "#### 8.2 Region and Department"
   ]
  },
  {
   "cell_type": "code",
   "execution_count": 101,
   "id": "dcf383d1",
   "metadata": {
    "scrolled": true
   },
   "outputs": [
    {
     "data": {
      "text/plain": [
       "(array([0, 1, 2, 3]),\n",
       " [Text(0, 0, 'Midwest'),\n",
       "  Text(1, 0, 'Northeast'),\n",
       "  Text(2, 0, 'South'),\n",
       "  Text(3, 0, 'West')])"
      ]
     },
     "execution_count": 101,
     "metadata": {},
     "output_type": "execute_result"
    },
    {
     "data": {
      "image/png": "[encoded data removed]",
      "text/plain": [
       "<Figure size 432x288 with 1 Axes>"
      ]
     },
     "metadata": {
      "needs_background": "light"
     },
     "output_type": "display_data"
    }
   ],
   "source": [
    "# Creating a bar chart for region column\n",
    "# How are customers distributed across regions? \n",
    "\n",
    "region_bar = df_final_new['Region'].value_counts().sort_index().plot.bar(color = sns.color_palette('Blues_r', 4))\n",
    "plt.tight_layout()\n",
    "plt.xticks(rotation= 20, horizontalalignment=\"center\")"
   ]
  },
  {
   "cell_type": "code",
   "execution_count": 102,
   "id": "99a37dfd",
   "metadata": {},
   "outputs": [],
   "source": [
    "# Export bar chart \n",
    "\n",
    "region_bar.figure.savefig(os.path.join(path, '04 Analysis','Visualizations', 'region_bar.png'))"
   ]
  },
  {
   "cell_type": "code",
   "execution_count": 103,
   "id": "a1bb07cd",
   "metadata": {},
   "outputs": [],
   "source": [
    "# Are there differences in ordering habits based on a customer’s region? \n",
    "\n",
    "crosstab_region_department = pd.crosstab(df_final_new['department'], df_final_new['Region'], dropna = False)"
   ]
  },
  {
   "cell_type": "code",
   "execution_count": 104,
   "id": "83bc6a95",
   "metadata": {},
   "outputs": [
    {
     "data": {
      "image/png": "[encoded data removed]",
      "text/plain": [
       "<Figure size 432x288 with 1 Axes>"
      ]
     },
     "metadata": {
      "needs_background": "light"
     },
     "output_type": "display_data"
    }
   ],
   "source": [
    "# Stacked bar chart \n",
    "\n",
    "bar_region_department = crosstab_region_department.plot(kind = 'bar', stacked = True, color = sns.color_palette('Blues_r', 4))\n",
    "plt.tight_layout()"
   ]
  },
  {
   "cell_type": "code",
   "execution_count": 105,
   "id": "2c5a7ee2",
   "metadata": {},
   "outputs": [
    {
     "data": {
      "text/plain": [
       "<matplotlib.legend.Legend at 0x7fcd8919a6a0>"
      ]
     },
     "execution_count": 105,
     "metadata": {},
     "output_type": "execute_result"
    },
    {
     "data": {
      "image/png": "[encoded data removed]",
      "text/plain": [
       "<Figure size 432x288 with 1 Axes>"
      ]
     },
     "metadata": {
      "needs_background": "light"
     },
     "output_type": "display_data"
    }
   ],
   "source": [
    "# 100% stacked bar chart \n",
    "\n",
    "bar_region_department_100 = crosstab_region_department.apply(lambda r: r/r.sum()*100, axis=1).plot(kind = 'bar', stacked = True, color = sns.color_palette('Blues_r', 4))\n",
    "plt.tight_layout()\n",
    "plt.legend(loc='center left', bbox_to_anchor=(1, 0.5))"
   ]
  },
  {
   "cell_type": "code",
   "execution_count": 106,
   "id": "91ad8cb8",
   "metadata": {},
   "outputs": [],
   "source": [
    "# Export bar charts\n",
    "\n",
    "bar_region_department_100.figure.savefig(os.path.join(path, '04 Analysis','Visualizations', 'bar_region_department_100.png'))"
   ]
  },
  {
   "cell_type": "code",
   "execution_count": 107,
   "id": "f3969b0e",
   "metadata": {},
   "outputs": [],
   "source": [
    "bar_region_department.figure.savefig(os.path.join(path, '04 Analysis','Visualizations', 'bar_region_department.png'))"
   ]
  },
  {
   "cell_type": "markdown",
   "id": "ad8e6a90",
   "metadata": {},
   "source": [
    "#### 8.3 Parental Status "
   ]
  },
  {
   "cell_type": "markdown",
   "id": "8eeb0fe7",
   "metadata": {},
   "source": [
    "##### Parental Status and Region"
   ]
  },
  {
   "cell_type": "code",
   "execution_count": 108,
   "id": "c8db28bc",
   "metadata": {},
   "outputs": [],
   "source": [
    "# Crosstab for parental_status and region\n",
    "\n",
    "crosstab_parental_status_region = pd.crosstab(df_final_new['parental_status'], df_final_new['Region'], dropna = False)"
   ]
  },
  {
   "cell_type": "code",
   "execution_count": 109,
   "id": "bef71633",
   "metadata": {},
   "outputs": [
    {
     "data": {
      "image/png": "[encoded data removed]",
      "text/plain": [
       "<Figure size 432x288 with 1 Axes>"
      ]
     },
     "metadata": {
      "needs_background": "light"
     },
     "output_type": "display_data"
    }
   ],
   "source": [
    "# Stacked bar chart \n",
    "\n",
    "bar_parental_status_region = crosstab_parental_status_region.plot(kind = 'bar', stacked = True, color = sns.color_palette('Blues_r', 4))\n",
    "plt.xticks(rotation= 20, horizontalalignment=\"center\")\n",
    "plt.tight_layout()"
   ]
  },
  {
   "cell_type": "code",
   "execution_count": 110,
   "id": "b4689e29",
   "metadata": {},
   "outputs": [
    {
     "data": {
      "image/png": "[encoded data removed]",
      "text/plain": [
       "<Figure size 432x288 with 1 Axes>"
      ]
     },
     "metadata": {
      "needs_background": "light"
     },
     "output_type": "display_data"
    }
   ],
   "source": [
    "# 100 % Stacked Bar Chart\n",
    "\n",
    "bar_parental_status_region_100 = crosstab_parental_status_region.apply(lambda r: r/r.sum()*100, axis=1).plot(kind = 'bar', stacked = True, color = sns.color_palette('Blues_r', 4))\n",
    "plt.legend(loc='center left', bbox_to_anchor=(1, 0.5))\n",
    "plt.xticks(rotation= 20, horizontalalignment=\"center\")\n",
    "plt.tight_layout()"
   ]
  },
  {
   "cell_type": "markdown",
   "id": "b9e6996f",
   "metadata": {},
   "source": [
    "There is no difference in the number of parents / childless customers between states. "
   ]
  },
  {
   "cell_type": "code",
   "execution_count": 111,
   "id": "f5aae119",
   "metadata": {},
   "outputs": [],
   "source": [
    "# Export bar charts\n",
    "\n",
    "bar_parental_status_region.figure.savefig(os.path.join(path, '04 Analysis','Visualizations', 'bar_parental_status_region.png'))"
   ]
  },
  {
   "cell_type": "code",
   "execution_count": 112,
   "id": "62d5781b",
   "metadata": {},
   "outputs": [],
   "source": [
    "bar_parental_status_region_100.figure.savefig(os.path.join(path, '04 Analysis','Visualizations', 'bar_parental_status_region_100.png'))"
   ]
  },
  {
   "cell_type": "markdown",
   "id": "b5fad14b",
   "metadata": {},
   "source": [
    "##### Parental Status and Department "
   ]
  },
  {
   "cell_type": "code",
   "execution_count": 113,
   "id": "48407eb9",
   "metadata": {},
   "outputs": [
    {
     "data": {
      "image/png": "[encoded data removed]",
      "text/plain": [
       "<Figure size 432x288 with 1 Axes>"
      ]
     },
     "metadata": {
      "needs_background": "light"
     },
     "output_type": "display_data"
    }
   ],
   "source": [
    "# Creating a bar chart of orders per department \n",
    "\n",
    "bar_dept = df_final_new['department'].value_counts().plot.bar()\n",
    "plt.tight_layout()"
   ]
  },
  {
   "cell_type": "code",
   "execution_count": 114,
   "id": "cecce963",
   "metadata": {},
   "outputs": [],
   "source": [
    "# Export figure \n",
    "\n",
    "bar_dept.figure.savefig(os.path.join(path, '04 Analysis','Visualizations', 'bar_dept.png'))"
   ]
  },
  {
   "cell_type": "code",
   "execution_count": 115,
   "id": "87a1a8e1",
   "metadata": {},
   "outputs": [],
   "source": [
    "# Crosstab for parental_status and department\n",
    "\n",
    "crosstab_parental_status_dept = pd.crosstab(df_final_new['department'], df_final_new['parental_status'], dropna = False)"
   ]
  },
  {
   "cell_type": "markdown",
   "id": "f37acdf1",
   "metadata": {},
   "source": [
    "Most orders are from departments 4 and 16 e.g., the produce department and the dairy/eggs department. Most customers are parents. "
   ]
  },
  {
   "cell_type": "code",
   "execution_count": 116,
   "id": "fb838017",
   "metadata": {},
   "outputs": [
    {
     "data": {
      "image/png": "[encoded data removed]",
      "text/plain": [
       "<Figure size 432x288 with 1 Axes>"
      ]
     },
     "metadata": {
      "needs_background": "light"
     },
     "output_type": "display_data"
    }
   ],
   "source": [
    "# Stacked bar chart \n",
    "\n",
    "bar_parental_status_dept = crosstab_parental_status_dept.plot(kind = 'bar', stacked = True, color = sns.color_palette('rocket',2))\n",
    "plt.tight_layout()"
   ]
  },
  {
   "cell_type": "code",
   "execution_count": 117,
   "id": "2de86dc6",
   "metadata": {},
   "outputs": [],
   "source": [
    "# Export bar chart \n",
    "\n",
    "bar_parental_status_dept.figure.savefig(os.path.join(path, '04 Analysis','Visualizations', 'bar_parental_status_dept.png'))"
   ]
  },
  {
   "cell_type": "code",
   "execution_count": 118,
   "id": "c7f45f3c",
   "metadata": {},
   "outputs": [
    {
     "data": {
      "image/png": "[encoded data removed]",
      "text/plain": [
       "<Figure size 432x288 with 1 Axes>"
      ]
     },
     "metadata": {
      "needs_background": "light"
     },
     "output_type": "display_data"
    }
   ],
   "source": [
    "# 100% stacked bar chart \n",
    "\n",
    "bar_parental_status_dept_100 = crosstab_parental_status_dept.apply(lambda r: r/r.sum()*100, axis=1).plot(kind = 'bar', stacked = True, color = sns.color_palette('rocket',2))\n",
    "plt.tight_layout()"
   ]
  },
  {
   "cell_type": "markdown",
   "id": "32962674",
   "metadata": {},
   "source": [
    "There is no difference between the ordering habits of parents vs. non-parents."
   ]
  },
  {
   "cell_type": "code",
   "execution_count": 119,
   "id": "8c3a8892",
   "metadata": {},
   "outputs": [],
   "source": [
    "# Export bar chart \n",
    "\n",
    "bar_parental_status_dept_100.figure.savefig(os.path.join(path, '04 Analysis','Visualizations', 'bar_parental_status_dept_100.png'))"
   ]
  },
  {
   "cell_type": "markdown",
   "id": "5a7ec292",
   "metadata": {},
   "source": [
    "#### 8.4 Income "
   ]
  },
  {
   "cell_type": "markdown",
   "id": "a50d3c9b",
   "metadata": {},
   "source": [
    "##### Income and Region"
   ]
  },
  {
   "cell_type": "code",
   "execution_count": 120,
   "id": "ce16d597",
   "metadata": {},
   "outputs": [],
   "source": [
    "# Crosstab for income_categories and region\n",
    "\n",
    "crosstab_income_region = pd.crosstab(df_final_new['income_categories'], df_final_new['Region'], dropna = False)"
   ]
  },
  {
   "cell_type": "code",
   "execution_count": 121,
   "id": "aa2e905b",
   "metadata": {},
   "outputs": [
    {
     "data": {
      "image/png": "[encoded data removed]",
      "text/plain": [
       "<Figure size 432x288 with 1 Axes>"
      ]
     },
     "metadata": {
      "needs_background": "light"
     },
     "output_type": "display_data"
    }
   ],
   "source": [
    "# Stacked bar chart \n",
    "\n",
    "bar_crosstab_income_region = crosstab_income_region.plot(kind = 'bar', stacked = True, color = sns.color_palette('Blues_r', 4))\n",
    "plt.xticks(rotation= 20, horizontalalignment=\"center\")\n",
    "plt.tight_layout()"
   ]
  },
  {
   "cell_type": "code",
   "execution_count": 122,
   "id": "c20d881c",
   "metadata": {},
   "outputs": [
    {
     "data": {
      "image/png": "[encoded data removed]",
      "text/plain": [
       "<Figure size 432x288 with 1 Axes>"
      ]
     },
     "metadata": {
      "needs_background": "light"
     },
     "output_type": "display_data"
    }
   ],
   "source": [
    "# 100% stacked bar chart \n",
    "\n",
    "bar_crosstab_income_region_100 = crosstab_income_region.apply(lambda r: r/r.sum()*100, axis=1).plot(kind = 'bar', stacked = True, color = sns.color_palette('Blues_r', 4))\n",
    "plt.title('Income Across States')\n",
    "plt.legend(loc='center left', bbox_to_anchor=(1, 0.5))\n",
    "plt.xticks(rotation= 20, horizontalalignment=\"center\")\n",
    "plt.tight_layout()"
   ]
  },
  {
   "cell_type": "code",
   "execution_count": 123,
   "id": "f8f3a30f",
   "metadata": {},
   "outputs": [],
   "source": [
    "# Export bar charts\n",
    "\n",
    "bar_crosstab_income_region.figure.savefig(os.path.join(path, '04 Analysis','Visualizations', 'bar_crosstab_income_region.png'))"
   ]
  },
  {
   "cell_type": "code",
   "execution_count": 124,
   "id": "7b91f06c",
   "metadata": {},
   "outputs": [],
   "source": [
    "bar_crosstab_income_region_100.figure.savefig(os.path.join(path, '04 Analysis','Visualizations', 'bar_crosstab_income_region_100.png'))"
   ]
  },
  {
   "cell_type": "markdown",
   "id": "7c91e042",
   "metadata": {},
   "source": [
    "##### Income and Department"
   ]
  },
  {
   "cell_type": "code",
   "execution_count": 125,
   "id": "c724106f",
   "metadata": {},
   "outputs": [],
   "source": [
    "# Crosstab for income and department \n",
    "\n",
    "crosstab_income_dept = pd.crosstab(df_final_new['department'], df_final_new['income_categories'], dropna = False)"
   ]
  },
  {
   "cell_type": "code",
   "execution_count": 126,
   "id": "bbd02ec2",
   "metadata": {},
   "outputs": [
    {
     "data": {
      "image/png": "[encoded data removed]",
      "text/plain": [
       "<Figure size 432x288 with 1 Axes>"
      ]
     },
     "metadata": {
      "needs_background": "light"
     },
     "output_type": "display_data"
    }
   ],
   "source": [
    "# Stacked bar chart \n",
    "\n",
    "bar_crosstab_income_dept = crosstab_income_dept.plot(kind = 'bar', stacked = True, color = sns.color_palette('YlOrBr_r', 6))\n",
    "plt.legend(loc='center left', bbox_to_anchor=(1, 0.5))\n",
    "plt.tight_layout()"
   ]
  },
  {
   "cell_type": "code",
   "execution_count": 127,
   "id": "36981859",
   "metadata": {},
   "outputs": [
    {
     "data": {
      "image/png": "[encoded data removed]",
      "text/plain": [
       "<Figure size 432x288 with 1 Axes>"
      ]
     },
     "metadata": {
      "needs_background": "light"
     },
     "output_type": "display_data"
    }
   ],
   "source": [
    "# 100% stacked bar chart \n",
    "\n",
    "bar_crosstab_income_dept_100 = crosstab_income_dept.apply(lambda r: r/r.sum()*100, axis=1).plot(kind = 'bar', stacked = True, color = sns.color_palette('YlOrBr_r', 6))\n",
    "plt.legend(loc='center left', bbox_to_anchor=(1, 0.5))\n",
    "plt.tight_layout()"
   ]
  },
  {
   "cell_type": "code",
   "execution_count": 128,
   "id": "e71447eb",
   "metadata": {},
   "outputs": [],
   "source": [
    "# Export bar charts\n",
    "\n",
    "bar_crosstab_income_dept.figure.savefig(os.path.join(path, '04 Analysis','Visualizations', 'bar_crosstab_income_dept.png'))"
   ]
  },
  {
   "cell_type": "code",
   "execution_count": 129,
   "id": "d99fcef2",
   "metadata": {},
   "outputs": [],
   "source": [
    "bar_crosstab_income_dept_100.figure.savefig(os.path.join(path, '04 Analysis','Visualizations', 'bar_crosstab_income_dept_100.png'))"
   ]
  },
  {
   "cell_type": "markdown",
   "id": "08354ffc",
   "metadata": {},
   "source": [
    "#### 8.5 Age"
   ]
  },
  {
   "cell_type": "markdown",
   "id": "e155dfcb",
   "metadata": {},
   "source": [
    "##### Age and Region"
   ]
  },
  {
   "cell_type": "code",
   "execution_count": 130,
   "id": "4a94016a",
   "metadata": {},
   "outputs": [],
   "source": [
    "crosstab_age_region = pd.crosstab(df_final_new['age_brackets'], df_final_new['Region'], dropna = False)"
   ]
  },
  {
   "cell_type": "code",
   "execution_count": 131,
   "id": "30f640b6",
   "metadata": {},
   "outputs": [
    {
     "data": {
      "image/png": "[encoded data removed]",
      "text/plain": [
       "<Figure size 432x288 with 1 Axes>"
      ]
     },
     "metadata": {
      "needs_background": "light"
     },
     "output_type": "display_data"
    }
   ],
   "source": [
    "# Stacked bar chart \n",
    "\n",
    "bar_crosstab_age_region = crosstab_age_region.plot(kind = 'bar', stacked = True, color = sns.color_palette('Blues_r', 4))\n",
    "plt.legend(loc='center left', bbox_to_anchor=(1, 0.5))\n",
    "plt.xticks(rotation= 20, horizontalalignment=\"center\")\n",
    "plt.tight_layout()"
   ]
  },
  {
   "cell_type": "code",
   "execution_count": 132,
   "id": "2cf9f464",
   "metadata": {},
   "outputs": [
    {
     "data": {
      "image/png": "[encoded data removed]",
      "text/plain": [
       "<Figure size 432x288 with 1 Axes>"
      ]
     },
     "metadata": {
      "needs_background": "light"
     },
     "output_type": "display_data"
    }
   ],
   "source": [
    "# 100% stacked bar chart \n",
    "\n",
    "bar_crosstab_age_region_100 = crosstab_age_region.apply(lambda r: r/r.sum()*100, axis=1).plot(kind = 'bar', stacked = True, color = sns.color_palette('Blues_r', 4))\n",
    "plt.legend(loc='center left', bbox_to_anchor=(1, 0.5))\n",
    "plt.xticks(rotation= 20, horizontalalignment=\"center\")\n",
    "plt.tight_layout()"
   ]
  },
  {
   "cell_type": "markdown",
   "id": "1b17a037",
   "metadata": {},
   "source": [
    "There is no difference in the distribution of age groups accross states! "
   ]
  },
  {
   "cell_type": "code",
   "execution_count": 133,
   "id": "c896728f",
   "metadata": {},
   "outputs": [],
   "source": [
    "# Export bar charts \n",
    "\n",
    "bar_crosstab_age_region.figure.savefig(os.path.join(path, '04 Analysis','Visualizations', 'bar_crosstab_age_region.png'))"
   ]
  },
  {
   "cell_type": "code",
   "execution_count": 134,
   "id": "369d1884",
   "metadata": {},
   "outputs": [],
   "source": [
    "bar_crosstab_age_region_100.figure.savefig(os.path.join(path, '04 Analysis','Visualizations', 'bar_crosstab_age_region_100.png'))"
   ]
  },
  {
   "cell_type": "markdown",
   "id": "d1c7adf3",
   "metadata": {},
   "source": [
    "##### Age and Department "
   ]
  },
  {
   "cell_type": "code",
   "execution_count": 135,
   "id": "ad6f6d1d",
   "metadata": {},
   "outputs": [],
   "source": [
    "# Crosstab for age and department \n",
    "\n",
    "crosstab_age_department = pd.crosstab(df_final_new['department'], df_final_new['age_brackets'], dropna = False)"
   ]
  },
  {
   "cell_type": "code",
   "execution_count": 136,
   "id": "e762e9d9",
   "metadata": {},
   "outputs": [
    {
     "data": {
      "image/png": "[encoded data removed]",
      "text/plain": [
       "<Figure size 432x288 with 1 Axes>"
      ]
     },
     "metadata": {
      "needs_background": "light"
     },
     "output_type": "display_data"
    }
   ],
   "source": [
    "# Stacked bar chart \n",
    "\n",
    "bar_crosstab_age_department = crosstab_age_department.plot(kind = 'bar', stacked = True, color = sns.color_palette('YlGnBu_r', 8))\n",
    "plt.tight_layout()"
   ]
  },
  {
   "cell_type": "code",
   "execution_count": 137,
   "id": "2fc5e7cc",
   "metadata": {},
   "outputs": [
    {
     "data": {
      "image/png": "[encoded data removed]",
      "text/plain": [
       "<Figure size 432x288 with 1 Axes>"
      ]
     },
     "metadata": {
      "needs_background": "light"
     },
     "output_type": "display_data"
    }
   ],
   "source": [
    "# 100% stacked bar chart \n",
    "\n",
    "bar_crosstab_age_department_100 = crosstab_age_department.apply(lambda r: r/r.sum()*100, axis=1).plot(kind = 'bar', stacked = True, color = sns.color_palette('YlGnBu_r',8))\n",
    "plt.legend(loc='center left', bbox_to_anchor=(1, 0.5))\n",
    "plt.tight_layout()"
   ]
  },
  {
   "cell_type": "code",
   "execution_count": 138,
   "id": "a80ea9a4",
   "metadata": {},
   "outputs": [],
   "source": [
    "# Export bar charts \n",
    "\n",
    "bar_crosstab_age_department.figure.savefig(os.path.join(path, '04 Analysis','Visualizations', 'bar_crosstab_age_department.png'))"
   ]
  },
  {
   "cell_type": "code",
   "execution_count": 139,
   "id": "bb3ba08d",
   "metadata": {},
   "outputs": [],
   "source": [
    "# Export bar charts \n",
    "\n",
    "bar_crosstab_age_department_100.figure.savefig(os.path.join(path, '04 Analysis','Visualizations', 'bar_crosstab_age_department_100.png'))"
   ]
  },
  {
   "cell_type": "markdown",
   "id": "15b2d00c",
   "metadata": {},
   "source": [
    "#### 8.6 Family Status "
   ]
  },
  {
   "cell_type": "markdown",
   "id": "dbc52a54",
   "metadata": {},
   "source": [
    "##### Family Status and Region"
   ]
  },
  {
   "cell_type": "code",
   "execution_count": 140,
   "id": "866d3f4f",
   "metadata": {},
   "outputs": [],
   "source": [
    "# Crosstab for family status and region \n",
    "\n",
    "crosstab_familystatus_region = pd.crosstab(df_final_new['fam_status'], df_final_new['Region'], dropna = False)"
   ]
  },
  {
   "cell_type": "code",
   "execution_count": 141,
   "id": "626d06c8",
   "metadata": {},
   "outputs": [
    {
     "data": {
      "image/png": "[encoded data removed]",
      "text/plain": [
       "<Figure size 432x288 with 1 Axes>"
      ]
     },
     "metadata": {
      "needs_background": "light"
     },
     "output_type": "display_data"
    }
   ],
   "source": [
    "# 100% stacked bar chart: distribution of family status across regions \n",
    "\n",
    "bar_crosstab_familystatus_region_100 = crosstab_familystatus_region.apply(lambda r: r/r.sum()*100, axis=1).plot(kind = 'bar', stacked = True, color = sns.color_palette('Blues_r', 4))\n",
    "plt.legend(loc='center left', bbox_to_anchor=(1, 0.5))\n",
    "plt.xticks(rotation= 40, horizontalalignment=\"center\")\n",
    "plt.tight_layout()"
   ]
  },
  {
   "cell_type": "markdown",
   "id": "b56d68a2",
   "metadata": {},
   "source": [
    "There is no difference between the distribution of people who single/married/divorced/living with parents between states. "
   ]
  },
  {
   "cell_type": "markdown",
   "id": "47011200",
   "metadata": {},
   "source": [
    "##### Family Status and Department "
   ]
  },
  {
   "cell_type": "code",
   "execution_count": 142,
   "id": "93b05011",
   "metadata": {},
   "outputs": [],
   "source": [
    "# Crosstab for family status and department \n",
    "\n",
    "crosstab_famstat_department = pd.crosstab(df_final_new['department'], df_final_new['fam_status'], dropna = False)"
   ]
  },
  {
   "cell_type": "code",
   "execution_count": 143,
   "id": "5fe48c32",
   "metadata": {},
   "outputs": [
    {
     "data": {
      "image/png": "[encoded data removed]",
      "text/plain": [
       "<Figure size 432x288 with 1 Axes>"
      ]
     },
     "metadata": {
      "needs_background": "light"
     },
     "output_type": "display_data"
    }
   ],
   "source": [
    "# Stacked bar chart\n",
    "\n",
    "bar_crosstab_famstat_department = crosstab_famstat_department.sort_index().plot(kind = 'bar', stacked = True, color = sns.color_palette('Set2', 4))\n",
    "plt.tight_layout()"
   ]
  },
  {
   "cell_type": "code",
   "execution_count": 144,
   "id": "21ec5576",
   "metadata": {},
   "outputs": [
    {
     "data": {
      "image/png": "[encoded data removed]",
      "text/plain": [
       "<Figure size 432x288 with 1 Axes>"
      ]
     },
     "metadata": {
      "needs_background": "light"
     },
     "output_type": "display_data"
    }
   ],
   "source": [
    "# 100% stacked bar chart\n",
    "\n",
    "bar_crosstab_famstat_department_100 = crosstab_famstat_department.sort_index().apply(lambda r: r/r.sum()*100, axis=1).plot(kind = 'bar', stacked = True, color = sns.color_palette('Set2', 4))\n",
    "plt.tight_layout()"
   ]
  },
  {
   "cell_type": "code",
   "execution_count": 145,
   "id": "b1f76c72",
   "metadata": {},
   "outputs": [],
   "source": [
    "# Export bar charts \n",
    "\n",
    "bar_crosstab_famstat_department.figure.savefig(os.path.join(path, '04 Analysis','Visualizations', 'bar_crosstab_famstat_department.png'))"
   ]
  },
  {
   "cell_type": "code",
   "execution_count": 146,
   "id": "0e7bd65a",
   "metadata": {},
   "outputs": [],
   "source": [
    "bar_crosstab_famstat_department_100.figure.savefig(os.path.join(path, '04 Analysis','Visualizations', 'bar_crosstab_famstat_department_100.png'))"
   ]
  },
  {
   "cell_type": "markdown",
   "id": "59d3a74b",
   "metadata": {},
   "source": [
    "### 9. Answering Remaining Questions from the Project Brief"
   ]
  },
  {
   "cell_type": "markdown",
   "id": "fcfae3f6",
   "metadata": {},
   "source": [
    "#### Key Question 2: Are there particular times when people spend the most money? "
   ]
  },
  {
   "cell_type": "code",
   "execution_count": 147,
   "id": "6476b124",
   "metadata": {},
   "outputs": [],
   "source": [
    "# Calculate the mean price per hour\n",
    "\n",
    "prices_hour = df_final_new.groupby('order_hour_of_day').agg({'prices': ['mean']})"
   ]
  },
  {
   "cell_type": "code",
   "execution_count": 148,
   "id": "226daa21",
   "metadata": {},
   "outputs": [
    {
     "data": {
      "text/html": [
       "<div>\n",
       "<style scoped>\n",
       "    .dataframe tbody tr th:only-of-type {\n",
       "        vertical-align: middle;\n",
       "    }\n",
       "\n",
       "    .dataframe tbody tr th {\n",
       "        vertical-align: top;\n",
       "    }\n",
       "\n",
       "    .dataframe thead tr th {\n",
       "        text-align: left;\n",
       "    }\n",
       "\n",
       "    .dataframe thead tr:last-of-type th {\n",
       "        text-align: right;\n",
       "    }\n",
       "</style>\n",
       "<table border=\"1\" class=\"dataframe\">\n",
       "  <thead>\n",
       "    <tr>\n",
       "      <th></th>\n",
       "      <th>prices</th>\n",
       "    </tr>\n",
       "    <tr>\n",
       "      <th></th>\n",
       "      <th>mean</th>\n",
       "    </tr>\n",
       "    <tr>\n",
       "      <th>order_hour_of_day</th>\n",
       "      <th></th>\n",
       "    </tr>\n",
       "  </thead>\n",
       "  <tbody>\n",
       "    <tr>\n",
       "      <th>0</th>\n",
       "      <td>10.491177</td>\n",
       "    </tr>\n",
       "    <tr>\n",
       "      <th>1</th>\n",
       "      <td>9.980347</td>\n",
       "    </tr>\n",
       "    <tr>\n",
       "      <th>2</th>\n",
       "      <td>14.863998</td>\n",
       "    </tr>\n",
       "    <tr>\n",
       "      <th>3</th>\n",
       "      <td>13.236278</td>\n",
       "    </tr>\n",
       "    <tr>\n",
       "      <th>4</th>\n",
       "      <td>12.452253</td>\n",
       "    </tr>\n",
       "    <tr>\n",
       "      <th>5</th>\n",
       "      <td>12.846391</td>\n",
       "    </tr>\n",
       "    <tr>\n",
       "      <th>6</th>\n",
       "      <td>11.915574</td>\n",
       "    </tr>\n",
       "    <tr>\n",
       "      <th>7</th>\n",
       "      <td>12.279888</td>\n",
       "    </tr>\n",
       "    <tr>\n",
       "      <th>8</th>\n",
       "      <td>12.339529</td>\n",
       "    </tr>\n",
       "    <tr>\n",
       "      <th>9</th>\n",
       "      <td>11.719666</td>\n",
       "    </tr>\n",
       "    <tr>\n",
       "      <th>10</th>\n",
       "      <td>11.930566</td>\n",
       "    </tr>\n",
       "    <tr>\n",
       "      <th>11</th>\n",
       "      <td>12.171934</td>\n",
       "    </tr>\n",
       "    <tr>\n",
       "      <th>12</th>\n",
       "      <td>11.889440</td>\n",
       "    </tr>\n",
       "    <tr>\n",
       "      <th>13</th>\n",
       "      <td>11.463481</td>\n",
       "    </tr>\n",
       "    <tr>\n",
       "      <th>14</th>\n",
       "      <td>11.764339</td>\n",
       "    </tr>\n",
       "    <tr>\n",
       "      <th>15</th>\n",
       "      <td>12.057148</td>\n",
       "    </tr>\n",
       "    <tr>\n",
       "      <th>16</th>\n",
       "      <td>12.472870</td>\n",
       "    </tr>\n",
       "    <tr>\n",
       "      <th>17</th>\n",
       "      <td>12.555121</td>\n",
       "    </tr>\n",
       "    <tr>\n",
       "      <th>18</th>\n",
       "      <td>11.937432</td>\n",
       "    </tr>\n",
       "    <tr>\n",
       "      <th>19</th>\n",
       "      <td>12.497242</td>\n",
       "    </tr>\n",
       "    <tr>\n",
       "      <th>20</th>\n",
       "      <td>11.614746</td>\n",
       "    </tr>\n",
       "    <tr>\n",
       "      <th>21</th>\n",
       "      <td>11.022991</td>\n",
       "    </tr>\n",
       "    <tr>\n",
       "      <th>22</th>\n",
       "      <td>10.063172</td>\n",
       "    </tr>\n",
       "    <tr>\n",
       "      <th>23</th>\n",
       "      <td>10.413373</td>\n",
       "    </tr>\n",
       "  </tbody>\n",
       "</table>\n",
       "</div>"
      ],
      "text/plain": [
       "                      prices\n",
       "                        mean\n",
       "order_hour_of_day           \n",
       "0                  10.491177\n",
       "1                   9.980347\n",
       "2                  14.863998\n",
       "3                  13.236278\n",
       "4                  12.452253\n",
       "5                  12.846391\n",
       "6                  11.915574\n",
       "7                  12.279888\n",
       "8                  12.339529\n",
       "9                  11.719666\n",
       "10                 11.930566\n",
       "11                 12.171934\n",
       "12                 11.889440\n",
       "13                 11.463481\n",
       "14                 11.764339\n",
       "15                 12.057148\n",
       "16                 12.472870\n",
       "17                 12.555121\n",
       "18                 11.937432\n",
       "19                 12.497242\n",
       "20                 11.614746\n",
       "21                 11.022991\n",
       "22                 10.063172\n",
       "23                 10.413373"
      ]
     },
     "execution_count": 148,
     "metadata": {},
     "output_type": "execute_result"
    }
   ],
   "source": [
    "prices_hour"
   ]
  },
  {
   "cell_type": "code",
   "execution_count": 149,
   "id": "3e9dab11",
   "metadata": {},
   "outputs": [
    {
     "data": {
      "text/plain": [
       "Text(0, 0.5, 'mean_price')"
      ]
     },
     "execution_count": 149,
     "metadata": {},
     "output_type": "execute_result"
    },
    {
     "data": {
      "image/png": "[encoded data removed]",
      "text/plain": [
       "<Figure size 432x288 with 1 Axes>"
      ]
     },
     "metadata": {
      "needs_background": "light"
     },
     "output_type": "display_data"
    }
   ],
   "source": [
    "# Create a line chart of mean prices per hour of the day \n",
    "\n",
    "mean_price_line_chart = prices_hour.plot.line(legend = False)\n",
    "plt.ylabel('mean_price')"
   ]
  },
  {
   "cell_type": "code",
   "execution_count": 150,
   "id": "67465439",
   "metadata": {},
   "outputs": [],
   "source": [
    "# Export line chart\n",
    "\n",
    "mean_price_line_chart.figure.savefig(os.path.join(path, '04 Analysis','Visualizations', 'mean_price_line_chart.png'))"
   ]
  },
  {
   "cell_type": "code",
   "execution_count": null,
   "id": "b7e7c442",
   "metadata": {},
   "outputs": [],
   "source": [
    "# Export final data set \n",
    "\n",
    "df_final_new.to_pickle(os.path.join(path, '02 Data','Prepared Data', 'orders_products_all.pkl'))"
   ]
  },
  {
   "cell_type": "code",
   "execution_count": null,
   "id": "ed419e0c",
   "metadata": {},
   "outputs": [],
   "source": []
  }
 ],
 "metadata": {
  "kernelspec": {
   "display_name": "Python 3",
   "language": "python",
   "name": "python3"
  },
  "language_info": {
   "codemirror_mode": {
    "name": "ipython",
    "version": 3
   },
   "file_extension": ".py",
   "mimetype": "text/x-python",
   "name": "python",
   "nbconvert_exporter": "python",
   "pygments_lexer": "ipython3",
   "version": "3.8.8"
  }
 },
 "nbformat": 4,
 "nbformat_minor": 5
}
